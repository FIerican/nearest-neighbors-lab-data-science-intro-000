{
 "cells": [
  {
   "cell_type": "markdown",
   "metadata": {},
   "source": [
    "# Nearest Neighbors Lab"
   ]
  },
  {
   "cell_type": "markdown",
   "metadata": {},
   "source": [
    "### Introduction\n",
    "\n",
    "In this lab, you apply nearest neighbors technique to help a taxi company predict the length of their rides.  Imagine that we are hired to consult for LiftOff, a limo and taxi service that is just opening up in NYC.  Liftoff wants it's taxi drivers to target longer rides, as the longer the ride the more money it makes.  LiftOff has the following theory:\n",
    "\n",
    "* the pickup location of a taxi ride can help predict the length of the ride.  \n",
    "\n",
    "\n",
    "\n",
    "LiftOff asks us to do some analysis to write a function that will allow it to **predict the length of a taxi ride for any given location **.\n",
    "\n",
    "Our technique will be the following:\n",
    "  * **Collect** Obtain the data containing all of the taxi information, and only select the attributes of taxi trips that we need \n",
    "  * ** Explore ** Examine the attributes of our data, and plot some of our data on a map\n",
    "  * ** Train ** Write our nearest neighbors formula, and change the number of nearby trips to predict the length of a new trip\n",
    "  * ** Predict ** Use our function to predict trip lengths of new locations"
   ]
  },
  {
   "cell_type": "markdown",
   "metadata": {},
   "source": [
    "### Collect and Explore the data"
   ]
  },
  {
   "cell_type": "markdown",
   "metadata": {},
   "source": [
    "#### Collect the Data"
   ]
  },
  {
   "cell_type": "markdown",
   "metadata": {},
   "source": [
    "Luckily for us, [NYC Open Data](https://opendata.cityofnewyork.us/) collects information about NYC taxi trips and provides this data on [its website](https://data.cityofnewyork.us/Transportation/2014-Yellow-Taxi-Trip-Data/gn7m-em8n)."
   ]
  },
  {
   "cell_type": "markdown",
   "metadata": {},
   "source": [
    "![](./nyc-taxi.png)"
   ]
  },
  {
   "cell_type": "markdown",
   "metadata": {},
   "source": [
    "For your reading pleasure, the data has already been downloaded into the [trips.json](https://github.com/learn-co-curriculum/nearest-neighbors-lab/blob/master/trips.json) file in this lab which you can find here.  We'll use Python's `json` library to take the data from the `trips.json` file and store it as a variable in our notebook."
   ]
  },
  {
   "cell_type": "code",
   "execution_count": 1,
   "metadata": {},
   "outputs": [],
   "source": [
    "import json\n",
    "# First, read the file\n",
    "trips_file = open('trips.json')\n",
    "# Then, convert contents to list of dictionaries \n",
    "trips = json.load(trips_file)"
   ]
  },
  {
   "cell_type": "markdown",
   "metadata": {},
   "source": [
    "> Press shift + enter"
   ]
  },
  {
   "cell_type": "markdown",
   "metadata": {},
   "source": [
    "#### Explore the data"
   ]
  },
  {
   "cell_type": "markdown",
   "metadata": {},
   "source": [
    "The next step is to explore the data.  First, let's see how many trips we have."
   ]
  },
  {
   "cell_type": "code",
   "execution_count": 2,
   "metadata": {},
   "outputs": [
    {
     "data": {
      "text/plain": [
       "1000"
      ]
     },
     "execution_count": 2,
     "metadata": {},
     "output_type": "execute_result"
    }
   ],
   "source": [
    "len(trips)"
   ]
  },
  {
   "cell_type": "markdown",
   "metadata": {},
   "source": [
    "Not bad at all.  Now let's see what each individual trip looks like.  Each trip is a dictionary, so we can see the attributes of each trip with the `keys` function."
   ]
  },
  {
   "cell_type": "code",
   "execution_count": 3,
   "metadata": {
    "scrolled": true
   },
   "outputs": [
    {
     "data": {
      "text/plain": [
       "dict_keys(['dropoff_datetime', 'dropoff_latitude', 'dropoff_longitude', 'fare_amount', 'imp_surcharge', 'mta_tax', 'passenger_count', 'payment_type', 'pickup_datetime', 'pickup_latitude', 'pickup_longitude', 'rate_code', 'tip_amount', 'tolls_amount', 'total_amount', 'trip_distance', 'vendor_id'])"
      ]
     },
     "execution_count": 3,
     "metadata": {},
     "output_type": "execute_result"
    }
   ],
   "source": [
    "trips[0].keys()"
   ]
  },
  {
   "cell_type": "markdown",
   "metadata": {},
   "source": [
    "#### Limit our data"
   ]
  },
  {
   "cell_type": "markdown",
   "metadata": {},
   "source": [
    "Ok, now that we have explored some of our data, let's begin to think through what data is relevant for our task."
   ]
  },
  {
   "cell_type": "markdown",
   "metadata": {
    "collapsed": true
   },
   "source": [
    "Remember that our task is to **use the trip location to predict the length of a trip**.  So let's select the `pickup_latitude`, `pickup_longitude`, and `trip_distance` from each trip.  That will give us the trip location and related `trip_distance` for each trip.  Then based on these **actual** trip distances we can use nearest neighbors to predict an **expected** trip distance for a trip, provided an **actual** location."
   ]
  },
  {
   "cell_type": "markdown",
   "metadata": {},
   "source": [
    "** Add in about trip distance ** "
   ]
  },
  {
   "cell_type": "markdown",
   "metadata": {},
   "source": [
    "Write a function called `parse_trips(trips)` that returns a list of the trips with only the following attributes: \n",
    "* `trip_distance`\n",
    "* `pickup_latitude`\n",
    "* `pickup_longitude`"
   ]
  },
  {
   "cell_type": "code",
   "execution_count": 6,
   "metadata": {},
   "outputs": [],
   "source": [
    "def parse_trips(trips):\n",
    "    return list(map(lambda trip: dict(trip_distance=trip['trip_distance'], pickup_latitude=trip['pickup_latitude'],pickup_longitude=trip['pickup_longitude']),trips))"
   ]
  },
  {
   "cell_type": "code",
   "execution_count": 7,
   "metadata": {},
   "outputs": [
    {
     "data": {
      "text/plain": [
       "{'trip_distance': '18.379999999999999',\n",
       " 'pickup_latitude': '40.64499',\n",
       " 'pickup_longitude': '-73.781149999999997'}"
      ]
     },
     "execution_count": 7,
     "metadata": {},
     "output_type": "execute_result"
    }
   ],
   "source": [
    "parsed_trips = parse_trips(trips)\n",
    "parsed_trips and parsed_trips[0]\n",
    "\n",
    "# {'pickup_latitude': '40.64499',\n",
    "#  'pickup_longitude': '-73.78115',\n",
    "#  'trip_distance': '18.38'}"
   ]
  },
  {
   "cell_type": "markdown",
   "metadata": {},
   "source": [
    "Now, there's just one change to make.  If you look at one of the trips, all of the values are strings.  Let's change them to be floats."
   ]
  },
  {
   "cell_type": "code",
   "execution_count": 9,
   "metadata": {},
   "outputs": [],
   "source": [
    "def float_values(trips):    \n",
    "    return list(map(lambda trip: {'trip_distance': float(trip['trip_distance']),'pickup_latitude': float(trip['pickup_latitude']), 'pickup_longitude': float(trip['pickup_longitude'])}, trips))"
   ]
  },
  {
   "cell_type": "code",
   "execution_count": 10,
   "metadata": {},
   "outputs": [],
   "source": [
    "cleaned_trips = float_values(parsed_trips)"
   ]
  },
  {
   "cell_type": "code",
   "execution_count": 11,
   "metadata": {},
   "outputs": [
    {
     "data": {
      "text/plain": [
       "{'trip_distance': 18.38,\n",
       " 'pickup_latitude': 40.64499,\n",
       " 'pickup_longitude': -73.78115}"
      ]
     },
     "execution_count": 11,
     "metadata": {},
     "output_type": "execute_result"
    }
   ],
   "source": [
    "cleaned_trips[0]\n",
    "\n",
    "# {'pickup_latitude': 40.64499,\n",
    "#  'pickup_longitude': -73.78115,\n",
    "#  'trip_distance': 18.38}"
   ]
  },
  {
   "cell_type": "markdown",
   "metadata": {},
   "source": [
    "### Exploring the Data"
   ]
  },
  {
   "cell_type": "markdown",
   "metadata": {},
   "source": [
    "Now that we have paired down our data, let's get a sense of our trip data.  We can use the `folium` Python library to plot a map of Manhattan, and our data.  First we must import `folium`, and then use the `Map` function to pass through a `location`, and `zoom_start`.  If a map isn't showing up below, copy and paste the command `pip install -r requirements.txt` into your terminal to install `folium` then try again."
   ]
  },
  {
   "cell_type": "code",
   "execution_count": 12,
   "metadata": {},
   "outputs": [],
   "source": [
    "import folium\n",
    "manhattan_map = folium.Map(location=[40.7589, -73.9851], zoom_start=11)"
   ]
  },
  {
   "cell_type": "code",
   "execution_count": 13,
   "metadata": {
    "scrolled": true
   },
   "outputs": [
    {
     "data": {
      "text/html": [
       "<div style=\"width:100%;\"><div style=\"position:relative;width:100%;height:0;padding-bottom:60%;\"><iframe src=\"data:text/html;charset=utf-8;base64,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\" style=\"position:absolute;width:100%;height:100%;left:0;top:0;border:none !important;\" allowfullscreen webkitallowfullscreen mozallowfullscreen></iframe></div></div>"
      ],
      "text/plain": [
       "<folium.folium.Map at 0x7fba12003898>"
      ]
     },
     "execution_count": 13,
     "metadata": {},
     "output_type": "execute_result"
    }
   ],
   "source": [
    "manhattan_map"
   ]
  },
  {
   "cell_type": "markdown",
   "metadata": {},
   "source": [
    "Ok, now let's see how we could add a dot to mark a specific location.  We'll start with Times Square."
   ]
  },
  {
   "cell_type": "code",
   "execution_count": 16,
   "metadata": {},
   "outputs": [
    {
     "data": {
      "text/plain": [
       "<folium.vector_layers.CircleMarker at 0x7fb9e47e0438>"
      ]
     },
     "execution_count": 16,
     "metadata": {},
     "output_type": "execute_result"
    }
   ],
   "source": [
    "marker = folium.CircleMarker(location = [40.7589, -73.9851], radius=6)\n",
    "marker.add_to(manhattan_map)"
   ]
  },
  {
   "cell_type": "markdown",
   "metadata": {},
   "source": [
    "Above, we first create a marker.  Then we add that circle marker to the `manhattan_map` we created earlier. "
   ]
  },
  {
   "cell_type": "code",
   "execution_count": 17,
   "metadata": {
    "scrolled": false
   },
   "outputs": [
    {
     "data": {
      "text/html": [
       "<div style=\"width:100%;\"><div style=\"position:relative;width:100%;height:0;padding-bottom:60%;\"><iframe src=\"data:text/html;charset=utf-8;base64,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\" style=\"position:absolute;width:100%;height:100%;left:0;top:0;border:none !important;\" allowfullscreen webkitallowfullscreen mozallowfullscreen></iframe></div></div>"
      ],
      "text/plain": [
       "<folium.folium.Map at 0x7fba12003898>"
      ]
     },
     "execution_count": 17,
     "metadata": {},
     "output_type": "execute_result"
    }
   ],
   "source": [
    "manhattan_map"
   ]
  },
  {
   "cell_type": "markdown",
   "metadata": {},
   "source": [
    "Do you see that blue dot near Time's Square?  That is our marker.  \n",
    "\n",
    "So now that we can plot one marker on a map, we should have a sense of how we can plot many markers on a map to display our taxi ride data.  We simply plot a map, and then we add a marker for each location of a taxi trip.\n",
    "\n",
    "Now let's write some functions to allow us to plot maps and add markers a little more easily.  "
   ]
  },
  {
   "cell_type": "markdown",
   "metadata": {},
   "source": [
    "#### Writing some map plotting functions"
   ]
  },
  {
   "cell_type": "markdown",
   "metadata": {},
   "source": [
    "As a first step towards this, note that the functions to create both a marker and map each take in a location as two element list, representing the latitude and longitude values.  Take another look:\n",
    "\n",
    "```python\n",
    "marker = folium.CircleMarker(location = [40.7589, -73.9851])\n",
    "manhattan_map = folium.Map(location=[40.7589, -73.9851])\n",
    "```\n",
    "\n",
    "So let's write a function called to create this two element list from a trip.  Write a function called `location` that  takes in a trip as an argument and returns a list where the first element is the latitude and the second is the longitude.  Remember that a location looks like the following:"
   ]
  },
  {
   "cell_type": "code",
   "execution_count": 20,
   "metadata": {
    "scrolled": true
   },
   "outputs": [
    {
     "data": {
      "text/plain": [
       "{'pickup_latitude': 40.64499,\n",
       " 'pickup_longitude': -73.78115,\n",
       " 'trip_distance': 18.38}"
      ]
     },
     "execution_count": 20,
     "metadata": {},
     "output_type": "execute_result"
    }
   ],
   "source": [
    "first_trip = {'pickup_latitude': 40.64499, 'pickup_longitude': -73.78115,  'trip_distance': 18.38}\n",
    "first_trip"
   ]
  },
  {
   "cell_type": "code",
   "execution_count": 18,
   "metadata": {},
   "outputs": [],
   "source": [
    "def location(trip):\n",
    "    return [trip['pickup_latitude'], trip['pickup_longitude']]"
   ]
  },
  {
   "cell_type": "code",
   "execution_count": 21,
   "metadata": {},
   "outputs": [
    {
     "data": {
      "text/plain": [
       "[40.64499, -73.78115]"
      ]
     },
     "execution_count": 21,
     "metadata": {},
     "output_type": "execute_result"
    }
   ],
   "source": [
    "first_location = location(first_trip) # [40.64499, -73.78115]\n",
    "first_location # [40.64499, -73.78115]"
   ]
  },
  {
   "cell_type": "markdown",
   "metadata": {},
   "source": [
    "Ok, now that we can turn a trip into a location, let's turn a location into a marker.  Write a function called `to_marker` that takes in a location (in the form of a list) as an argument, and returns a folium `circleMarker` for that location.  The radius of the marker should always equal 6."
   ]
  },
  {
   "cell_type": "code",
   "execution_count": 26,
   "metadata": {},
   "outputs": [],
   "source": [
    "def to_marker(location):\n",
    "    return folium.CircleMarker(location, radius=6)"
   ]
  },
  {
   "cell_type": "code",
   "execution_count": 28,
   "metadata": {},
   "outputs": [
    {
     "ename": "TypeError",
     "evalue": "the JSON object must be str, bytes or bytearray, not 'dict'",
     "output_type": "error",
     "traceback": [
      "\u001b[0;31m\u001b[0m",
      "\u001b[0;31mTypeError\u001b[0mTraceback (most recent call last)",
      "\u001b[0;32m<ipython-input-28-aea535683066>\u001b[0m in \u001b[0;36m<module>\u001b[0;34m\u001b[0m\n\u001b[1;32m      3\u001b[0m \u001b[0;34m\u001b[0m\u001b[0m\n\u001b[1;32m      4\u001b[0m \u001b[0mtimes_square_marker\u001b[0m \u001b[0;32mand\u001b[0m \u001b[0mtimes_square_marker\u001b[0m\u001b[0;34m.\u001b[0m\u001b[0mlocation\u001b[0m \u001b[0;31m# [40.7589, -73.9851]\u001b[0m\u001b[0;34m\u001b[0m\u001b[0;34m\u001b[0m\u001b[0m\n\u001b[0;32m----> 5\u001b[0;31m \u001b[0mtimes_square_marker\u001b[0m \u001b[0;32mand\u001b[0m \u001b[0mjson\u001b[0m\u001b[0;34m.\u001b[0m\u001b[0mloads\u001b[0m\u001b[0;34m(\u001b[0m\u001b[0mtimes_square_marker\u001b[0m\u001b[0;34m.\u001b[0m\u001b[0moptions\u001b[0m\u001b[0;34m)\u001b[0m\u001b[0;34m[\u001b[0m\u001b[0;34m'radius'\u001b[0m\u001b[0;34m]\u001b[0m \u001b[0;31m# 6\u001b[0m\u001b[0;34m\u001b[0m\u001b[0;34m\u001b[0m\u001b[0m\n\u001b[0m",
      "\u001b[0;32m/opt/conda/envs/learn-env/lib/python3.6/json/__init__.py\u001b[0m in \u001b[0;36mloads\u001b[0;34m(s, encoding, cls, object_hook, parse_float, parse_int, parse_constant, object_pairs_hook, **kw)\u001b[0m\n\u001b[1;32m    346\u001b[0m         \u001b[0;32mif\u001b[0m \u001b[0;32mnot\u001b[0m \u001b[0misinstance\u001b[0m\u001b[0;34m(\u001b[0m\u001b[0ms\u001b[0m\u001b[0;34m,\u001b[0m \u001b[0;34m(\u001b[0m\u001b[0mbytes\u001b[0m\u001b[0;34m,\u001b[0m \u001b[0mbytearray\u001b[0m\u001b[0;34m)\u001b[0m\u001b[0;34m)\u001b[0m\u001b[0;34m:\u001b[0m\u001b[0;34m\u001b[0m\u001b[0;34m\u001b[0m\u001b[0m\n\u001b[1;32m    347\u001b[0m             raise TypeError('the JSON object must be str, bytes or bytearray, '\n\u001b[0;32m--> 348\u001b[0;31m                             'not {!r}'.format(s.__class__.__name__))\n\u001b[0m\u001b[1;32m    349\u001b[0m         \u001b[0ms\u001b[0m \u001b[0;34m=\u001b[0m \u001b[0ms\u001b[0m\u001b[0;34m.\u001b[0m\u001b[0mdecode\u001b[0m\u001b[0;34m(\u001b[0m\u001b[0mdetect_encoding\u001b[0m\u001b[0;34m(\u001b[0m\u001b[0ms\u001b[0m\u001b[0;34m)\u001b[0m\u001b[0;34m,\u001b[0m \u001b[0;34m'surrogatepass'\u001b[0m\u001b[0;34m)\u001b[0m\u001b[0;34m\u001b[0m\u001b[0;34m\u001b[0m\u001b[0m\n\u001b[1;32m    350\u001b[0m \u001b[0;34m\u001b[0m\u001b[0m\n",
      "\u001b[0;31mTypeError\u001b[0m: the JSON object must be str, bytes or bytearray, not 'dict'"
     ]
    }
   ],
   "source": [
    "import json\n",
    "times_square_marker = to_marker([40.7589, -73.9851])\n",
    "\n",
    "times_square_marker and times_square_marker.location # [40.7589, -73.9851]\n",
    "times_square_marker and json.loads(times_square_marker.options)['radius'] # 6"
   ]
  },
  {
   "cell_type": "markdown",
   "metadata": {},
   "source": [
    "Ok, now that we know how to produce a single marker, let's write a function to produce lots.  We can write a function called `markers_from_trips` that takes in a list of trips, and returns a marker object for each trip.  "
   ]
  },
  {
   "cell_type": "code",
   "execution_count": 30,
   "metadata": {},
   "outputs": [],
   "source": [
    "def markers_from_trips(trips):\n",
    "    return list(map(lambda trip: to_marker(location(trip)),trips))"
   ]
  },
  {
   "cell_type": "code",
   "execution_count": 33,
   "metadata": {},
   "outputs": [
    {
     "data": {
      "text/plain": [
       "[<folium.vector_layers.CircleMarker at 0x7fb9e46c8d68>,\n",
       " <folium.vector_layers.CircleMarker at 0x7fb9e46c8fd0>,\n",
       " <folium.vector_layers.CircleMarker at 0x7fb9e46c8e10>,\n",
       " <folium.vector_layers.CircleMarker at 0x7fb9e46c8e48>,\n",
       " <folium.vector_layers.CircleMarker at 0x7fb9e46c8e80>,\n",
       " <folium.vector_layers.CircleMarker at 0x7fb9e46c8f28>,\n",
       " <folium.vector_layers.CircleMarker at 0x7fb9e46c8f98>,\n",
       " <folium.vector_layers.CircleMarker at 0x7fb9e4656080>,\n",
       " <folium.vector_layers.CircleMarker at 0x7fb9e46560b8>,\n",
       " <folium.vector_layers.CircleMarker at 0x7fb9e46560f0>,\n",
       " <folium.vector_layers.CircleMarker at 0x7fb9e4656128>,\n",
       " <folium.vector_layers.CircleMarker at 0x7fb9e4656160>,\n",
       " <folium.vector_layers.CircleMarker at 0x7fb9e4656198>,\n",
       " <folium.vector_layers.CircleMarker at 0x7fb9e46561d0>,\n",
       " <folium.vector_layers.CircleMarker at 0x7fb9e4656208>,\n",
       " <folium.vector_layers.CircleMarker at 0x7fb9e4656240>,\n",
       " <folium.vector_layers.CircleMarker at 0x7fb9e4656278>,\n",
       " <folium.vector_layers.CircleMarker at 0x7fb9e46562b0>,\n",
       " <folium.vector_layers.CircleMarker at 0x7fb9e46562e8>,\n",
       " <folium.vector_layers.CircleMarker at 0x7fb9e4656320>,\n",
       " <folium.vector_layers.CircleMarker at 0x7fb9e4656358>,\n",
       " <folium.vector_layers.CircleMarker at 0x7fb9e4656390>,\n",
       " <folium.vector_layers.CircleMarker at 0x7fb9e46563c8>,\n",
       " <folium.vector_layers.CircleMarker at 0x7fb9e4656400>,\n",
       " <folium.vector_layers.CircleMarker at 0x7fb9e4656438>,\n",
       " <folium.vector_layers.CircleMarker at 0x7fb9e4656470>,\n",
       " <folium.vector_layers.CircleMarker at 0x7fb9e46564a8>,\n",
       " <folium.vector_layers.CircleMarker at 0x7fb9e46564e0>,\n",
       " <folium.vector_layers.CircleMarker at 0x7fb9e4656518>,\n",
       " <folium.vector_layers.CircleMarker at 0x7fb9e4656550>,\n",
       " <folium.vector_layers.CircleMarker at 0x7fb9e4656588>,\n",
       " <folium.vector_layers.CircleMarker at 0x7fb9e46565c0>,\n",
       " <folium.vector_layers.CircleMarker at 0x7fb9e46565f8>,\n",
       " <folium.vector_layers.CircleMarker at 0x7fb9e4656630>,\n",
       " <folium.vector_layers.CircleMarker at 0x7fb9e4656668>,\n",
       " <folium.vector_layers.CircleMarker at 0x7fb9e47d2240>,\n",
       " <folium.vector_layers.CircleMarker at 0x7fb9e46566a0>,\n",
       " <folium.vector_layers.CircleMarker at 0x7fb9e46566d8>,\n",
       " <folium.vector_layers.CircleMarker at 0x7fb9e4656710>,\n",
       " <folium.vector_layers.CircleMarker at 0x7fb9e4656748>,\n",
       " <folium.vector_layers.CircleMarker at 0x7fb9e4656780>,\n",
       " <folium.vector_layers.CircleMarker at 0x7fb9e46567b8>,\n",
       " <folium.vector_layers.CircleMarker at 0x7fb9e46567f0>,\n",
       " <folium.vector_layers.CircleMarker at 0x7fb9e4656828>,\n",
       " <folium.vector_layers.CircleMarker at 0x7fb9e4656898>,\n",
       " <folium.vector_layers.CircleMarker at 0x7fb9e46568d0>,\n",
       " <folium.vector_layers.CircleMarker at 0x7fb9e4656908>,\n",
       " <folium.vector_layers.CircleMarker at 0x7fb9e4656940>,\n",
       " <folium.vector_layers.CircleMarker at 0x7fb9e4656860>,\n",
       " <folium.vector_layers.CircleMarker at 0x7fb9e4656978>,\n",
       " <folium.vector_layers.CircleMarker at 0x7fb9e46569b0>,\n",
       " <folium.vector_layers.CircleMarker at 0x7fb9e46569e8>,\n",
       " <folium.vector_layers.CircleMarker at 0x7fb9e4656a20>,\n",
       " <folium.vector_layers.CircleMarker at 0x7fb9e46c8eb8>,\n",
       " <folium.vector_layers.CircleMarker at 0x7fb9e46c8f60>,\n",
       " <folium.vector_layers.CircleMarker at 0x7fb9e46c8ef0>,\n",
       " <folium.vector_layers.CircleMarker at 0x7fb9e4656a90>,\n",
       " <folium.vector_layers.CircleMarker at 0x7fb9e4656ac8>,\n",
       " <folium.vector_layers.CircleMarker at 0x7fb9e4656b00>,\n",
       " <folium.vector_layers.CircleMarker at 0x7fb9e4656b38>,\n",
       " <folium.vector_layers.CircleMarker at 0x7fb9e4656b70>,\n",
       " <folium.vector_layers.CircleMarker at 0x7fb9e4656ba8>,\n",
       " <folium.vector_layers.CircleMarker at 0x7fb9e4656be0>,\n",
       " <folium.vector_layers.CircleMarker at 0x7fb9e4656c18>,\n",
       " <folium.vector_layers.CircleMarker at 0x7fb9e4656c50>,\n",
       " <folium.vector_layers.CircleMarker at 0x7fb9e4656c88>,\n",
       " <folium.vector_layers.CircleMarker at 0x7fb9e4656cc0>,\n",
       " <folium.vector_layers.CircleMarker at 0x7fb9e4656cf8>,\n",
       " <folium.vector_layers.CircleMarker at 0x7fb9e4656d30>,\n",
       " <folium.vector_layers.CircleMarker at 0x7fb9e4656d68>,\n",
       " <folium.vector_layers.CircleMarker at 0x7fb9e4656da0>,\n",
       " <folium.vector_layers.CircleMarker at 0x7fb9e4656dd8>,\n",
       " <folium.vector_layers.CircleMarker at 0x7fb9e4656e10>,\n",
       " <folium.vector_layers.CircleMarker at 0x7fb9e4656e48>,\n",
       " <folium.vector_layers.CircleMarker at 0x7fb9e4656e80>,\n",
       " <folium.vector_layers.CircleMarker at 0x7fb9e4656eb8>,\n",
       " <folium.vector_layers.CircleMarker at 0x7fb9e4656ef0>,\n",
       " <folium.vector_layers.CircleMarker at 0x7fb9e4656f28>,\n",
       " <folium.vector_layers.CircleMarker at 0x7fb9e4656f60>,\n",
       " <folium.vector_layers.CircleMarker at 0x7fb9e4656f98>,\n",
       " <folium.vector_layers.CircleMarker at 0x7fb9e4656fd0>,\n",
       " <folium.vector_layers.CircleMarker at 0x7fb9e4656048>,\n",
       " <folium.vector_layers.CircleMarker at 0x7fb9e4663080>,\n",
       " <folium.vector_layers.CircleMarker at 0x7fb9e46630b8>,\n",
       " <folium.vector_layers.CircleMarker at 0x7fb9e46630f0>,\n",
       " <folium.vector_layers.CircleMarker at 0x7fb9e4663128>,\n",
       " <folium.vector_layers.CircleMarker at 0x7fb9e4663160>,\n",
       " <folium.vector_layers.CircleMarker at 0x7fb9e4663198>,\n",
       " <folium.vector_layers.CircleMarker at 0x7fb9e46631d0>,\n",
       " <folium.vector_layers.CircleMarker at 0x7fb9e4663208>,\n",
       " <folium.vector_layers.CircleMarker at 0x7fb9e4663240>,\n",
       " <folium.vector_layers.CircleMarker at 0x7fb9e4663278>,\n",
       " <folium.vector_layers.CircleMarker at 0x7fb9e46632b0>,\n",
       " <folium.vector_layers.CircleMarker at 0x7fb9e46632e8>,\n",
       " <folium.vector_layers.CircleMarker at 0x7fb9e4663320>,\n",
       " <folium.vector_layers.CircleMarker at 0x7fb9e4663358>,\n",
       " <folium.vector_layers.CircleMarker at 0x7fb9e4663390>,\n",
       " <folium.vector_layers.CircleMarker at 0x7fb9e46633c8>,\n",
       " <folium.vector_layers.CircleMarker at 0x7fb9e4663400>,\n",
       " <folium.vector_layers.CircleMarker at 0x7fb9e4663438>,\n",
       " <folium.vector_layers.CircleMarker at 0x7fb9e4663470>,\n",
       " <folium.vector_layers.CircleMarker at 0x7fb9e46634a8>,\n",
       " <folium.vector_layers.CircleMarker at 0x7fb9e46634e0>,\n",
       " <folium.vector_layers.CircleMarker at 0x7fb9e4663518>,\n",
       " <folium.vector_layers.CircleMarker at 0x7fb9e4663550>,\n",
       " <folium.vector_layers.CircleMarker at 0x7fb9e4663588>,\n",
       " <folium.vector_layers.CircleMarker at 0x7fb9e46635c0>,\n",
       " <folium.vector_layers.CircleMarker at 0x7fb9e46635f8>,\n",
       " <folium.vector_layers.CircleMarker at 0x7fb9e4663630>,\n",
       " <folium.vector_layers.CircleMarker at 0x7fb9e4663668>,\n",
       " <folium.vector_layers.CircleMarker at 0x7fb9e46636a0>,\n",
       " <folium.vector_layers.CircleMarker at 0x7fb9e46636d8>,\n",
       " <folium.vector_layers.CircleMarker at 0x7fb9e4663710>,\n",
       " <folium.vector_layers.CircleMarker at 0x7fb9e4663748>,\n",
       " <folium.vector_layers.CircleMarker at 0x7fb9e4663780>,\n",
       " <folium.vector_layers.CircleMarker at 0x7fb9e46637b8>,\n",
       " <folium.vector_layers.CircleMarker at 0x7fb9e46637f0>,\n",
       " <folium.vector_layers.CircleMarker at 0x7fb9e4663828>,\n",
       " <folium.vector_layers.CircleMarker at 0x7fb9e4663860>,\n",
       " <folium.vector_layers.CircleMarker at 0x7fb9e4663898>,\n",
       " <folium.vector_layers.CircleMarker at 0x7fb9e46638d0>,\n",
       " <folium.vector_layers.CircleMarker at 0x7fb9e4663908>,\n",
       " <folium.vector_layers.CircleMarker at 0x7fb9e4663940>,\n",
       " <folium.vector_layers.CircleMarker at 0x7fb9e4663978>,\n",
       " <folium.vector_layers.CircleMarker at 0x7fb9e46639b0>,\n",
       " <folium.vector_layers.CircleMarker at 0x7fb9e46639e8>,\n",
       " <folium.vector_layers.CircleMarker at 0x7fb9e4663a20>,\n",
       " <folium.vector_layers.CircleMarker at 0x7fb9e4663a58>,\n",
       " <folium.vector_layers.CircleMarker at 0x7fb9e4663a90>,\n",
       " <folium.vector_layers.CircleMarker at 0x7fb9e4663ac8>,\n",
       " <folium.vector_layers.CircleMarker at 0x7fb9e4663b00>,\n",
       " <folium.vector_layers.CircleMarker at 0x7fb9e4663b38>,\n",
       " <folium.vector_layers.CircleMarker at 0x7fb9e4663b70>,\n",
       " <folium.vector_layers.CircleMarker at 0x7fb9e4663ba8>,\n",
       " <folium.vector_layers.CircleMarker at 0x7fb9e4663be0>,\n",
       " <folium.vector_layers.CircleMarker at 0x7fb9e4663c18>,\n",
       " <folium.vector_layers.CircleMarker at 0x7fb9e4663c50>,\n",
       " <folium.vector_layers.CircleMarker at 0x7fb9e4663c88>,\n",
       " <folium.vector_layers.CircleMarker at 0x7fb9e4663cc0>,\n",
       " <folium.vector_layers.CircleMarker at 0x7fb9e4663cf8>,\n",
       " <folium.vector_layers.CircleMarker at 0x7fb9e4663d30>,\n",
       " <folium.vector_layers.CircleMarker at 0x7fb9e4663d68>,\n",
       " <folium.vector_layers.CircleMarker at 0x7fb9e4663da0>,\n",
       " <folium.vector_layers.CircleMarker at 0x7fb9e4663dd8>,\n",
       " <folium.vector_layers.CircleMarker at 0x7fb9e4663e10>,\n",
       " <folium.vector_layers.CircleMarker at 0x7fb9e4663e48>,\n",
       " <folium.vector_layers.CircleMarker at 0x7fb9e4663e80>,\n",
       " <folium.vector_layers.CircleMarker at 0x7fb9e4663eb8>,\n",
       " <folium.vector_layers.CircleMarker at 0x7fb9e4663ef0>,\n",
       " <folium.vector_layers.CircleMarker at 0x7fb9e4663f28>,\n",
       " <folium.vector_layers.CircleMarker at 0x7fb9e4663f60>,\n",
       " <folium.vector_layers.CircleMarker at 0x7fb9e4663f98>,\n",
       " <folium.vector_layers.CircleMarker at 0x7fb9e4663fd0>,\n",
       " <folium.vector_layers.CircleMarker at 0x7fb9e4663048>,\n",
       " <folium.vector_layers.CircleMarker at 0x7fb9e4672080>,\n",
       " <folium.vector_layers.CircleMarker at 0x7fb9e46720b8>,\n",
       " <folium.vector_layers.CircleMarker at 0x7fb9e46720f0>,\n",
       " <folium.vector_layers.CircleMarker at 0x7fb9e4672128>,\n",
       " <folium.vector_layers.CircleMarker at 0x7fb9e4672160>,\n",
       " <folium.vector_layers.CircleMarker at 0x7fb9e4672198>,\n",
       " <folium.vector_layers.CircleMarker at 0x7fb9e46721d0>,\n",
       " <folium.vector_layers.CircleMarker at 0x7fb9e4672208>,\n",
       " <folium.vector_layers.CircleMarker at 0x7fb9e4672240>,\n",
       " <folium.vector_layers.CircleMarker at 0x7fb9e4672278>,\n",
       " <folium.vector_layers.CircleMarker at 0x7fb9e46722b0>,\n",
       " <folium.vector_layers.CircleMarker at 0x7fb9e46722e8>,\n",
       " <folium.vector_layers.CircleMarker at 0x7fb9e4672320>,\n",
       " <folium.vector_layers.CircleMarker at 0x7fb9e4672358>,\n",
       " <folium.vector_layers.CircleMarker at 0x7fb9e4672390>,\n",
       " <folium.vector_layers.CircleMarker at 0x7fb9e46723c8>,\n",
       " <folium.vector_layers.CircleMarker at 0x7fb9e4672400>,\n",
       " <folium.vector_layers.CircleMarker at 0x7fb9e4672438>,\n",
       " <folium.vector_layers.CircleMarker at 0x7fb9e4672470>,\n",
       " <folium.vector_layers.CircleMarker at 0x7fb9e46724a8>,\n",
       " <folium.vector_layers.CircleMarker at 0x7fb9e46724e0>,\n",
       " <folium.vector_layers.CircleMarker at 0x7fb9e4672518>,\n",
       " <folium.vector_layers.CircleMarker at 0x7fb9e4672550>,\n",
       " <folium.vector_layers.CircleMarker at 0x7fb9e4672588>,\n",
       " <folium.vector_layers.CircleMarker at 0x7fb9e46725c0>,\n",
       " <folium.vector_layers.CircleMarker at 0x7fb9e46725f8>,\n",
       " <folium.vector_layers.CircleMarker at 0x7fb9e4672630>,\n",
       " <folium.vector_layers.CircleMarker at 0x7fb9e4672668>,\n",
       " <folium.vector_layers.CircleMarker at 0x7fb9e46726a0>,\n",
       " <folium.vector_layers.CircleMarker at 0x7fb9e46726d8>,\n",
       " <folium.vector_layers.CircleMarker at 0x7fb9e4672710>,\n",
       " <folium.vector_layers.CircleMarker at 0x7fb9e4672748>,\n",
       " <folium.vector_layers.CircleMarker at 0x7fb9e4672780>,\n",
       " <folium.vector_layers.CircleMarker at 0x7fb9e46727b8>,\n",
       " <folium.vector_layers.CircleMarker at 0x7fb9e46727f0>,\n",
       " <folium.vector_layers.CircleMarker at 0x7fb9e4672828>,\n",
       " <folium.vector_layers.CircleMarker at 0x7fb9e4672860>,\n",
       " <folium.vector_layers.CircleMarker at 0x7fb9e4672898>,\n",
       " <folium.vector_layers.CircleMarker at 0x7fb9e46728d0>,\n",
       " <folium.vector_layers.CircleMarker at 0x7fb9e4672908>,\n",
       " <folium.vector_layers.CircleMarker at 0x7fb9e4672940>,\n",
       " <folium.vector_layers.CircleMarker at 0x7fb9e4672978>,\n",
       " <folium.vector_layers.CircleMarker at 0x7fb9e46729b0>,\n",
       " <folium.vector_layers.CircleMarker at 0x7fb9e46729e8>,\n",
       " <folium.vector_layers.CircleMarker at 0x7fb9e4672a20>,\n",
       " <folium.vector_layers.CircleMarker at 0x7fb9e4672a58>,\n",
       " <folium.vector_layers.CircleMarker at 0x7fb9e4672a90>,\n",
       " <folium.vector_layers.CircleMarker at 0x7fb9e4672ac8>,\n",
       " <folium.vector_layers.CircleMarker at 0x7fb9e4672b00>,\n",
       " <folium.vector_layers.CircleMarker at 0x7fb9e4672b38>,\n",
       " <folium.vector_layers.CircleMarker at 0x7fb9e4672b70>,\n",
       " <folium.vector_layers.CircleMarker at 0x7fb9e4672ba8>,\n",
       " <folium.vector_layers.CircleMarker at 0x7fb9e4672be0>,\n",
       " <folium.vector_layers.CircleMarker at 0x7fb9e4672c18>,\n",
       " <folium.vector_layers.CircleMarker at 0x7fb9e4672c50>,\n",
       " <folium.vector_layers.CircleMarker at 0x7fb9e4672c88>,\n",
       " <folium.vector_layers.CircleMarker at 0x7fb9e4672cc0>,\n",
       " <folium.vector_layers.CircleMarker at 0x7fb9e4672cf8>,\n",
       " <folium.vector_layers.CircleMarker at 0x7fb9e4672d30>,\n",
       " <folium.vector_layers.CircleMarker at 0x7fb9e4672d68>,\n",
       " <folium.vector_layers.CircleMarker at 0x7fb9e4672da0>,\n",
       " <folium.vector_layers.CircleMarker at 0x7fb9e4672dd8>,\n",
       " <folium.vector_layers.CircleMarker at 0x7fb9e4672e10>,\n",
       " <folium.vector_layers.CircleMarker at 0x7fb9e4672e48>,\n",
       " <folium.vector_layers.CircleMarker at 0x7fb9e4672e80>,\n",
       " <folium.vector_layers.CircleMarker at 0x7fb9e4672eb8>,\n",
       " <folium.vector_layers.CircleMarker at 0x7fb9e4672ef0>,\n",
       " <folium.vector_layers.CircleMarker at 0x7fb9e4672f28>,\n",
       " <folium.vector_layers.CircleMarker at 0x7fb9e4672f60>,\n",
       " <folium.vector_layers.CircleMarker at 0x7fb9e4672f98>,\n",
       " <folium.vector_layers.CircleMarker at 0x7fb9e4672fd0>,\n",
       " <folium.vector_layers.CircleMarker at 0x7fb9e4672048>,\n",
       " <folium.vector_layers.CircleMarker at 0x7fb9e467f080>,\n",
       " <folium.vector_layers.CircleMarker at 0x7fb9e467f0b8>,\n",
       " <folium.vector_layers.CircleMarker at 0x7fb9e467f0f0>,\n",
       " <folium.vector_layers.CircleMarker at 0x7fb9e467f128>,\n",
       " <folium.vector_layers.CircleMarker at 0x7fb9e467f160>,\n",
       " <folium.vector_layers.CircleMarker at 0x7fb9e467f198>,\n",
       " <folium.vector_layers.CircleMarker at 0x7fb9e467f1d0>,\n",
       " <folium.vector_layers.CircleMarker at 0x7fb9e467f208>,\n",
       " <folium.vector_layers.CircleMarker at 0x7fb9e467f240>,\n",
       " <folium.vector_layers.CircleMarker at 0x7fb9e467f278>,\n",
       " <folium.vector_layers.CircleMarker at 0x7fb9e467f2b0>,\n",
       " <folium.vector_layers.CircleMarker at 0x7fb9e467f2e8>,\n",
       " <folium.vector_layers.CircleMarker at 0x7fb9e467f320>,\n",
       " <folium.vector_layers.CircleMarker at 0x7fb9e467f358>,\n",
       " <folium.vector_layers.CircleMarker at 0x7fb9e467f390>,\n",
       " <folium.vector_layers.CircleMarker at 0x7fb9e467f3c8>,\n",
       " <folium.vector_layers.CircleMarker at 0x7fb9e467f400>,\n",
       " <folium.vector_layers.CircleMarker at 0x7fb9e467f438>,\n",
       " <folium.vector_layers.CircleMarker at 0x7fb9e467f470>,\n",
       " <folium.vector_layers.CircleMarker at 0x7fb9e467f4a8>,\n",
       " <folium.vector_layers.CircleMarker at 0x7fb9e467f4e0>,\n",
       " <folium.vector_layers.CircleMarker at 0x7fb9e467f518>,\n",
       " <folium.vector_layers.CircleMarker at 0x7fb9e467f550>,\n",
       " <folium.vector_layers.CircleMarker at 0x7fb9e467f588>,\n",
       " <folium.vector_layers.CircleMarker at 0x7fb9e467f5c0>,\n",
       " <folium.vector_layers.CircleMarker at 0x7fb9e467f5f8>,\n",
       " <folium.vector_layers.CircleMarker at 0x7fb9e467f630>,\n",
       " <folium.vector_layers.CircleMarker at 0x7fb9e467f668>,\n",
       " <folium.vector_layers.CircleMarker at 0x7fb9e467f6a0>,\n",
       " <folium.vector_layers.CircleMarker at 0x7fb9e467f6d8>,\n",
       " <folium.vector_layers.CircleMarker at 0x7fb9e467f710>,\n",
       " <folium.vector_layers.CircleMarker at 0x7fb9e467f748>,\n",
       " <folium.vector_layers.CircleMarker at 0x7fb9e467f780>,\n",
       " <folium.vector_layers.CircleMarker at 0x7fb9e467f7b8>,\n",
       " <folium.vector_layers.CircleMarker at 0x7fb9e467f7f0>,\n",
       " <folium.vector_layers.CircleMarker at 0x7fb9e467f828>,\n",
       " <folium.vector_layers.CircleMarker at 0x7fb9e467f860>,\n",
       " <folium.vector_layers.CircleMarker at 0x7fb9e467f898>,\n",
       " <folium.vector_layers.CircleMarker at 0x7fb9e467f8d0>,\n",
       " <folium.vector_layers.CircleMarker at 0x7fb9e467f908>,\n",
       " <folium.vector_layers.CircleMarker at 0x7fb9e467f940>,\n",
       " <folium.vector_layers.CircleMarker at 0x7fb9e467f978>,\n",
       " <folium.vector_layers.CircleMarker at 0x7fb9e467f9b0>,\n",
       " <folium.vector_layers.CircleMarker at 0x7fb9e467f9e8>,\n",
       " <folium.vector_layers.CircleMarker at 0x7fb9e467fa20>,\n",
       " <folium.vector_layers.CircleMarker at 0x7fb9e467fa58>,\n",
       " <folium.vector_layers.CircleMarker at 0x7fb9e467fa90>,\n",
       " <folium.vector_layers.CircleMarker at 0x7fb9e467fac8>,\n",
       " <folium.vector_layers.CircleMarker at 0x7fb9e467fb00>,\n",
       " <folium.vector_layers.CircleMarker at 0x7fb9e467fb38>,\n",
       " <folium.vector_layers.CircleMarker at 0x7fb9e467fb70>,\n",
       " <folium.vector_layers.CircleMarker at 0x7fb9e467fba8>,\n",
       " <folium.vector_layers.CircleMarker at 0x7fb9e467fbe0>,\n",
       " <folium.vector_layers.CircleMarker at 0x7fb9e467fc18>,\n",
       " <folium.vector_layers.CircleMarker at 0x7fb9e467fc50>,\n",
       " <folium.vector_layers.CircleMarker at 0x7fb9e467fc88>,\n",
       " <folium.vector_layers.CircleMarker at 0x7fb9e467fcc0>,\n",
       " <folium.vector_layers.CircleMarker at 0x7fb9e467fcf8>,\n",
       " <folium.vector_layers.CircleMarker at 0x7fb9e467fd30>,\n",
       " <folium.vector_layers.CircleMarker at 0x7fb9e467fd68>,\n",
       " <folium.vector_layers.CircleMarker at 0x7fb9e467fda0>,\n",
       " <folium.vector_layers.CircleMarker at 0x7fb9e467fdd8>,\n",
       " <folium.vector_layers.CircleMarker at 0x7fb9e467fe10>,\n",
       " <folium.vector_layers.CircleMarker at 0x7fb9e467fe48>,\n",
       " <folium.vector_layers.CircleMarker at 0x7fb9e467fe80>,\n",
       " <folium.vector_layers.CircleMarker at 0x7fb9e467feb8>,\n",
       " <folium.vector_layers.CircleMarker at 0x7fb9e467fef0>,\n",
       " <folium.vector_layers.CircleMarker at 0x7fb9e467ff28>,\n",
       " <folium.vector_layers.CircleMarker at 0x7fb9e467ff60>,\n",
       " <folium.vector_layers.CircleMarker at 0x7fb9e467ff98>,\n",
       " <folium.vector_layers.CircleMarker at 0x7fb9e467ffd0>,\n",
       " <folium.vector_layers.CircleMarker at 0x7fb9e467f048>,\n",
       " <folium.vector_layers.CircleMarker at 0x7fb9e460c048>,\n",
       " <folium.vector_layers.CircleMarker at 0x7fb9e460c0b8>,\n",
       " <folium.vector_layers.CircleMarker at 0x7fb9e460c0f0>,\n",
       " <folium.vector_layers.CircleMarker at 0x7fb9e460c128>,\n",
       " <folium.vector_layers.CircleMarker at 0x7fb9e460c160>,\n",
       " <folium.vector_layers.CircleMarker at 0x7fb9e460c198>,\n",
       " <folium.vector_layers.CircleMarker at 0x7fb9e460c1d0>,\n",
       " <folium.vector_layers.CircleMarker at 0x7fb9e460c208>,\n",
       " <folium.vector_layers.CircleMarker at 0x7fb9e460c240>,\n",
       " <folium.vector_layers.CircleMarker at 0x7fb9e460c278>,\n",
       " <folium.vector_layers.CircleMarker at 0x7fb9e460c2b0>,\n",
       " <folium.vector_layers.CircleMarker at 0x7fb9e460c2e8>,\n",
       " <folium.vector_layers.CircleMarker at 0x7fb9e460c320>,\n",
       " <folium.vector_layers.CircleMarker at 0x7fb9e460c358>,\n",
       " <folium.vector_layers.CircleMarker at 0x7fb9e460c390>,\n",
       " <folium.vector_layers.CircleMarker at 0x7fb9e460c3c8>,\n",
       " <folium.vector_layers.CircleMarker at 0x7fb9e460c400>,\n",
       " <folium.vector_layers.CircleMarker at 0x7fb9e460c438>,\n",
       " <folium.vector_layers.CircleMarker at 0x7fb9e460c470>,\n",
       " <folium.vector_layers.CircleMarker at 0x7fb9e460c4a8>,\n",
       " <folium.vector_layers.CircleMarker at 0x7fb9e460c4e0>,\n",
       " <folium.vector_layers.CircleMarker at 0x7fb9e460c518>,\n",
       " <folium.vector_layers.CircleMarker at 0x7fb9e460c550>,\n",
       " <folium.vector_layers.CircleMarker at 0x7fb9e460c588>,\n",
       " <folium.vector_layers.CircleMarker at 0x7fb9e460c5c0>,\n",
       " <folium.vector_layers.CircleMarker at 0x7fb9e460c5f8>,\n",
       " <folium.vector_layers.CircleMarker at 0x7fb9e460c630>,\n",
       " <folium.vector_layers.CircleMarker at 0x7fb9e460c668>,\n",
       " <folium.vector_layers.CircleMarker at 0x7fb9e460c6a0>,\n",
       " <folium.vector_layers.CircleMarker at 0x7fb9e460c6d8>,\n",
       " <folium.vector_layers.CircleMarker at 0x7fb9e460c710>,\n",
       " <folium.vector_layers.CircleMarker at 0x7fb9e460c748>,\n",
       " <folium.vector_layers.CircleMarker at 0x7fb9e460c780>,\n",
       " <folium.vector_layers.CircleMarker at 0x7fb9e460c7b8>,\n",
       " <folium.vector_layers.CircleMarker at 0x7fb9e460c7f0>,\n",
       " <folium.vector_layers.CircleMarker at 0x7fb9e460c828>,\n",
       " <folium.vector_layers.CircleMarker at 0x7fb9e460c860>,\n",
       " <folium.vector_layers.CircleMarker at 0x7fb9e460c898>,\n",
       " <folium.vector_layers.CircleMarker at 0x7fb9e460c8d0>,\n",
       " <folium.vector_layers.CircleMarker at 0x7fb9e460c908>,\n",
       " <folium.vector_layers.CircleMarker at 0x7fb9e460c940>,\n",
       " <folium.vector_layers.CircleMarker at 0x7fb9e460c978>,\n",
       " <folium.vector_layers.CircleMarker at 0x7fb9e460c9b0>,\n",
       " <folium.vector_layers.CircleMarker at 0x7fb9e460c9e8>,\n",
       " <folium.vector_layers.CircleMarker at 0x7fb9e460ca20>,\n",
       " <folium.vector_layers.CircleMarker at 0x7fb9e460ca58>,\n",
       " <folium.vector_layers.CircleMarker at 0x7fb9e460ca90>,\n",
       " <folium.vector_layers.CircleMarker at 0x7fb9e460cac8>,\n",
       " <folium.vector_layers.CircleMarker at 0x7fb9e460cb00>,\n",
       " <folium.vector_layers.CircleMarker at 0x7fb9e460cb38>,\n",
       " <folium.vector_layers.CircleMarker at 0x7fb9e460cb70>,\n",
       " <folium.vector_layers.CircleMarker at 0x7fb9e460cba8>,\n",
       " <folium.vector_layers.CircleMarker at 0x7fb9e460cbe0>,\n",
       " <folium.vector_layers.CircleMarker at 0x7fb9e460cc18>,\n",
       " <folium.vector_layers.CircleMarker at 0x7fb9e460cc50>,\n",
       " <folium.vector_layers.CircleMarker at 0x7fb9e460cc88>,\n",
       " <folium.vector_layers.CircleMarker at 0x7fb9e460ccc0>,\n",
       " <folium.vector_layers.CircleMarker at 0x7fb9e460ccf8>,\n",
       " <folium.vector_layers.CircleMarker at 0x7fb9e460cd30>,\n",
       " <folium.vector_layers.CircleMarker at 0x7fb9e460cd68>,\n",
       " <folium.vector_layers.CircleMarker at 0x7fb9e460cda0>,\n",
       " <folium.vector_layers.CircleMarker at 0x7fb9e460cdd8>,\n",
       " <folium.vector_layers.CircleMarker at 0x7fb9e460ce10>,\n",
       " <folium.vector_layers.CircleMarker at 0x7fb9e460ce48>,\n",
       " <folium.vector_layers.CircleMarker at 0x7fb9e460ce80>,\n",
       " <folium.vector_layers.CircleMarker at 0x7fb9e460ceb8>,\n",
       " <folium.vector_layers.CircleMarker at 0x7fb9e460cef0>,\n",
       " <folium.vector_layers.CircleMarker at 0x7fb9e460cf28>,\n",
       " <folium.vector_layers.CircleMarker at 0x7fb9e460cf60>,\n",
       " <folium.vector_layers.CircleMarker at 0x7fb9e460cf98>,\n",
       " <folium.vector_layers.CircleMarker at 0x7fb9e460cfd0>,\n",
       " <folium.vector_layers.CircleMarker at 0x7fb9e460c080>,\n",
       " <folium.vector_layers.CircleMarker at 0x7fb9e461a080>,\n",
       " <folium.vector_layers.CircleMarker at 0x7fb9e461a0b8>,\n",
       " <folium.vector_layers.CircleMarker at 0x7fb9e461a0f0>,\n",
       " <folium.vector_layers.CircleMarker at 0x7fb9e461a128>,\n",
       " <folium.vector_layers.CircleMarker at 0x7fb9e461a160>,\n",
       " <folium.vector_layers.CircleMarker at 0x7fb9e461a198>,\n",
       " <folium.vector_layers.CircleMarker at 0x7fb9e461a1d0>,\n",
       " <folium.vector_layers.CircleMarker at 0x7fb9e461a208>,\n",
       " <folium.vector_layers.CircleMarker at 0x7fb9e461a240>,\n",
       " <folium.vector_layers.CircleMarker at 0x7fb9e461a278>,\n",
       " <folium.vector_layers.CircleMarker at 0x7fb9e461a2b0>,\n",
       " <folium.vector_layers.CircleMarker at 0x7fb9e461a2e8>,\n",
       " <folium.vector_layers.CircleMarker at 0x7fb9e461a320>,\n",
       " <folium.vector_layers.CircleMarker at 0x7fb9e461a358>,\n",
       " <folium.vector_layers.CircleMarker at 0x7fb9e461a390>,\n",
       " <folium.vector_layers.CircleMarker at 0x7fb9e461a3c8>,\n",
       " <folium.vector_layers.CircleMarker at 0x7fb9e461a400>,\n",
       " <folium.vector_layers.CircleMarker at 0x7fb9e461a438>,\n",
       " <folium.vector_layers.CircleMarker at 0x7fb9e461a470>,\n",
       " <folium.vector_layers.CircleMarker at 0x7fb9e461a4a8>,\n",
       " <folium.vector_layers.CircleMarker at 0x7fb9e461a4e0>,\n",
       " <folium.vector_layers.CircleMarker at 0x7fb9e461a518>,\n",
       " <folium.vector_layers.CircleMarker at 0x7fb9e461a550>,\n",
       " <folium.vector_layers.CircleMarker at 0x7fb9e461a588>,\n",
       " <folium.vector_layers.CircleMarker at 0x7fb9e461a5c0>,\n",
       " <folium.vector_layers.CircleMarker at 0x7fb9e461a5f8>,\n",
       " <folium.vector_layers.CircleMarker at 0x7fb9e461a630>,\n",
       " <folium.vector_layers.CircleMarker at 0x7fb9e461a668>,\n",
       " <folium.vector_layers.CircleMarker at 0x7fb9e461a6a0>,\n",
       " <folium.vector_layers.CircleMarker at 0x7fb9e461a6d8>,\n",
       " <folium.vector_layers.CircleMarker at 0x7fb9e461a710>,\n",
       " <folium.vector_layers.CircleMarker at 0x7fb9e461a748>,\n",
       " <folium.vector_layers.CircleMarker at 0x7fb9e461a780>,\n",
       " <folium.vector_layers.CircleMarker at 0x7fb9e461a7b8>,\n",
       " <folium.vector_layers.CircleMarker at 0x7fb9e461a7f0>,\n",
       " <folium.vector_layers.CircleMarker at 0x7fb9e461a828>,\n",
       " <folium.vector_layers.CircleMarker at 0x7fb9e461a860>,\n",
       " <folium.vector_layers.CircleMarker at 0x7fb9e461a898>,\n",
       " <folium.vector_layers.CircleMarker at 0x7fb9e461a8d0>,\n",
       " <folium.vector_layers.CircleMarker at 0x7fb9e461a908>,\n",
       " <folium.vector_layers.CircleMarker at 0x7fb9e461a940>,\n",
       " <folium.vector_layers.CircleMarker at 0x7fb9e461a978>,\n",
       " <folium.vector_layers.CircleMarker at 0x7fb9e461a9b0>,\n",
       " <folium.vector_layers.CircleMarker at 0x7fb9e461a9e8>,\n",
       " <folium.vector_layers.CircleMarker at 0x7fb9e461aa20>,\n",
       " <folium.vector_layers.CircleMarker at 0x7fb9e461aa58>,\n",
       " <folium.vector_layers.CircleMarker at 0x7fb9e461aa90>,\n",
       " <folium.vector_layers.CircleMarker at 0x7fb9e461aac8>,\n",
       " <folium.vector_layers.CircleMarker at 0x7fb9e461ab00>,\n",
       " <folium.vector_layers.CircleMarker at 0x7fb9e461ab38>,\n",
       " <folium.vector_layers.CircleMarker at 0x7fb9e461ab70>,\n",
       " <folium.vector_layers.CircleMarker at 0x7fb9e461aba8>,\n",
       " <folium.vector_layers.CircleMarker at 0x7fb9e461abe0>,\n",
       " <folium.vector_layers.CircleMarker at 0x7fb9e461ac18>,\n",
       " <folium.vector_layers.CircleMarker at 0x7fb9e461ac50>,\n",
       " <folium.vector_layers.CircleMarker at 0x7fb9e461ac88>,\n",
       " <folium.vector_layers.CircleMarker at 0x7fb9e461acc0>,\n",
       " <folium.vector_layers.CircleMarker at 0x7fb9e461acf8>,\n",
       " <folium.vector_layers.CircleMarker at 0x7fb9e461ad30>,\n",
       " <folium.vector_layers.CircleMarker at 0x7fb9e461ad68>,\n",
       " <folium.vector_layers.CircleMarker at 0x7fb9e461ada0>,\n",
       " <folium.vector_layers.CircleMarker at 0x7fb9e461add8>,\n",
       " <folium.vector_layers.CircleMarker at 0x7fb9e461ae10>,\n",
       " <folium.vector_layers.CircleMarker at 0x7fb9e461ae48>,\n",
       " <folium.vector_layers.CircleMarker at 0x7fb9e461ae80>,\n",
       " <folium.vector_layers.CircleMarker at 0x7fb9e461aeb8>,\n",
       " <folium.vector_layers.CircleMarker at 0x7fb9e461aef0>,\n",
       " <folium.vector_layers.CircleMarker at 0x7fb9e461af28>,\n",
       " <folium.vector_layers.CircleMarker at 0x7fb9e461af60>,\n",
       " <folium.vector_layers.CircleMarker at 0x7fb9e461af98>,\n",
       " <folium.vector_layers.CircleMarker at 0x7fb9e461afd0>,\n",
       " <folium.vector_layers.CircleMarker at 0x7fb9e461a048>,\n",
       " <folium.vector_layers.CircleMarker at 0x7fb9e4628080>,\n",
       " <folium.vector_layers.CircleMarker at 0x7fb9e46280b8>,\n",
       " <folium.vector_layers.CircleMarker at 0x7fb9e46280f0>,\n",
       " <folium.vector_layers.CircleMarker at 0x7fb9e4628128>,\n",
       " <folium.vector_layers.CircleMarker at 0x7fb9e4628160>,\n",
       " <folium.vector_layers.CircleMarker at 0x7fb9e4628198>,\n",
       " <folium.vector_layers.CircleMarker at 0x7fb9e46281d0>,\n",
       " <folium.vector_layers.CircleMarker at 0x7fb9e4628208>,\n",
       " <folium.vector_layers.CircleMarker at 0x7fb9e4628240>,\n",
       " <folium.vector_layers.CircleMarker at 0x7fb9e4628278>,\n",
       " <folium.vector_layers.CircleMarker at 0x7fb9e46282b0>,\n",
       " <folium.vector_layers.CircleMarker at 0x7fb9e46282e8>,\n",
       " <folium.vector_layers.CircleMarker at 0x7fb9e4628320>,\n",
       " <folium.vector_layers.CircleMarker at 0x7fb9e4628358>,\n",
       " <folium.vector_layers.CircleMarker at 0x7fb9e4628390>,\n",
       " <folium.vector_layers.CircleMarker at 0x7fb9e46283c8>,\n",
       " <folium.vector_layers.CircleMarker at 0x7fb9e4628400>,\n",
       " <folium.vector_layers.CircleMarker at 0x7fb9e4628438>,\n",
       " <folium.vector_layers.CircleMarker at 0x7fb9e4628470>,\n",
       " <folium.vector_layers.CircleMarker at 0x7fb9e46284a8>,\n",
       " <folium.vector_layers.CircleMarker at 0x7fb9e46284e0>,\n",
       " <folium.vector_layers.CircleMarker at 0x7fb9e4628518>,\n",
       " <folium.vector_layers.CircleMarker at 0x7fb9e4628550>,\n",
       " <folium.vector_layers.CircleMarker at 0x7fb9e4628588>,\n",
       " <folium.vector_layers.CircleMarker at 0x7fb9e46285c0>,\n",
       " <folium.vector_layers.CircleMarker at 0x7fb9e46285f8>,\n",
       " <folium.vector_layers.CircleMarker at 0x7fb9e4628630>,\n",
       " <folium.vector_layers.CircleMarker at 0x7fb9e4628668>,\n",
       " <folium.vector_layers.CircleMarker at 0x7fb9e46286a0>,\n",
       " <folium.vector_layers.CircleMarker at 0x7fb9e46286d8>,\n",
       " <folium.vector_layers.CircleMarker at 0x7fb9e4628710>,\n",
       " <folium.vector_layers.CircleMarker at 0x7fb9e4628748>,\n",
       " <folium.vector_layers.CircleMarker at 0x7fb9e4628780>,\n",
       " <folium.vector_layers.CircleMarker at 0x7fb9e46287b8>,\n",
       " <folium.vector_layers.CircleMarker at 0x7fb9e46287f0>,\n",
       " <folium.vector_layers.CircleMarker at 0x7fb9e4628828>,\n",
       " <folium.vector_layers.CircleMarker at 0x7fb9e4628860>,\n",
       " <folium.vector_layers.CircleMarker at 0x7fb9e4628898>,\n",
       " <folium.vector_layers.CircleMarker at 0x7fb9e46288d0>,\n",
       " <folium.vector_layers.CircleMarker at 0x7fb9e4628908>,\n",
       " <folium.vector_layers.CircleMarker at 0x7fb9e4628940>,\n",
       " <folium.vector_layers.CircleMarker at 0x7fb9e4628978>,\n",
       " <folium.vector_layers.CircleMarker at 0x7fb9e46289b0>,\n",
       " <folium.vector_layers.CircleMarker at 0x7fb9e46289e8>,\n",
       " <folium.vector_layers.CircleMarker at 0x7fb9e4628a20>,\n",
       " <folium.vector_layers.CircleMarker at 0x7fb9e4628a58>,\n",
       " <folium.vector_layers.CircleMarker at 0x7fb9e4628a90>,\n",
       " <folium.vector_layers.CircleMarker at 0x7fb9e4628ac8>,\n",
       " <folium.vector_layers.CircleMarker at 0x7fb9e4628b00>,\n",
       " <folium.vector_layers.CircleMarker at 0x7fb9e4628b38>,\n",
       " <folium.vector_layers.CircleMarker at 0x7fb9e4628b70>,\n",
       " <folium.vector_layers.CircleMarker at 0x7fb9e4628ba8>,\n",
       " <folium.vector_layers.CircleMarker at 0x7fb9e4628be0>,\n",
       " <folium.vector_layers.CircleMarker at 0x7fb9e4628c18>,\n",
       " <folium.vector_layers.CircleMarker at 0x7fb9e4628c50>,\n",
       " <folium.vector_layers.CircleMarker at 0x7fb9e4628c88>,\n",
       " <folium.vector_layers.CircleMarker at 0x7fb9e4628cc0>,\n",
       " <folium.vector_layers.CircleMarker at 0x7fb9e4628cf8>,\n",
       " <folium.vector_layers.CircleMarker at 0x7fb9e4628d30>,\n",
       " <folium.vector_layers.CircleMarker at 0x7fb9e4628d68>,\n",
       " <folium.vector_layers.CircleMarker at 0x7fb9e4628da0>,\n",
       " <folium.vector_layers.CircleMarker at 0x7fb9e4628dd8>,\n",
       " <folium.vector_layers.CircleMarker at 0x7fb9e4628e10>,\n",
       " <folium.vector_layers.CircleMarker at 0x7fb9e4628e48>,\n",
       " <folium.vector_layers.CircleMarker at 0x7fb9e4628e80>,\n",
       " <folium.vector_layers.CircleMarker at 0x7fb9e4628eb8>,\n",
       " <folium.vector_layers.CircleMarker at 0x7fb9e4628ef0>,\n",
       " <folium.vector_layers.CircleMarker at 0x7fb9e4628f28>,\n",
       " <folium.vector_layers.CircleMarker at 0x7fb9e4628f60>,\n",
       " <folium.vector_layers.CircleMarker at 0x7fb9e4628f98>,\n",
       " <folium.vector_layers.CircleMarker at 0x7fb9e4628fd0>,\n",
       " <folium.vector_layers.CircleMarker at 0x7fb9e4628048>,\n",
       " <folium.vector_layers.CircleMarker at 0x7fb9e4636080>,\n",
       " <folium.vector_layers.CircleMarker at 0x7fb9e46360b8>,\n",
       " <folium.vector_layers.CircleMarker at 0x7fb9e46360f0>,\n",
       " <folium.vector_layers.CircleMarker at 0x7fb9e4636128>,\n",
       " <folium.vector_layers.CircleMarker at 0x7fb9e4636160>,\n",
       " <folium.vector_layers.CircleMarker at 0x7fb9e4636198>,\n",
       " <folium.vector_layers.CircleMarker at 0x7fb9e46361d0>,\n",
       " <folium.vector_layers.CircleMarker at 0x7fb9e4636208>,\n",
       " <folium.vector_layers.CircleMarker at 0x7fb9e4636240>,\n",
       " <folium.vector_layers.CircleMarker at 0x7fb9e4636278>,\n",
       " <folium.vector_layers.CircleMarker at 0x7fb9e46362b0>,\n",
       " <folium.vector_layers.CircleMarker at 0x7fb9e46362e8>,\n",
       " <folium.vector_layers.CircleMarker at 0x7fb9e4636320>,\n",
       " <folium.vector_layers.CircleMarker at 0x7fb9e4636358>,\n",
       " <folium.vector_layers.CircleMarker at 0x7fb9e4636390>,\n",
       " <folium.vector_layers.CircleMarker at 0x7fb9e46363c8>,\n",
       " <folium.vector_layers.CircleMarker at 0x7fb9e4636400>,\n",
       " <folium.vector_layers.CircleMarker at 0x7fb9e4636438>,\n",
       " <folium.vector_layers.CircleMarker at 0x7fb9e4636470>,\n",
       " <folium.vector_layers.CircleMarker at 0x7fb9e46364a8>,\n",
       " <folium.vector_layers.CircleMarker at 0x7fb9e46364e0>,\n",
       " <folium.vector_layers.CircleMarker at 0x7fb9e4636518>,\n",
       " <folium.vector_layers.CircleMarker at 0x7fb9e4636550>,\n",
       " <folium.vector_layers.CircleMarker at 0x7fb9e4636588>,\n",
       " <folium.vector_layers.CircleMarker at 0x7fb9e46365c0>,\n",
       " <folium.vector_layers.CircleMarker at 0x7fb9e46365f8>,\n",
       " <folium.vector_layers.CircleMarker at 0x7fb9e4636630>,\n",
       " <folium.vector_layers.CircleMarker at 0x7fb9e4636668>,\n",
       " <folium.vector_layers.CircleMarker at 0x7fb9e46366a0>,\n",
       " <folium.vector_layers.CircleMarker at 0x7fb9e46366d8>,\n",
       " <folium.vector_layers.CircleMarker at 0x7fb9e4636710>,\n",
       " <folium.vector_layers.CircleMarker at 0x7fb9e4636748>,\n",
       " <folium.vector_layers.CircleMarker at 0x7fb9e4636780>,\n",
       " <folium.vector_layers.CircleMarker at 0x7fb9e46367b8>,\n",
       " <folium.vector_layers.CircleMarker at 0x7fb9e46367f0>,\n",
       " <folium.vector_layers.CircleMarker at 0x7fb9e4636828>,\n",
       " <folium.vector_layers.CircleMarker at 0x7fb9e4636860>,\n",
       " <folium.vector_layers.CircleMarker at 0x7fb9e4636898>,\n",
       " <folium.vector_layers.CircleMarker at 0x7fb9e46368d0>,\n",
       " <folium.vector_layers.CircleMarker at 0x7fb9e4636908>,\n",
       " <folium.vector_layers.CircleMarker at 0x7fb9e4636940>,\n",
       " <folium.vector_layers.CircleMarker at 0x7fb9e4636978>,\n",
       " <folium.vector_layers.CircleMarker at 0x7fb9e46369b0>,\n",
       " <folium.vector_layers.CircleMarker at 0x7fb9e46369e8>,\n",
       " <folium.vector_layers.CircleMarker at 0x7fb9e4636a20>,\n",
       " <folium.vector_layers.CircleMarker at 0x7fb9e4636a58>,\n",
       " <folium.vector_layers.CircleMarker at 0x7fb9e4636a90>,\n",
       " <folium.vector_layers.CircleMarker at 0x7fb9e4636ac8>,\n",
       " <folium.vector_layers.CircleMarker at 0x7fb9e4636b00>,\n",
       " <folium.vector_layers.CircleMarker at 0x7fb9e4636b38>,\n",
       " <folium.vector_layers.CircleMarker at 0x7fb9e4636b70>,\n",
       " <folium.vector_layers.CircleMarker at 0x7fb9e4636ba8>,\n",
       " <folium.vector_layers.CircleMarker at 0x7fb9e4636be0>,\n",
       " <folium.vector_layers.CircleMarker at 0x7fb9e4636c18>,\n",
       " <folium.vector_layers.CircleMarker at 0x7fb9e4636c50>,\n",
       " <folium.vector_layers.CircleMarker at 0x7fb9e4636c88>,\n",
       " <folium.vector_layers.CircleMarker at 0x7fb9e4636cc0>,\n",
       " <folium.vector_layers.CircleMarker at 0x7fb9e4636cf8>,\n",
       " <folium.vector_layers.CircleMarker at 0x7fb9e4636d30>,\n",
       " <folium.vector_layers.CircleMarker at 0x7fb9e4636d68>,\n",
       " <folium.vector_layers.CircleMarker at 0x7fb9e4636da0>,\n",
       " <folium.vector_layers.CircleMarker at 0x7fb9e4636dd8>,\n",
       " <folium.vector_layers.CircleMarker at 0x7fb9e4636e10>,\n",
       " <folium.vector_layers.CircleMarker at 0x7fb9e4636e48>,\n",
       " <folium.vector_layers.CircleMarker at 0x7fb9e4636e80>,\n",
       " <folium.vector_layers.CircleMarker at 0x7fb9e4636eb8>,\n",
       " <folium.vector_layers.CircleMarker at 0x7fb9e4636ef0>,\n",
       " <folium.vector_layers.CircleMarker at 0x7fb9e4636f28>,\n",
       " <folium.vector_layers.CircleMarker at 0x7fb9e4636f60>,\n",
       " <folium.vector_layers.CircleMarker at 0x7fb9e4636f98>,\n",
       " <folium.vector_layers.CircleMarker at 0x7fb9e4636fd0>,\n",
       " <folium.vector_layers.CircleMarker at 0x7fb9e4636048>,\n",
       " <folium.vector_layers.CircleMarker at 0x7fb9e4643080>,\n",
       " <folium.vector_layers.CircleMarker at 0x7fb9e46430b8>,\n",
       " <folium.vector_layers.CircleMarker at 0x7fb9e46430f0>,\n",
       " <folium.vector_layers.CircleMarker at 0x7fb9e4643128>,\n",
       " <folium.vector_layers.CircleMarker at 0x7fb9e4643160>,\n",
       " <folium.vector_layers.CircleMarker at 0x7fb9e4643198>,\n",
       " <folium.vector_layers.CircleMarker at 0x7fb9e46431d0>,\n",
       " <folium.vector_layers.CircleMarker at 0x7fb9e4643208>,\n",
       " <folium.vector_layers.CircleMarker at 0x7fb9e4643240>,\n",
       " <folium.vector_layers.CircleMarker at 0x7fb9e4643278>,\n",
       " <folium.vector_layers.CircleMarker at 0x7fb9e46432b0>,\n",
       " <folium.vector_layers.CircleMarker at 0x7fb9e46432e8>,\n",
       " <folium.vector_layers.CircleMarker at 0x7fb9e4643320>,\n",
       " <folium.vector_layers.CircleMarker at 0x7fb9e4643358>,\n",
       " <folium.vector_layers.CircleMarker at 0x7fb9e4643390>,\n",
       " <folium.vector_layers.CircleMarker at 0x7fb9e46433c8>,\n",
       " <folium.vector_layers.CircleMarker at 0x7fb9e4643400>,\n",
       " <folium.vector_layers.CircleMarker at 0x7fb9e4643438>,\n",
       " <folium.vector_layers.CircleMarker at 0x7fb9e4643470>,\n",
       " <folium.vector_layers.CircleMarker at 0x7fb9e46434a8>,\n",
       " <folium.vector_layers.CircleMarker at 0x7fb9e46434e0>,\n",
       " <folium.vector_layers.CircleMarker at 0x7fb9e4643518>,\n",
       " <folium.vector_layers.CircleMarker at 0x7fb9e4643550>,\n",
       " <folium.vector_layers.CircleMarker at 0x7fb9e4643588>,\n",
       " <folium.vector_layers.CircleMarker at 0x7fb9e46435c0>,\n",
       " <folium.vector_layers.CircleMarker at 0x7fb9e46435f8>,\n",
       " <folium.vector_layers.CircleMarker at 0x7fb9e4643630>,\n",
       " <folium.vector_layers.CircleMarker at 0x7fb9e4643668>,\n",
       " <folium.vector_layers.CircleMarker at 0x7fb9e46436a0>,\n",
       " <folium.vector_layers.CircleMarker at 0x7fb9e46436d8>,\n",
       " <folium.vector_layers.CircleMarker at 0x7fb9e4643710>,\n",
       " <folium.vector_layers.CircleMarker at 0x7fb9e4643748>,\n",
       " <folium.vector_layers.CircleMarker at 0x7fb9e4643780>,\n",
       " <folium.vector_layers.CircleMarker at 0x7fb9e46437b8>,\n",
       " <folium.vector_layers.CircleMarker at 0x7fb9e46437f0>,\n",
       " <folium.vector_layers.CircleMarker at 0x7fb9e4643828>,\n",
       " <folium.vector_layers.CircleMarker at 0x7fb9e4643860>,\n",
       " <folium.vector_layers.CircleMarker at 0x7fb9e4643898>,\n",
       " <folium.vector_layers.CircleMarker at 0x7fb9e46438d0>,\n",
       " <folium.vector_layers.CircleMarker at 0x7fb9e4643908>,\n",
       " <folium.vector_layers.CircleMarker at 0x7fb9e4643940>,\n",
       " <folium.vector_layers.CircleMarker at 0x7fb9e4643978>,\n",
       " <folium.vector_layers.CircleMarker at 0x7fb9e46439b0>,\n",
       " <folium.vector_layers.CircleMarker at 0x7fb9e46439e8>,\n",
       " <folium.vector_layers.CircleMarker at 0x7fb9e4643a20>,\n",
       " <folium.vector_layers.CircleMarker at 0x7fb9e4643a58>,\n",
       " <folium.vector_layers.CircleMarker at 0x7fb9e4643a90>,\n",
       " <folium.vector_layers.CircleMarker at 0x7fb9e4643ac8>,\n",
       " <folium.vector_layers.CircleMarker at 0x7fb9e4643b00>,\n",
       " <folium.vector_layers.CircleMarker at 0x7fb9e4643b38>,\n",
       " <folium.vector_layers.CircleMarker at 0x7fb9e4643b70>,\n",
       " <folium.vector_layers.CircleMarker at 0x7fb9e4643ba8>,\n",
       " <folium.vector_layers.CircleMarker at 0x7fb9e4643be0>,\n",
       " <folium.vector_layers.CircleMarker at 0x7fb9e4643c18>,\n",
       " <folium.vector_layers.CircleMarker at 0x7fb9e4643c50>,\n",
       " <folium.vector_layers.CircleMarker at 0x7fb9e4643c88>,\n",
       " <folium.vector_layers.CircleMarker at 0x7fb9e4643cc0>,\n",
       " <folium.vector_layers.CircleMarker at 0x7fb9e4643cf8>,\n",
       " <folium.vector_layers.CircleMarker at 0x7fb9e4643d30>,\n",
       " <folium.vector_layers.CircleMarker at 0x7fb9e4643d68>,\n",
       " <folium.vector_layers.CircleMarker at 0x7fb9e4643da0>,\n",
       " <folium.vector_layers.CircleMarker at 0x7fb9e4643dd8>,\n",
       " <folium.vector_layers.CircleMarker at 0x7fb9e4643e10>,\n",
       " <folium.vector_layers.CircleMarker at 0x7fb9e4643e48>,\n",
       " <folium.vector_layers.CircleMarker at 0x7fb9e4643e80>,\n",
       " <folium.vector_layers.CircleMarker at 0x7fb9e4643eb8>,\n",
       " <folium.vector_layers.CircleMarker at 0x7fb9e4643ef0>,\n",
       " <folium.vector_layers.CircleMarker at 0x7fb9e4643f28>,\n",
       " <folium.vector_layers.CircleMarker at 0x7fb9e4643f60>,\n",
       " <folium.vector_layers.CircleMarker at 0x7fb9e4643f98>,\n",
       " <folium.vector_layers.CircleMarker at 0x7fb9e4643fd0>,\n",
       " <folium.vector_layers.CircleMarker at 0x7fb9e4643048>,\n",
       " <folium.vector_layers.CircleMarker at 0x7fb9e45d3080>,\n",
       " <folium.vector_layers.CircleMarker at 0x7fb9e45d30b8>,\n",
       " <folium.vector_layers.CircleMarker at 0x7fb9e45d30f0>,\n",
       " <folium.vector_layers.CircleMarker at 0x7fb9e45d3128>,\n",
       " <folium.vector_layers.CircleMarker at 0x7fb9e45d3160>,\n",
       " <folium.vector_layers.CircleMarker at 0x7fb9e45d3198>,\n",
       " <folium.vector_layers.CircleMarker at 0x7fb9e45d31d0>,\n",
       " <folium.vector_layers.CircleMarker at 0x7fb9e45d3208>,\n",
       " <folium.vector_layers.CircleMarker at 0x7fb9e45d3240>,\n",
       " <folium.vector_layers.CircleMarker at 0x7fb9e45d3278>,\n",
       " <folium.vector_layers.CircleMarker at 0x7fb9e45d32b0>,\n",
       " <folium.vector_layers.CircleMarker at 0x7fb9e45d32e8>,\n",
       " <folium.vector_layers.CircleMarker at 0x7fb9e45d3320>,\n",
       " <folium.vector_layers.CircleMarker at 0x7fb9e45d3358>,\n",
       " <folium.vector_layers.CircleMarker at 0x7fb9e45d3390>,\n",
       " <folium.vector_layers.CircleMarker at 0x7fb9e45d33c8>,\n",
       " <folium.vector_layers.CircleMarker at 0x7fb9e45d3400>,\n",
       " <folium.vector_layers.CircleMarker at 0x7fb9e45d3438>,\n",
       " <folium.vector_layers.CircleMarker at 0x7fb9e45d3470>,\n",
       " <folium.vector_layers.CircleMarker at 0x7fb9e45d34a8>,\n",
       " <folium.vector_layers.CircleMarker at 0x7fb9e45d34e0>,\n",
       " <folium.vector_layers.CircleMarker at 0x7fb9e45d3518>,\n",
       " <folium.vector_layers.CircleMarker at 0x7fb9e45d3550>,\n",
       " <folium.vector_layers.CircleMarker at 0x7fb9e45d3588>,\n",
       " <folium.vector_layers.CircleMarker at 0x7fb9e45d35c0>,\n",
       " <folium.vector_layers.CircleMarker at 0x7fb9e45d35f8>,\n",
       " <folium.vector_layers.CircleMarker at 0x7fb9e45d3630>,\n",
       " <folium.vector_layers.CircleMarker at 0x7fb9e45d3668>,\n",
       " <folium.vector_layers.CircleMarker at 0x7fb9e45d36a0>,\n",
       " <folium.vector_layers.CircleMarker at 0x7fb9e45d36d8>,\n",
       " <folium.vector_layers.CircleMarker at 0x7fb9e45d3710>,\n",
       " <folium.vector_layers.CircleMarker at 0x7fb9e45d3748>,\n",
       " <folium.vector_layers.CircleMarker at 0x7fb9e45d3780>,\n",
       " <folium.vector_layers.CircleMarker at 0x7fb9e45d37b8>,\n",
       " <folium.vector_layers.CircleMarker at 0x7fb9e45d37f0>,\n",
       " <folium.vector_layers.CircleMarker at 0x7fb9e45d3828>,\n",
       " <folium.vector_layers.CircleMarker at 0x7fb9e45d3860>,\n",
       " <folium.vector_layers.CircleMarker at 0x7fb9e45d3898>,\n",
       " <folium.vector_layers.CircleMarker at 0x7fb9e45d38d0>,\n",
       " <folium.vector_layers.CircleMarker at 0x7fb9e45d3908>,\n",
       " <folium.vector_layers.CircleMarker at 0x7fb9e45d3940>,\n",
       " <folium.vector_layers.CircleMarker at 0x7fb9e45d3978>,\n",
       " <folium.vector_layers.CircleMarker at 0x7fb9e45d39b0>,\n",
       " <folium.vector_layers.CircleMarker at 0x7fb9e45d39e8>,\n",
       " <folium.vector_layers.CircleMarker at 0x7fb9e45d3a20>,\n",
       " <folium.vector_layers.CircleMarker at 0x7fb9e45d3a58>,\n",
       " <folium.vector_layers.CircleMarker at 0x7fb9e45d3a90>,\n",
       " <folium.vector_layers.CircleMarker at 0x7fb9e45d3ac8>,\n",
       " <folium.vector_layers.CircleMarker at 0x7fb9e45d3b00>,\n",
       " <folium.vector_layers.CircleMarker at 0x7fb9e45d3b38>,\n",
       " <folium.vector_layers.CircleMarker at 0x7fb9e45d3b70>,\n",
       " <folium.vector_layers.CircleMarker at 0x7fb9e45d3ba8>,\n",
       " <folium.vector_layers.CircleMarker at 0x7fb9e45d3be0>,\n",
       " <folium.vector_layers.CircleMarker at 0x7fb9e45d3c18>,\n",
       " <folium.vector_layers.CircleMarker at 0x7fb9e45d3c50>,\n",
       " <folium.vector_layers.CircleMarker at 0x7fb9e45d3c88>,\n",
       " <folium.vector_layers.CircleMarker at 0x7fb9e45d3cc0>,\n",
       " <folium.vector_layers.CircleMarker at 0x7fb9e45d3cf8>,\n",
       " <folium.vector_layers.CircleMarker at 0x7fb9e45d3d30>,\n",
       " <folium.vector_layers.CircleMarker at 0x7fb9e45d3d68>,\n",
       " <folium.vector_layers.CircleMarker at 0x7fb9e45d3da0>,\n",
       " <folium.vector_layers.CircleMarker at 0x7fb9e45d3dd8>,\n",
       " <folium.vector_layers.CircleMarker at 0x7fb9e45d3e10>,\n",
       " <folium.vector_layers.CircleMarker at 0x7fb9e45d3e48>,\n",
       " <folium.vector_layers.CircleMarker at 0x7fb9e45d3e80>,\n",
       " <folium.vector_layers.CircleMarker at 0x7fb9e45d3eb8>,\n",
       " <folium.vector_layers.CircleMarker at 0x7fb9e45d3ef0>,\n",
       " <folium.vector_layers.CircleMarker at 0x7fb9e45d3f28>,\n",
       " <folium.vector_layers.CircleMarker at 0x7fb9e45d3f60>,\n",
       " <folium.vector_layers.CircleMarker at 0x7fb9e45d3f98>,\n",
       " <folium.vector_layers.CircleMarker at 0x7fb9e45d3fd0>,\n",
       " <folium.vector_layers.CircleMarker at 0x7fb9e45d3048>,\n",
       " <folium.vector_layers.CircleMarker at 0x7fb9e45df080>,\n",
       " <folium.vector_layers.CircleMarker at 0x7fb9e45df0b8>,\n",
       " <folium.vector_layers.CircleMarker at 0x7fb9e45df0f0>,\n",
       " <folium.vector_layers.CircleMarker at 0x7fb9e45df128>,\n",
       " <folium.vector_layers.CircleMarker at 0x7fb9e45df160>,\n",
       " <folium.vector_layers.CircleMarker at 0x7fb9e45df198>,\n",
       " <folium.vector_layers.CircleMarker at 0x7fb9e45df1d0>,\n",
       " <folium.vector_layers.CircleMarker at 0x7fb9e45df208>,\n",
       " <folium.vector_layers.CircleMarker at 0x7fb9e45df240>,\n",
       " <folium.vector_layers.CircleMarker at 0x7fb9e45df278>,\n",
       " <folium.vector_layers.CircleMarker at 0x7fb9e45df2b0>,\n",
       " <folium.vector_layers.CircleMarker at 0x7fb9e45df2e8>,\n",
       " <folium.vector_layers.CircleMarker at 0x7fb9e45df320>,\n",
       " <folium.vector_layers.CircleMarker at 0x7fb9e45df358>,\n",
       " <folium.vector_layers.CircleMarker at 0x7fb9e45df390>,\n",
       " <folium.vector_layers.CircleMarker at 0x7fb9e45df3c8>,\n",
       " <folium.vector_layers.CircleMarker at 0x7fb9e45df400>,\n",
       " <folium.vector_layers.CircleMarker at 0x7fb9e45df438>,\n",
       " <folium.vector_layers.CircleMarker at 0x7fb9e45df470>,\n",
       " <folium.vector_layers.CircleMarker at 0x7fb9e45df4a8>,\n",
       " <folium.vector_layers.CircleMarker at 0x7fb9e45df4e0>,\n",
       " <folium.vector_layers.CircleMarker at 0x7fb9e45df518>,\n",
       " <folium.vector_layers.CircleMarker at 0x7fb9e45df550>,\n",
       " <folium.vector_layers.CircleMarker at 0x7fb9e45df588>,\n",
       " <folium.vector_layers.CircleMarker at 0x7fb9e45df5c0>,\n",
       " <folium.vector_layers.CircleMarker at 0x7fb9e45df5f8>,\n",
       " <folium.vector_layers.CircleMarker at 0x7fb9e45df630>,\n",
       " <folium.vector_layers.CircleMarker at 0x7fb9e45df668>,\n",
       " <folium.vector_layers.CircleMarker at 0x7fb9e45df6a0>,\n",
       " <folium.vector_layers.CircleMarker at 0x7fb9e45df6d8>,\n",
       " <folium.vector_layers.CircleMarker at 0x7fb9e45df710>,\n",
       " <folium.vector_layers.CircleMarker at 0x7fb9e45df748>,\n",
       " <folium.vector_layers.CircleMarker at 0x7fb9e45df780>,\n",
       " <folium.vector_layers.CircleMarker at 0x7fb9e45df7b8>,\n",
       " <folium.vector_layers.CircleMarker at 0x7fb9e45df7f0>,\n",
       " <folium.vector_layers.CircleMarker at 0x7fb9e45df828>,\n",
       " <folium.vector_layers.CircleMarker at 0x7fb9e45df860>,\n",
       " <folium.vector_layers.CircleMarker at 0x7fb9e45df898>,\n",
       " <folium.vector_layers.CircleMarker at 0x7fb9e45df8d0>,\n",
       " <folium.vector_layers.CircleMarker at 0x7fb9e45df908>,\n",
       " <folium.vector_layers.CircleMarker at 0x7fb9e45df940>,\n",
       " <folium.vector_layers.CircleMarker at 0x7fb9e45df978>,\n",
       " <folium.vector_layers.CircleMarker at 0x7fb9e45df9b0>,\n",
       " <folium.vector_layers.CircleMarker at 0x7fb9e45df9e8>,\n",
       " <folium.vector_layers.CircleMarker at 0x7fb9e45dfa20>,\n",
       " <folium.vector_layers.CircleMarker at 0x7fb9e45dfa58>,\n",
       " <folium.vector_layers.CircleMarker at 0x7fb9e45dfa90>,\n",
       " <folium.vector_layers.CircleMarker at 0x7fb9e45dfac8>,\n",
       " <folium.vector_layers.CircleMarker at 0x7fb9e45dfb00>,\n",
       " <folium.vector_layers.CircleMarker at 0x7fb9e45dfb38>,\n",
       " <folium.vector_layers.CircleMarker at 0x7fb9e45dfb70>,\n",
       " <folium.vector_layers.CircleMarker at 0x7fb9e45dfba8>,\n",
       " <folium.vector_layers.CircleMarker at 0x7fb9e45dfbe0>,\n",
       " <folium.vector_layers.CircleMarker at 0x7fb9e45dfc18>,\n",
       " <folium.vector_layers.CircleMarker at 0x7fb9e45dfc50>,\n",
       " <folium.vector_layers.CircleMarker at 0x7fb9e45dfc88>,\n",
       " <folium.vector_layers.CircleMarker at 0x7fb9e45dfcc0>,\n",
       " <folium.vector_layers.CircleMarker at 0x7fb9e45dfcf8>,\n",
       " <folium.vector_layers.CircleMarker at 0x7fb9e45dfd30>,\n",
       " <folium.vector_layers.CircleMarker at 0x7fb9e45dfd68>,\n",
       " <folium.vector_layers.CircleMarker at 0x7fb9e45dfda0>,\n",
       " <folium.vector_layers.CircleMarker at 0x7fb9e45dfdd8>,\n",
       " <folium.vector_layers.CircleMarker at 0x7fb9e45dfe10>,\n",
       " <folium.vector_layers.CircleMarker at 0x7fb9e45dfe48>,\n",
       " <folium.vector_layers.CircleMarker at 0x7fb9e45dfe80>,\n",
       " <folium.vector_layers.CircleMarker at 0x7fb9e45dfeb8>,\n",
       " <folium.vector_layers.CircleMarker at 0x7fb9e45dfef0>,\n",
       " <folium.vector_layers.CircleMarker at 0x7fb9e45dff28>,\n",
       " <folium.vector_layers.CircleMarker at 0x7fb9e45dff60>,\n",
       " <folium.vector_layers.CircleMarker at 0x7fb9e45dff98>,\n",
       " <folium.vector_layers.CircleMarker at 0x7fb9e45dffd0>,\n",
       " <folium.vector_layers.CircleMarker at 0x7fb9e45df048>,\n",
       " <folium.vector_layers.CircleMarker at 0x7fb9e45ee080>,\n",
       " <folium.vector_layers.CircleMarker at 0x7fb9e45ee0b8>,\n",
       " <folium.vector_layers.CircleMarker at 0x7fb9e45ee0f0>,\n",
       " <folium.vector_layers.CircleMarker at 0x7fb9e45ee128>,\n",
       " <folium.vector_layers.CircleMarker at 0x7fb9e45ee160>,\n",
       " <folium.vector_layers.CircleMarker at 0x7fb9e45ee198>,\n",
       " <folium.vector_layers.CircleMarker at 0x7fb9e45ee1d0>,\n",
       " <folium.vector_layers.CircleMarker at 0x7fb9e45ee208>,\n",
       " <folium.vector_layers.CircleMarker at 0x7fb9e45ee240>,\n",
       " <folium.vector_layers.CircleMarker at 0x7fb9e45ee278>,\n",
       " <folium.vector_layers.CircleMarker at 0x7fb9e45ee2b0>,\n",
       " <folium.vector_layers.CircleMarker at 0x7fb9e45ee2e8>,\n",
       " <folium.vector_layers.CircleMarker at 0x7fb9e45ee320>,\n",
       " <folium.vector_layers.CircleMarker at 0x7fb9e45ee358>,\n",
       " <folium.vector_layers.CircleMarker at 0x7fb9e45ee390>,\n",
       " <folium.vector_layers.CircleMarker at 0x7fb9e45ee3c8>,\n",
       " <folium.vector_layers.CircleMarker at 0x7fb9e45ee400>,\n",
       " <folium.vector_layers.CircleMarker at 0x7fb9e45ee438>,\n",
       " <folium.vector_layers.CircleMarker at 0x7fb9e45ee470>,\n",
       " <folium.vector_layers.CircleMarker at 0x7fb9e45ee4a8>,\n",
       " <folium.vector_layers.CircleMarker at 0x7fb9e45ee4e0>,\n",
       " <folium.vector_layers.CircleMarker at 0x7fb9e45ee518>,\n",
       " <folium.vector_layers.CircleMarker at 0x7fb9e45ee550>,\n",
       " <folium.vector_layers.CircleMarker at 0x7fb9e45ee588>,\n",
       " <folium.vector_layers.CircleMarker at 0x7fb9e45ee5c0>,\n",
       " <folium.vector_layers.CircleMarker at 0x7fb9e45ee5f8>,\n",
       " <folium.vector_layers.CircleMarker at 0x7fb9e45ee630>,\n",
       " <folium.vector_layers.CircleMarker at 0x7fb9e45ee668>,\n",
       " <folium.vector_layers.CircleMarker at 0x7fb9e45ee6a0>,\n",
       " <folium.vector_layers.CircleMarker at 0x7fb9e45ee6d8>,\n",
       " <folium.vector_layers.CircleMarker at 0x7fb9e45ee710>,\n",
       " <folium.vector_layers.CircleMarker at 0x7fb9e45ee748>,\n",
       " <folium.vector_layers.CircleMarker at 0x7fb9e45ee780>,\n",
       " <folium.vector_layers.CircleMarker at 0x7fb9e45ee7b8>,\n",
       " <folium.vector_layers.CircleMarker at 0x7fb9e45ee7f0>,\n",
       " <folium.vector_layers.CircleMarker at 0x7fb9e45ee828>,\n",
       " <folium.vector_layers.CircleMarker at 0x7fb9e45ee860>,\n",
       " <folium.vector_layers.CircleMarker at 0x7fb9e45ee898>,\n",
       " <folium.vector_layers.CircleMarker at 0x7fb9e45ee8d0>,\n",
       " <folium.vector_layers.CircleMarker at 0x7fb9e45ee908>,\n",
       " <folium.vector_layers.CircleMarker at 0x7fb9e45ee940>,\n",
       " <folium.vector_layers.CircleMarker at 0x7fb9e45ee978>,\n",
       " <folium.vector_layers.CircleMarker at 0x7fb9e45ee9b0>,\n",
       " <folium.vector_layers.CircleMarker at 0x7fb9e45ee9e8>,\n",
       " <folium.vector_layers.CircleMarker at 0x7fb9e45eea20>,\n",
       " <folium.vector_layers.CircleMarker at 0x7fb9e45eea58>,\n",
       " <folium.vector_layers.CircleMarker at 0x7fb9e45eea90>,\n",
       " <folium.vector_layers.CircleMarker at 0x7fb9e45eeac8>,\n",
       " <folium.vector_layers.CircleMarker at 0x7fb9e45eeb00>,\n",
       " <folium.vector_layers.CircleMarker at 0x7fb9e45eeb38>,\n",
       " <folium.vector_layers.CircleMarker at 0x7fb9e45eeb70>,\n",
       " <folium.vector_layers.CircleMarker at 0x7fb9e45eeba8>,\n",
       " <folium.vector_layers.CircleMarker at 0x7fb9e45eebe0>,\n",
       " <folium.vector_layers.CircleMarker at 0x7fb9e45eec18>,\n",
       " <folium.vector_layers.CircleMarker at 0x7fb9e45eec50>,\n",
       " <folium.vector_layers.CircleMarker at 0x7fb9e45eec88>,\n",
       " <folium.vector_layers.CircleMarker at 0x7fb9e45eecc0>,\n",
       " <folium.vector_layers.CircleMarker at 0x7fb9e45eecf8>,\n",
       " <folium.vector_layers.CircleMarker at 0x7fb9e45eed30>,\n",
       " <folium.vector_layers.CircleMarker at 0x7fb9e45eed68>,\n",
       " <folium.vector_layers.CircleMarker at 0x7fb9e45eeda0>,\n",
       " <folium.vector_layers.CircleMarker at 0x7fb9e45eedd8>,\n",
       " <folium.vector_layers.CircleMarker at 0x7fb9e45eee10>,\n",
       " <folium.vector_layers.CircleMarker at 0x7fb9e45eee48>,\n",
       " <folium.vector_layers.CircleMarker at 0x7fb9e45eee80>,\n",
       " <folium.vector_layers.CircleMarker at 0x7fb9e45eeeb8>,\n",
       " <folium.vector_layers.CircleMarker at 0x7fb9e45eeef0>,\n",
       " <folium.vector_layers.CircleMarker at 0x7fb9e45eef28>,\n",
       " <folium.vector_layers.CircleMarker at 0x7fb9e45eef60>,\n",
       " <folium.vector_layers.CircleMarker at 0x7fb9e45eef98>,\n",
       " <folium.vector_layers.CircleMarker at 0x7fb9e45eefd0>,\n",
       " <folium.vector_layers.CircleMarker at 0x7fb9e45ee048>,\n",
       " <folium.vector_layers.CircleMarker at 0x7fb9e45fa080>,\n",
       " <folium.vector_layers.CircleMarker at 0x7fb9e45fa0b8>,\n",
       " <folium.vector_layers.CircleMarker at 0x7fb9e45fa0f0>,\n",
       " <folium.vector_layers.CircleMarker at 0x7fb9e45fa128>,\n",
       " <folium.vector_layers.CircleMarker at 0x7fb9e45fa160>,\n",
       " <folium.vector_layers.CircleMarker at 0x7fb9e45fa198>,\n",
       " <folium.vector_layers.CircleMarker at 0x7fb9e45fa1d0>,\n",
       " <folium.vector_layers.CircleMarker at 0x7fb9e45fa208>,\n",
       " <folium.vector_layers.CircleMarker at 0x7fb9e45fa240>,\n",
       " <folium.vector_layers.CircleMarker at 0x7fb9e45fa278>,\n",
       " <folium.vector_layers.CircleMarker at 0x7fb9e45fa2b0>,\n",
       " <folium.vector_layers.CircleMarker at 0x7fb9e45fa2e8>,\n",
       " <folium.vector_layers.CircleMarker at 0x7fb9e45fa320>,\n",
       " <folium.vector_layers.CircleMarker at 0x7fb9e45fa358>,\n",
       " <folium.vector_layers.CircleMarker at 0x7fb9e45fa390>,\n",
       " <folium.vector_layers.CircleMarker at 0x7fb9e45fa3c8>,\n",
       " <folium.vector_layers.CircleMarker at 0x7fb9e45fa400>,\n",
       " <folium.vector_layers.CircleMarker at 0x7fb9e45fa438>,\n",
       " <folium.vector_layers.CircleMarker at 0x7fb9e45fa470>,\n",
       " <folium.vector_layers.CircleMarker at 0x7fb9e45fa4a8>,\n",
       " <folium.vector_layers.CircleMarker at 0x7fb9e45fa4e0>,\n",
       " <folium.vector_layers.CircleMarker at 0x7fb9e45fa518>,\n",
       " <folium.vector_layers.CircleMarker at 0x7fb9e45fa550>,\n",
       " <folium.vector_layers.CircleMarker at 0x7fb9e45fa588>,\n",
       " <folium.vector_layers.CircleMarker at 0x7fb9e45fa5c0>,\n",
       " <folium.vector_layers.CircleMarker at 0x7fb9e45fa5f8>,\n",
       " <folium.vector_layers.CircleMarker at 0x7fb9e45fa630>,\n",
       " <folium.vector_layers.CircleMarker at 0x7fb9e45fa668>,\n",
       " <folium.vector_layers.CircleMarker at 0x7fb9e45fa6a0>,\n",
       " <folium.vector_layers.CircleMarker at 0x7fb9e45fa6d8>,\n",
       " <folium.vector_layers.CircleMarker at 0x7fb9e45fa710>,\n",
       " <folium.vector_layers.CircleMarker at 0x7fb9e45fa748>,\n",
       " <folium.vector_layers.CircleMarker at 0x7fb9e45fa780>,\n",
       " <folium.vector_layers.CircleMarker at 0x7fb9e45fa7b8>,\n",
       " <folium.vector_layers.CircleMarker at 0x7fb9e45fa7f0>,\n",
       " <folium.vector_layers.CircleMarker at 0x7fb9e45fa828>,\n",
       " <folium.vector_layers.CircleMarker at 0x7fb9e45fa860>,\n",
       " <folium.vector_layers.CircleMarker at 0x7fb9e45fa898>,\n",
       " <folium.vector_layers.CircleMarker at 0x7fb9e45fa8d0>,\n",
       " <folium.vector_layers.CircleMarker at 0x7fb9e45fa908>,\n",
       " <folium.vector_layers.CircleMarker at 0x7fb9e45fa940>,\n",
       " <folium.vector_layers.CircleMarker at 0x7fb9e45fa978>,\n",
       " <folium.vector_layers.CircleMarker at 0x7fb9e45fa9b0>,\n",
       " <folium.vector_layers.CircleMarker at 0x7fb9e45fa9e8>,\n",
       " <folium.vector_layers.CircleMarker at 0x7fb9e45faa20>,\n",
       " <folium.vector_layers.CircleMarker at 0x7fb9e45faa58>,\n",
       " <folium.vector_layers.CircleMarker at 0x7fb9e45faa90>,\n",
       " <folium.vector_layers.CircleMarker at 0x7fb9e45faac8>,\n",
       " <folium.vector_layers.CircleMarker at 0x7fb9e45fab00>,\n",
       " <folium.vector_layers.CircleMarker at 0x7fb9e45fab38>,\n",
       " <folium.vector_layers.CircleMarker at 0x7fb9e45fab70>,\n",
       " <folium.vector_layers.CircleMarker at 0x7fb9e45faba8>,\n",
       " <folium.vector_layers.CircleMarker at 0x7fb9e45fabe0>,\n",
       " <folium.vector_layers.CircleMarker at 0x7fb9e45fac18>,\n",
       " <folium.vector_layers.CircleMarker at 0x7fb9e45fac50>,\n",
       " <folium.vector_layers.CircleMarker at 0x7fb9e45fac88>,\n",
       " <folium.vector_layers.CircleMarker at 0x7fb9e45facc0>,\n",
       " <folium.vector_layers.CircleMarker at 0x7fb9e45facf8>,\n",
       " <folium.vector_layers.CircleMarker at 0x7fb9e45fad30>,\n",
       " <folium.vector_layers.CircleMarker at 0x7fb9e45fad68>,\n",
       " <folium.vector_layers.CircleMarker at 0x7fb9e45fada0>,\n",
       " <folium.vector_layers.CircleMarker at 0x7fb9e45fadd8>,\n",
       " <folium.vector_layers.CircleMarker at 0x7fb9e45fae10>,\n",
       " <folium.vector_layers.CircleMarker at 0x7fb9e45fae48>,\n",
       " <folium.vector_layers.CircleMarker at 0x7fb9e45fae80>,\n",
       " <folium.vector_layers.CircleMarker at 0x7fb9e45faeb8>,\n",
       " <folium.vector_layers.CircleMarker at 0x7fb9e45faef0>,\n",
       " <folium.vector_layers.CircleMarker at 0x7fb9e45faf28>,\n",
       " <folium.vector_layers.CircleMarker at 0x7fb9e45faf60>,\n",
       " <folium.vector_layers.CircleMarker at 0x7fb9e45faf98>,\n",
       " <folium.vector_layers.CircleMarker at 0x7fb9e45fafd0>,\n",
       " <folium.vector_layers.CircleMarker at 0x7fb9e45fa048>,\n",
       " <folium.vector_layers.CircleMarker at 0x7fb9e4609080>,\n",
       " <folium.vector_layers.CircleMarker at 0x7fb9e46090b8>,\n",
       " <folium.vector_layers.CircleMarker at 0x7fb9e46090f0>,\n",
       " <folium.vector_layers.CircleMarker at 0x7fb9e4609128>,\n",
       " <folium.vector_layers.CircleMarker at 0x7fb9e4609160>,\n",
       " <folium.vector_layers.CircleMarker at 0x7fb9e4609198>,\n",
       " <folium.vector_layers.CircleMarker at 0x7fb9e46091d0>,\n",
       " <folium.vector_layers.CircleMarker at 0x7fb9e4609208>,\n",
       " <folium.vector_layers.CircleMarker at 0x7fb9e4609240>,\n",
       " <folium.vector_layers.CircleMarker at 0x7fb9e4609278>,\n",
       " <folium.vector_layers.CircleMarker at 0x7fb9e46092b0>,\n",
       " <folium.vector_layers.CircleMarker at 0x7fb9e46092e8>,\n",
       " <folium.vector_layers.CircleMarker at 0x7fb9e4609320>,\n",
       " <folium.vector_layers.CircleMarker at 0x7fb9e4609358>,\n",
       " <folium.vector_layers.CircleMarker at 0x7fb9e4609390>,\n",
       " <folium.vector_layers.CircleMarker at 0x7fb9e46093c8>,\n",
       " <folium.vector_layers.CircleMarker at 0x7fb9e4609400>,\n",
       " <folium.vector_layers.CircleMarker at 0x7fb9e4609438>,\n",
       " <folium.vector_layers.CircleMarker at 0x7fb9e4609470>,\n",
       " <folium.vector_layers.CircleMarker at 0x7fb9e46094a8>,\n",
       " <folium.vector_layers.CircleMarker at 0x7fb9e46094e0>,\n",
       " <folium.vector_layers.CircleMarker at 0x7fb9e4609518>,\n",
       " <folium.vector_layers.CircleMarker at 0x7fb9e4609550>,\n",
       " <folium.vector_layers.CircleMarker at 0x7fb9e4609588>,\n",
       " <folium.vector_layers.CircleMarker at 0x7fb9e46095c0>,\n",
       " <folium.vector_layers.CircleMarker at 0x7fb9e46095f8>,\n",
       " <folium.vector_layers.CircleMarker at 0x7fb9e4609630>,\n",
       " <folium.vector_layers.CircleMarker at 0x7fb9e4609668>,\n",
       " <folium.vector_layers.CircleMarker at 0x7fb9e46096a0>,\n",
       " <folium.vector_layers.CircleMarker at 0x7fb9e46096d8>,\n",
       " <folium.vector_layers.CircleMarker at 0x7fb9e4609710>,\n",
       " <folium.vector_layers.CircleMarker at 0x7fb9e4609748>,\n",
       " <folium.vector_layers.CircleMarker at 0x7fb9e4609780>,\n",
       " <folium.vector_layers.CircleMarker at 0x7fb9e46097b8>,\n",
       " <folium.vector_layers.CircleMarker at 0x7fb9e46097f0>,\n",
       " <folium.vector_layers.CircleMarker at 0x7fb9e4609828>,\n",
       " <folium.vector_layers.CircleMarker at 0x7fb9e4609860>,\n",
       " <folium.vector_layers.CircleMarker at 0x7fb9e4609898>,\n",
       " <folium.vector_layers.CircleMarker at 0x7fb9e46098d0>,\n",
       " <folium.vector_layers.CircleMarker at 0x7fb9e4609908>,\n",
       " <folium.vector_layers.CircleMarker at 0x7fb9e4609940>,\n",
       " <folium.vector_layers.CircleMarker at 0x7fb9e4609978>,\n",
       " <folium.vector_layers.CircleMarker at 0x7fb9e46099b0>,\n",
       " <folium.vector_layers.CircleMarker at 0x7fb9e46099e8>,\n",
       " <folium.vector_layers.CircleMarker at 0x7fb9e4609a20>,\n",
       " <folium.vector_layers.CircleMarker at 0x7fb9e4609a58>,\n",
       " <folium.vector_layers.CircleMarker at 0x7fb9e4609a90>,\n",
       " <folium.vector_layers.CircleMarker at 0x7fb9e4609ac8>,\n",
       " <folium.vector_layers.CircleMarker at 0x7fb9e4609b00>,\n",
       " <folium.vector_layers.CircleMarker at 0x7fb9e4609b38>,\n",
       " <folium.vector_layers.CircleMarker at 0x7fb9e4609b70>,\n",
       " <folium.vector_layers.CircleMarker at 0x7fb9e4609ba8>,\n",
       " <folium.vector_layers.CircleMarker at 0x7fb9e4609be0>,\n",
       " <folium.vector_layers.CircleMarker at 0x7fb9e4609c18>]"
      ]
     },
     "execution_count": 33,
     "metadata": {},
     "output_type": "execute_result"
    }
   ],
   "source": [
    "trip_markers = markers_from_trips(cleaned_trips)\n",
    "trip_markers"
   ]
  },
  {
   "cell_type": "code",
   "execution_count": 32,
   "metadata": {},
   "outputs": [
    {
     "data": {
      "text/plain": [
       "[{'trip_distance': 18.38,\n",
       "  'pickup_latitude': 40.64499,\n",
       "  'pickup_longitude': -73.78115},\n",
       " {'trip_distance': 1.3,\n",
       "  'pickup_latitude': 40.766931,\n",
       "  'pickup_longitude': -73.982098},\n",
       " {'trip_distance': 4.5,\n",
       "  'pickup_latitude': 40.77773,\n",
       "  'pickup_longitude': -73.951902},\n",
       " {'trip_distance': 2.4,\n",
       "  'pickup_latitude': 40.795678,\n",
       "  'pickup_longitude': -73.971049}]"
      ]
     },
     "execution_count": 32,
     "metadata": {},
     "output_type": "execute_result"
    }
   ],
   "source": [
    "cleaned_trips[0:4]"
   ]
  },
  {
   "cell_type": "code",
   "execution_count": null,
   "metadata": {},
   "outputs": [],
   "source": [
    "trip_markers and len(trip_markers) # 1000\n",
    "\n",
    "list(map(lambda marker: marker.location, trip_markers[0:4]))\n",
    "# [[40.64499, -73.78115],\n",
    "#  [40.766931, -73.982098],\n",
    "#  [40.77773, -73.951902],\n",
    "#  [40.795678, -73.971049]]"
   ]
  },
  {
   "cell_type": "markdown",
   "metadata": {},
   "source": [
    "Ok, now that we have a function that creates locations, and a function that creates markers, it is time to write a function to plot a map. \n",
    "\n",
    "Write a function called `map_from` that, provided the first argument of a list location and second argument an integer representing the `zoom_start`, returns a `folium` map the corresponding location and `zoom_start` attributes.\n",
    "\n",
    "> Hint: The following is how to write a map with folium:\n",
    "> ```python \n",
    "    folium.Map(location=location, zoom_start=zoom_amount)\n",
    "> ```"
   ]
  },
  {
   "cell_type": "code",
   "execution_count": null,
   "metadata": {},
   "outputs": [],
   "source": [
    "def map_from(location, zoom_amount):\n",
    "    pass"
   ]
  },
  {
   "cell_type": "code",
   "execution_count": null,
   "metadata": {},
   "outputs": [],
   "source": [
    "times_square_map = map_from([40.7589, -73.9851], 15)\n",
    "times_square_map and times_square_map.location # [40.7589, -73.9851]\n",
    "times_square_map and times_square_map.zoom_start # 15"
   ]
  },
  {
   "cell_type": "code",
   "execution_count": null,
   "metadata": {
    "scrolled": true
   },
   "outputs": [],
   "source": [
    "times_square_marker and times_square_marker.add_to(times_square_map)\n",
    "times_square_map"
   ]
  },
  {
   "cell_type": "markdown",
   "metadata": {},
   "source": [
    "Now that we have a marker and a map, now let's write a function that adds a lot of markers to a map.  This function should add each marker in the list to the map object then return the updated map object."
   ]
  },
  {
   "cell_type": "code",
   "execution_count": null,
   "metadata": {},
   "outputs": [],
   "source": [
    "manhattan_map = map_from([40.7589, -73.9851], 13)"
   ]
  },
  {
   "cell_type": "code",
   "execution_count": null,
   "metadata": {},
   "outputs": [],
   "source": [
    "def add_markers(markers, map_obj):\n",
    "    pass"
   ]
  },
  {
   "cell_type": "code",
   "execution_count": null,
   "metadata": {
    "scrolled": false
   },
   "outputs": [],
   "source": [
    "map_with_markers = add_markers(trip_markers, manhattan_map)"
   ]
  },
  {
   "cell_type": "code",
   "execution_count": null,
   "metadata": {},
   "outputs": [],
   "source": [
    "map_with_markers"
   ]
  },
  {
   "cell_type": "markdown",
   "metadata": {},
   "source": [
    "### Using Nearest Neighbors"
   ]
  },
  {
   "cell_type": "markdown",
   "metadata": {},
   "source": [
    "Ok, let's write a function that given a latitude and longitude will predict the distance for us.  We'll do this by first finding the nearest trips given a latitude and longitude. "
   ]
  },
  {
   "cell_type": "markdown",
   "metadata": {},
   "source": [
    "Here we once again apply the nearest neighbors formula. As a first step, write a function named `distance_location` that calculates the distance in pickup location between two trips."
   ]
  },
  {
   "cell_type": "code",
   "execution_count": null,
   "metadata": {},
   "outputs": [],
   "source": [
    "import math\n",
    "\n",
    "def distance_location(selected_trip, neighbor_trip):\n",
    "    pass"
   ]
  },
  {
   "cell_type": "code",
   "execution_count": null,
   "metadata": {},
   "outputs": [],
   "source": [
    "first_trip = {'pickup_latitude': 40.64499, 'pickup_longitude': -73.78115, 'trip_distance': 18.38}\n",
    "second_trip = {'pickup_latitude': 40.766931, 'pickup_longitude': -73.982098, 'trip_distance': 1.3}\n",
    "distance_first_and_second = distance_location(first_trip, second_trip)\n",
    "\n",
    "distance_first_and_second and round(distance_first_and_second, 3) # 0.235"
   ]
  },
  {
   "cell_type": "markdown",
   "metadata": {},
   "source": [
    "Ok, next write a function called `distance_between_neighbors` that adds a new key-value pair, called `distance_from_selected`, that calculates the distance of the `neighbor_trip` from the `selected_trip`."
   ]
  },
  {
   "cell_type": "code",
   "execution_count": null,
   "metadata": {},
   "outputs": [],
   "source": [
    "def distance_between_neighbors(selected_trip, neighbor_trip):\n",
    "    pass"
   ]
  },
  {
   "cell_type": "code",
   "execution_count": null,
   "metadata": {},
   "outputs": [],
   "source": [
    "distance_between_neighbors(first_trip, second_trip)\n",
    "\n",
    "# {'distance_from_selected': 0.23505256047318146,\n",
    "#  'pickup_latitude': 40.766931,\n",
    "#  'pickup_longitude': -73.982098,\n",
    "#  'trip_distance': 1.3}"
   ]
  },
  {
   "cell_type": "markdown",
   "metadata": {},
   "source": [
    "Ok, now our `neighbor_trip` has another attribute called `distance_from_selected`, that indicates the distance from the `neighbor_trip`'s pickup location from the `selected_trip`."
   ]
  },
  {
   "cell_type": "markdown",
   "metadata": {},
   "source": [
    "> ** Understand the data:** Our dictionary now has a few attributes, two of which say distance.  Let's make sure we understand the difference. \n",
    "> * **`distance_from_selected`:** This is our calculation of the distance of the neighbor's pickup location from the selected trip.\n",
    "> * **`trip_distance`:** This is the attribute we were provided initially.  It tells us the length of the neighbor's taxi trip from pickup to drop-off.  "
   ]
  },
  {
   "cell_type": "markdown",
   "metadata": {},
   "source": [
    "Next, write a function called `distance_all` that provided a list of neighbors, returns each of those neighbors with their respective `distance_from_selected` numbers."
   ]
  },
  {
   "cell_type": "code",
   "execution_count": null,
   "metadata": {},
   "outputs": [],
   "source": [
    "def distance_all(selected_individual, neighbors):\n",
    "    pass"
   ]
  },
  {
   "cell_type": "code",
   "execution_count": null,
   "metadata": {},
   "outputs": [],
   "source": [
    "cleaned_trips and distance_all(first_trip, cleaned_trips[0:4])"
   ]
  },
  {
   "cell_type": "markdown",
   "metadata": {},
   "source": [
    "Now write the nearest neighbors formula to calculate the distance of the `selected_trip` from all of the `cleaned_trips` in our dataset.  If no number is provided, it should return the top 3 neighbors."
   ]
  },
  {
   "cell_type": "code",
   "execution_count": null,
   "metadata": {},
   "outputs": [],
   "source": [
    "def nearest_neighbors(selected_trip, trips, number = 3):\n",
    "    pass"
   ]
  },
  {
   "cell_type": "code",
   "execution_count": null,
   "metadata": {},
   "outputs": [],
   "source": [
    "new_trip = {'pickup_latitude': 40.64499,\n",
    "'pickup_longitude': -73.78115,\n",
    "'trip_distance': 18.38}\n",
    "\n",
    "nearest_three_neighbors = nearest_neighbors(new_trip, cleaned_trips or [], number = 3)\n",
    "nearest_three_neighbors\n",
    "# [{'distance_from_selected': 0.0004569288784918792,\n",
    "#   'pickup_latitude': 40.64483,\n",
    "#   'pickup_longitude': -73.781578,\n",
    "#   'trip_distance': 7.78},\n",
    "#  {'distance_from_selected': 0.0011292165425673159,\n",
    "#   'pickup_latitude': 40.644657,\n",
    "#   'pickup_longitude': -73.782229,\n",
    "#   'trip_distance': 12.7},\n",
    "#  {'distance_from_selected': 0.0042359798158141185,\n",
    "#   'pickup_latitude': 40.648509,\n",
    "#   'pickup_longitude': -73.783508,\n",
    "#   'trip_distance': 17.3}]"
   ]
  },
  {
   "cell_type": "markdown",
   "metadata": {},
   "source": [
    "Ok great! Now that we can provide a new trip location, and find the distances of the three nearest trips, we can take  calculate an estimate of the trip distance for that new trip location.  \n",
    "\n",
    "We do so simply by calculating the average of it's nearest neighbors."
   ]
  },
  {
   "cell_type": "code",
   "execution_count": null,
   "metadata": {},
   "outputs": [],
   "source": [
    "import statistics\n",
    "def mean_distance(neighbors):\n",
    "    nearest_distances = list(map(lambda neighbor: neighbor['trip_distance'], neighbors))\n",
    "    return round(statistics.mean(nearest_distances), 3)\n",
    "\n",
    "nearest_three_neighbors = nearest_neighbors(new_trip, cleaned_trips or [], number = 3)\n",
    "distance_estimate_of_selected_trip = mean_distance(nearest_three_neighbors) # 12.593\n",
    "distance_estimate_of_selected_trip"
   ]
  },
  {
   "cell_type": "markdown",
   "metadata": {},
   "source": [
    "### Choosing the correct number of neighbors"
   ]
  },
  {
   "cell_type": "markdown",
   "metadata": {},
   "source": [
    "Now, as we know from the last lesson, one tricky element is to determine how many neighbors to choose, our $k$ value,  before calculating the average.  We want to choose our value of $k$ such that it properly matches actual data, and so that it applies to new data.  There are fancy formulas to ensure that we **train** our algorithm so that our formula is optimized for all data, but here let's see different $k$ values manually.  This is the gist of choosing our $k$ value:\n",
    "\n",
    "* If we choose a $k$ value too low, our formula will be too heavily influenced by a single neighbor, whereas if our $k$ value is too high, we will be choosing so many neighbors that our nearest neighbors formula will not be adjust enough according to locations.\n",
    "\n",
    "Ok, let's experiment with this."
   ]
  },
  {
   "cell_type": "markdown",
   "metadata": {},
   "source": [
    "First, let's choose a midtown location, to see what the trip distance would be.  A Google search reveals the coordinates of 51st and 7th avenue to be the following."
   ]
  },
  {
   "cell_type": "code",
   "execution_count": null,
   "metadata": {},
   "outputs": [],
   "source": [
    "midtown_trip = dict(pickup_latitude=40.761710, pickup_longitude=-73.982760)"
   ]
  },
  {
   "cell_type": "code",
   "execution_count": null,
   "metadata": {},
   "outputs": [],
   "source": [
    "seven_closest = nearest_neighbors(midtown_trip, cleaned_trips, number = 7)\n",
    "seven_closest\n",
    "# [{'trip_distance': 0.58,\n",
    "#   'pickup_latitude': 40.761372,\n",
    "#   'pickup_longitude': -73.982602,\n",
    "#   'distance_from_selected': 0.00037310588309379025},\n",
    "#  {'trip_distance': 0.8,\n",
    "#   'pickup_latitude': 40.762444,\n",
    "#   'pickup_longitude': -73.98244,\n",
    "#   'distance_from_selected': 0.00080072217404248},\n",
    "#  {'trip_distance': 1.4,\n",
    "#   'pickup_latitude': 40.762767,\n",
    "#   'pickup_longitude': -73.982293,\n",
    "#   'distance_from_selected': 0.0011555682584735844},\n",
    "#  {'trip_distance': 8.3,\n",
    "#   'pickup_latitude': 40.762868,\n",
    "#   'pickup_longitude': -73.983233,\n",
    "#   'distance_from_selected': 0.0012508768924205918},\n",
    "#  {'trip_distance': 1.26,\n",
    "#   'pickup_latitude': 40.760057,\n",
    "#   'pickup_longitude': -73.983502,\n",
    "#   'distance_from_selected': 0.0018118976240381972},\n",
    "#  {'trip_distance': 0.0,\n",
    "#   'pickup_latitude': 40.760644,\n",
    "#   'pickup_longitude': -73.984531,\n",
    "#   'distance_from_selected': 0.002067074502774709},\n",
    "#  {'trip_distance': 1.72,\n",
    "#   'pickup_latitude': 40.762107,\n",
    "#   'pickup_longitude': -73.98479,\n",
    "#   'distance_from_selected': 0.0020684557041472677}]"
   ]
  },
  {
   "cell_type": "markdown",
   "metadata": {},
   "source": [
    "Looking at the `distance_from_selected` it appears that our our trips are still fairly close to our selected trip.  Notice that most of the data is within a distance of .002 away, so going to the top 7 nearest neighbors didn't seem to give us neighbors too far from each other, which is a good sign.\n",
    "\n",
    "Still, it's hard to know what distance in latitude and longitude really look like, so let's map the data. "
   ]
  },
  {
   "cell_type": "code",
   "execution_count": null,
   "metadata": {},
   "outputs": [],
   "source": [
    "midtown_location = location(midtown_trip) # [40.76171, -73.98276]\n",
    "midtown_map = map_from(midtown_location, 16)\n",
    "closest_markers = markers_from_trips(seven_closest)\n",
    "\n",
    "add_markers(closest_markers, midtown_map)"
   ]
  },
  {
   "cell_type": "markdown",
   "metadata": {},
   "source": [
    "Ok.  These locations stay fairly close to our estimated location of 51st street and 7th Avenue.  So they could be a good estimate of a trip distance."
   ]
  },
  {
   "cell_type": "code",
   "execution_count": null,
   "metadata": {},
   "outputs": [],
   "source": [
    "mean_distance(seven_closest) # 2.009"
   ]
  },
  {
   "cell_type": "markdown",
   "metadata": {},
   "source": [
    "Ok, now let's try a different location"
   ]
  },
  {
   "cell_type": "code",
   "execution_count": null,
   "metadata": {},
   "outputs": [],
   "source": [
    "charging_bull_closest = nearest_neighbors({'pickup_latitude': 40.7049, 'pickup_longitude': -74.0137}, cleaned_trips, number = 12)"
   ]
  },
  {
   "cell_type": "code",
   "execution_count": null,
   "metadata": {
    "scrolled": true
   },
   "outputs": [],
   "source": [
    "mean_distance(charging_bull_closest) # 3.145"
   ]
  },
  {
   "cell_type": "markdown",
   "metadata": {},
   "source": [
    "Ok, so there appears to be a significant difference between choosing a location near Times Square versus choosing a location at Wall Street."
   ]
  },
  {
   "cell_type": "markdown",
   "metadata": {},
   "source": [
    "### Summary"
   ]
  },
  {
   "cell_type": "markdown",
   "metadata": {},
   "source": [
    "In this lab, we used the nearest neighbors function to predict the length of a taxi ride.  To do so, we selected a location, then found a number of taxi rides closest to that location, and finally took the average trip lengths of the nearest taxi rides to find an estimate of the new ride's trip length.  You can see that even with just a little bit of math and programming we can begin to make meaningful predictions with data."
   ]
  }
 ],
 "metadata": {
  "kernelspec": {
   "display_name": "Python 3",
   "language": "python",
   "name": "python3"
  },
  "language_info": {
   "codemirror_mode": {
    "name": "ipython",
    "version": 3
   },
   "file_extension": ".py",
   "mimetype": "text/x-python",
   "name": "python",
   "nbconvert_exporter": "python",
   "pygments_lexer": "ipython3",
   "version": "3.6.9"
  }
 },
 "nbformat": 4,
 "nbformat_minor": 2
}
