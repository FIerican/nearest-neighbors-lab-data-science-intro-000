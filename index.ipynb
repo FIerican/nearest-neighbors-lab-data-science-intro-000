{
 "cells": [
  {
   "cell_type": "markdown",
   "metadata": {},
   "source": [
    "# Nearest Neighbors Lab"
   ]
  },
  {
   "cell_type": "markdown",
   "metadata": {},
   "source": [
    "### Introduction\n",
    "\n",
    "In this lab, you apply nearest neighbors technique to help a taxi company predict the length of their rides.  Imagine that we are hired to consult for LiftOff, a limo and taxi service that is just opening up in NYC.  Liftoff wants it's taxi drivers to target longer rides, as the longer the ride the more money it makes.  LiftOff has the following theory:\n",
    "\n",
    "* the pickup location of a taxi ride can help predict the length of the ride.  \n",
    "\n",
    "\n",
    "\n",
    "LiftOff asks us to do some analysis to write a function that will allow it to **predict the length of a taxi ride for any given location **.\n",
    "\n",
    "Our technique will be the following:\n",
    "  * **Collect** Obtain the data containing all of the taxi information, and only select the attributes of taxi trips that we need \n",
    "  * ** Explore ** Examine the attributes of our data, and plot some of our data on a map\n",
    "  * ** Train ** Write our nearest neighbors formula, and change the number of nearby trips to predict the length of a new trip\n",
    "  * ** Predict ** Use our function to predict trip lengths of new locations"
   ]
  },
  {
   "cell_type": "markdown",
   "metadata": {},
   "source": [
    "### Collect and Explore the data"
   ]
  },
  {
   "cell_type": "markdown",
   "metadata": {},
   "source": [
    "#### Collect the Data"
   ]
  },
  {
   "cell_type": "markdown",
   "metadata": {},
   "source": [
    "Luckily for us, [NYC Open Data](https://opendata.cityofnewyork.us/) collects information about NYC taxi trips and provides this data on [its website](https://data.cityofnewyork.us/Transportation/2014-Yellow-Taxi-Trip-Data/gn7m-em8n)."
   ]
  },
  {
   "cell_type": "markdown",
   "metadata": {},
   "source": [
    "![](./nyc-taxi.png)"
   ]
  },
  {
   "cell_type": "markdown",
   "metadata": {},
   "source": [
    "For your reading pleasure, the data has already been downloaded into the [trips.json](https://github.com/learn-co-curriculum/nearest-neighbors-lab/blob/master/trips.json) file in this lab which you can find here.  We'll use Python's `json` library to take the data from the `trips.json` file and store it as a variable in our notebook."
   ]
  },
  {
   "cell_type": "code",
   "execution_count": 1,
   "metadata": {},
   "outputs": [],
   "source": [
    "import json\n",
    "# First, read the file\n",
    "trips_file = open('trips.json')\n",
    "# Then, convert contents to list of dictionaries \n",
    "trips = json.load(trips_file)"
   ]
  },
  {
   "cell_type": "markdown",
   "metadata": {},
   "source": [
    "> Press shift + enter"
   ]
  },
  {
   "cell_type": "markdown",
   "metadata": {},
   "source": [
    "#### Explore the data"
   ]
  },
  {
   "cell_type": "markdown",
   "metadata": {},
   "source": [
    "The next step is to explore the data.  First, let's see how many trips we have."
   ]
  },
  {
   "cell_type": "code",
   "execution_count": 2,
   "metadata": {},
   "outputs": [
    {
     "data": {
      "text/plain": [
       "1000"
      ]
     },
     "execution_count": 2,
     "metadata": {},
     "output_type": "execute_result"
    }
   ],
   "source": [
    "len(trips)"
   ]
  },
  {
   "cell_type": "markdown",
   "metadata": {},
   "source": [
    "Not bad at all.  Now let's see what each individual trip looks like.  Each trip is a dictionary, so we can see the attributes of each trip with the `keys` function."
   ]
  },
  {
   "cell_type": "code",
   "execution_count": 3,
   "metadata": {
    "scrolled": true
   },
   "outputs": [
    {
     "data": {
      "text/plain": [
       "dict_keys(['dropoff_datetime', 'dropoff_latitude', 'dropoff_longitude', 'fare_amount', 'imp_surcharge', 'mta_tax', 'passenger_count', 'payment_type', 'pickup_datetime', 'pickup_latitude', 'pickup_longitude', 'rate_code', 'tip_amount', 'tolls_amount', 'total_amount', 'trip_distance', 'vendor_id'])"
      ]
     },
     "execution_count": 3,
     "metadata": {},
     "output_type": "execute_result"
    }
   ],
   "source": [
    "trips[0].keys()"
   ]
  },
  {
   "cell_type": "markdown",
   "metadata": {},
   "source": [
    "#### Limit our data"
   ]
  },
  {
   "cell_type": "markdown",
   "metadata": {},
   "source": [
    "Ok, now that we have explored some of our data, let's begin to think through what data is relevant for our task."
   ]
  },
  {
   "cell_type": "markdown",
   "metadata": {
    "collapsed": true
   },
   "source": [
    "Remember that our task is to **use the trip location to predict the length of a trip**.  So let's select the `pickup_latitude`, `pickup_longitude`, and `trip_distance` from each trip.  That will give us the trip location and related `trip_distance` for each trip.  Then based on these **actual** trip distances we can use nearest neighbors to predict an **expected** trip distance for a trip, provided an **actual** location."
   ]
  },
  {
   "cell_type": "markdown",
   "metadata": {},
   "source": [
    "** Add in about trip distance ** "
   ]
  },
  {
   "cell_type": "markdown",
   "metadata": {},
   "source": [
    "Write a function called `parse_trips(trips)` that returns a list of the trips with only the following attributes: \n",
    "* `trip_distance`\n",
    "* `pickup_latitude`\n",
    "* `pickup_longitude`"
   ]
  },
  {
   "cell_type": "code",
   "execution_count": 6,
   "metadata": {},
   "outputs": [],
   "source": [
    "def parse_trips(trips):\n",
    "    return list(map(lambda trip: dict(trip_distance=trip['trip_distance'], pickup_latitude=trip['pickup_latitude'],pickup_longitude=trip['pickup_longitude']),trips))"
   ]
  },
  {
   "cell_type": "code",
   "execution_count": 7,
   "metadata": {},
   "outputs": [
    {
     "data": {
      "text/plain": [
       "{'trip_distance': '18.379999999999999',\n",
       " 'pickup_latitude': '40.64499',\n",
       " 'pickup_longitude': '-73.781149999999997'}"
      ]
     },
     "execution_count": 7,
     "metadata": {},
     "output_type": "execute_result"
    }
   ],
   "source": [
    "parsed_trips = parse_trips(trips)\n",
    "parsed_trips and parsed_trips[0]\n",
    "\n",
    "# {'pickup_latitude': '40.64499',\n",
    "#  'pickup_longitude': '-73.78115',\n",
    "#  'trip_distance': '18.38'}"
   ]
  },
  {
   "cell_type": "markdown",
   "metadata": {},
   "source": [
    "Now, there's just one change to make.  If you look at one of the trips, all of the values are strings.  Let's change them to be floats."
   ]
  },
  {
   "cell_type": "code",
   "execution_count": 9,
   "metadata": {},
   "outputs": [],
   "source": [
    "def float_values(trips):    \n",
    "    return list(map(lambda trip: {'trip_distance': float(trip['trip_distance']),'pickup_latitude': float(trip['pickup_latitude']), 'pickup_longitude': float(trip['pickup_longitude'])}, trips))"
   ]
  },
  {
   "cell_type": "code",
   "execution_count": 10,
   "metadata": {},
   "outputs": [],
   "source": [
    "cleaned_trips = float_values(parsed_trips)"
   ]
  },
  {
   "cell_type": "code",
   "execution_count": 11,
   "metadata": {},
   "outputs": [
    {
     "data": {
      "text/plain": [
       "{'trip_distance': 18.38,\n",
       " 'pickup_latitude': 40.64499,\n",
       " 'pickup_longitude': -73.78115}"
      ]
     },
     "execution_count": 11,
     "metadata": {},
     "output_type": "execute_result"
    }
   ],
   "source": [
    "cleaned_trips[0]\n",
    "\n",
    "# {'pickup_latitude': 40.64499,\n",
    "#  'pickup_longitude': -73.78115,\n",
    "#  'trip_distance': 18.38}"
   ]
  },
  {
   "cell_type": "markdown",
   "metadata": {},
   "source": [
    "### Exploring the Data"
   ]
  },
  {
   "cell_type": "markdown",
   "metadata": {},
   "source": [
    "Now that we have paired down our data, let's get a sense of our trip data.  We can use the `folium` Python library to plot a map of Manhattan, and our data.  First we must import `folium`, and then use the `Map` function to pass through a `location`, and `zoom_start`.  If a map isn't showing up below, copy and paste the command `pip install -r requirements.txt` into your terminal to install `folium` then try again."
   ]
  },
  {
   "cell_type": "code",
   "execution_count": 12,
   "metadata": {},
   "outputs": [],
   "source": [
    "import folium\n",
    "manhattan_map = folium.Map(location=[40.7589, -73.9851], zoom_start=11)"
   ]
  },
  {
   "cell_type": "code",
   "execution_count": 13,
   "metadata": {
    "scrolled": true
   },
   "outputs": [
    {
     "data": {
      "text/html": [
       "<div style=\"width:100%;\"><div style=\"position:relative;width:100%;height:0;padding-bottom:60%;\"><iframe src=\"data:text/html;charset=utf-8;base64,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\" style=\"position:absolute;width:100%;height:100%;left:0;top:0;border:none !important;\" allowfullscreen webkitallowfullscreen mozallowfullscreen></iframe></div></div>"
      ],
      "text/plain": [
       "<folium.folium.Map at 0x7fba12003898>"
      ]
     },
     "execution_count": 13,
     "metadata": {},
     "output_type": "execute_result"
    }
   ],
   "source": [
    "manhattan_map"
   ]
  },
  {
   "cell_type": "markdown",
   "metadata": {},
   "source": [
    "Ok, now let's see how we could add a dot to mark a specific location.  We'll start with Times Square."
   ]
  },
  {
   "cell_type": "code",
   "execution_count": 16,
   "metadata": {},
   "outputs": [
    {
     "data": {
      "text/plain": [
       "<folium.vector_layers.CircleMarker at 0x7fb9e47e0438>"
      ]
     },
     "execution_count": 16,
     "metadata": {},
     "output_type": "execute_result"
    }
   ],
   "source": [
    "marker = folium.CircleMarker(location = [40.7589, -73.9851], radius=6)\n",
    "marker.add_to(manhattan_map)"
   ]
  },
  {
   "cell_type": "markdown",
   "metadata": {},
   "source": [
    "Above, we first create a marker.  Then we add that circle marker to the `manhattan_map` we created earlier. "
   ]
  },
  {
   "cell_type": "code",
   "execution_count": 17,
   "metadata": {
    "scrolled": false
   },
   "outputs": [
    {
     "data": {
      "text/html": [
       "<div style=\"width:100%;\"><div style=\"position:relative;width:100%;height:0;padding-bottom:60%;\"><iframe src=\"data:text/html;charset=utf-8;base64,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\" style=\"position:absolute;width:100%;height:100%;left:0;top:0;border:none !important;\" allowfullscreen webkitallowfullscreen mozallowfullscreen></iframe></div></div>"
      ],
      "text/plain": [
       "<folium.folium.Map at 0x7fba12003898>"
      ]
     },
     "execution_count": 17,
     "metadata": {},
     "output_type": "execute_result"
    }
   ],
   "source": [
    "manhattan_map"
   ]
  },
  {
   "cell_type": "markdown",
   "metadata": {},
   "source": [
    "Do you see that blue dot near Time's Square?  That is our marker.  \n",
    "\n",
    "So now that we can plot one marker on a map, we should have a sense of how we can plot many markers on a map to display our taxi ride data.  We simply plot a map, and then we add a marker for each location of a taxi trip.\n",
    "\n",
    "Now let's write some functions to allow us to plot maps and add markers a little more easily.  "
   ]
  },
  {
   "cell_type": "markdown",
   "metadata": {},
   "source": [
    "#### Writing some map plotting functions"
   ]
  },
  {
   "cell_type": "markdown",
   "metadata": {},
   "source": [
    "As a first step towards this, note that the functions to create both a marker and map each take in a location as two element list, representing the latitude and longitude values.  Take another look:\n",
    "\n",
    "```python\n",
    "marker = folium.CircleMarker(location = [40.7589, -73.9851])\n",
    "manhattan_map = folium.Map(location=[40.7589, -73.9851])\n",
    "```\n",
    "\n",
    "So let's write a function called to create this two element list from a trip.  Write a function called `location` that  takes in a trip as an argument and returns a list where the first element is the latitude and the second is the longitude.  Remember that a location looks like the following:"
   ]
  },
  {
   "cell_type": "code",
   "execution_count": 20,
   "metadata": {
    "scrolled": true
   },
   "outputs": [
    {
     "data": {
      "text/plain": [
       "{'pickup_latitude': 40.64499,\n",
       " 'pickup_longitude': -73.78115,\n",
       " 'trip_distance': 18.38}"
      ]
     },
     "execution_count": 20,
     "metadata": {},
     "output_type": "execute_result"
    }
   ],
   "source": [
    "first_trip = {'pickup_latitude': 40.64499, 'pickup_longitude': -73.78115,  'trip_distance': 18.38}\n",
    "first_trip"
   ]
  },
  {
   "cell_type": "code",
   "execution_count": 18,
   "metadata": {},
   "outputs": [],
   "source": [
    "def location(trip):\n",
    "    return [trip['pickup_latitude'], trip['pickup_longitude']]"
   ]
  },
  {
   "cell_type": "code",
   "execution_count": 21,
   "metadata": {},
   "outputs": [
    {
     "data": {
      "text/plain": [
       "[40.64499, -73.78115]"
      ]
     },
     "execution_count": 21,
     "metadata": {},
     "output_type": "execute_result"
    }
   ],
   "source": [
    "first_location = location(first_trip) # [40.64499, -73.78115]\n",
    "first_location # [40.64499, -73.78115]"
   ]
  },
  {
   "cell_type": "markdown",
   "metadata": {},
   "source": [
    "Ok, now that we can turn a trip into a location, let's turn a location into a marker.  Write a function called `to_marker` that takes in a location (in the form of a list) as an argument, and returns a folium `circleMarker` for that location.  The radius of the marker should always equal 6."
   ]
  },
  {
   "cell_type": "code",
   "execution_count": 26,
   "metadata": {},
   "outputs": [],
   "source": [
    "def to_marker(location):\n",
    "    return folium.CircleMarker(location, radius=6)"
   ]
  },
  {
   "cell_type": "code",
   "execution_count": 28,
   "metadata": {},
   "outputs": [
    {
     "ename": "TypeError",
     "evalue": "the JSON object must be str, bytes or bytearray, not 'dict'",
     "output_type": "error",
     "traceback": [
      "\u001b[0;31m\u001b[0m",
      "\u001b[0;31mTypeError\u001b[0mTraceback (most recent call last)",
      "\u001b[0;32m<ipython-input-28-aea535683066>\u001b[0m in \u001b[0;36m<module>\u001b[0;34m\u001b[0m\n\u001b[1;32m      3\u001b[0m \u001b[0;34m\u001b[0m\u001b[0m\n\u001b[1;32m      4\u001b[0m \u001b[0mtimes_square_marker\u001b[0m \u001b[0;32mand\u001b[0m \u001b[0mtimes_square_marker\u001b[0m\u001b[0;34m.\u001b[0m\u001b[0mlocation\u001b[0m \u001b[0;31m# [40.7589, -73.9851]\u001b[0m\u001b[0;34m\u001b[0m\u001b[0;34m\u001b[0m\u001b[0m\n\u001b[0;32m----> 5\u001b[0;31m \u001b[0mtimes_square_marker\u001b[0m \u001b[0;32mand\u001b[0m \u001b[0mjson\u001b[0m\u001b[0;34m.\u001b[0m\u001b[0mloads\u001b[0m\u001b[0;34m(\u001b[0m\u001b[0mtimes_square_marker\u001b[0m\u001b[0;34m.\u001b[0m\u001b[0moptions\u001b[0m\u001b[0;34m)\u001b[0m\u001b[0;34m[\u001b[0m\u001b[0;34m'radius'\u001b[0m\u001b[0;34m]\u001b[0m \u001b[0;31m# 6\u001b[0m\u001b[0;34m\u001b[0m\u001b[0;34m\u001b[0m\u001b[0m\n\u001b[0m",
      "\u001b[0;32m/opt/conda/envs/learn-env/lib/python3.6/json/__init__.py\u001b[0m in \u001b[0;36mloads\u001b[0;34m(s, encoding, cls, object_hook, parse_float, parse_int, parse_constant, object_pairs_hook, **kw)\u001b[0m\n\u001b[1;32m    346\u001b[0m         \u001b[0;32mif\u001b[0m \u001b[0;32mnot\u001b[0m \u001b[0misinstance\u001b[0m\u001b[0;34m(\u001b[0m\u001b[0ms\u001b[0m\u001b[0;34m,\u001b[0m \u001b[0;34m(\u001b[0m\u001b[0mbytes\u001b[0m\u001b[0;34m,\u001b[0m \u001b[0mbytearray\u001b[0m\u001b[0;34m)\u001b[0m\u001b[0;34m)\u001b[0m\u001b[0;34m:\u001b[0m\u001b[0;34m\u001b[0m\u001b[0;34m\u001b[0m\u001b[0m\n\u001b[1;32m    347\u001b[0m             raise TypeError('the JSON object must be str, bytes or bytearray, '\n\u001b[0;32m--> 348\u001b[0;31m                             'not {!r}'.format(s.__class__.__name__))\n\u001b[0m\u001b[1;32m    349\u001b[0m         \u001b[0ms\u001b[0m \u001b[0;34m=\u001b[0m \u001b[0ms\u001b[0m\u001b[0;34m.\u001b[0m\u001b[0mdecode\u001b[0m\u001b[0;34m(\u001b[0m\u001b[0mdetect_encoding\u001b[0m\u001b[0;34m(\u001b[0m\u001b[0ms\u001b[0m\u001b[0;34m)\u001b[0m\u001b[0;34m,\u001b[0m \u001b[0;34m'surrogatepass'\u001b[0m\u001b[0;34m)\u001b[0m\u001b[0;34m\u001b[0m\u001b[0;34m\u001b[0m\u001b[0m\n\u001b[1;32m    350\u001b[0m \u001b[0;34m\u001b[0m\u001b[0m\n",
      "\u001b[0;31mTypeError\u001b[0m: the JSON object must be str, bytes or bytearray, not 'dict'"
     ]
    }
   ],
   "source": [
    "import json\n",
    "times_square_marker = to_marker([40.7589, -73.9851])\n",
    "\n",
    "times_square_marker and times_square_marker.location # [40.7589, -73.9851]\n",
    "times_square_marker and json.loads(times_square_marker.options)['radius'] # 6"
   ]
  },
  {
   "cell_type": "markdown",
   "metadata": {},
   "source": [
    "Ok, now that we know how to produce a single marker, let's write a function to produce lots.  We can write a function called `markers_from_trips` that takes in a list of trips, and returns a marker object for each trip.  "
   ]
  },
  {
   "cell_type": "code",
   "execution_count": 30,
   "metadata": {},
   "outputs": [],
   "source": [
    "def markers_from_trips(trips):\n",
    "    return list(map(lambda trip: to_marker(location(trip)),trips))"
   ]
  },
  {
   "cell_type": "code",
   "execution_count": 34,
   "metadata": {},
   "outputs": [],
   "source": [
    "trip_markers = markers_from_trips(cleaned_trips)"
   ]
  },
  {
   "cell_type": "code",
   "execution_count": 32,
   "metadata": {},
   "outputs": [
    {
     "data": {
      "text/plain": [
       "[{'trip_distance': 18.38,\n",
       "  'pickup_latitude': 40.64499,\n",
       "  'pickup_longitude': -73.78115},\n",
       " {'trip_distance': 1.3,\n",
       "  'pickup_latitude': 40.766931,\n",
       "  'pickup_longitude': -73.982098},\n",
       " {'trip_distance': 4.5,\n",
       "  'pickup_latitude': 40.77773,\n",
       "  'pickup_longitude': -73.951902},\n",
       " {'trip_distance': 2.4,\n",
       "  'pickup_latitude': 40.795678,\n",
       "  'pickup_longitude': -73.971049}]"
      ]
     },
     "execution_count": 32,
     "metadata": {},
     "output_type": "execute_result"
    }
   ],
   "source": [
    "cleaned_trips[0:4]"
   ]
  },
  {
   "cell_type": "code",
   "execution_count": 37,
   "metadata": {},
   "outputs": [
    {
     "data": {
      "text/plain": [
       "[[40.64499, -73.78115],\n",
       " [40.766931, -73.982098],\n",
       " [40.77773, -73.951902],\n",
       " [40.795678, -73.971049]]"
      ]
     },
     "execution_count": 37,
     "metadata": {},
     "output_type": "execute_result"
    }
   ],
   "source": [
    "trip_markers and len(trip_markers) # 1000\n",
    "\n",
    "list(map(lambda marker: marker.location, trip_markers[0:4]))\n",
    "# [[40.64499, -73.78115],\n",
    "#  [40.766931, -73.982098],\n",
    "#  [40.77773, -73.951902],\n",
    "#  [40.795678, -73.971049]]"
   ]
  },
  {
   "cell_type": "markdown",
   "metadata": {},
   "source": [
    "Ok, now that we have a function that creates locations, and a function that creates markers, it is time to write a function to plot a map. \n",
    "\n",
    "Write a function called `map_from` that, provided the first argument of a list location and second argument an integer representing the `zoom_start`, returns a `folium` map the corresponding location and `zoom_start` attributes.\n",
    "\n",
    "> Hint: The following is how to write a map with folium:\n",
    "> ```python \n",
    "    folium.Map(location=location, zoom_start=zoom_amount)\n",
    "> ```"
   ]
  },
  {
   "cell_type": "code",
   "execution_count": 44,
   "metadata": {},
   "outputs": [],
   "source": [
    "def map_from(location, zoom_amount):\n",
    "     return folium.Map(location=location, zoom_start=zoom_amount)"
   ]
  },
  {
   "cell_type": "code",
   "execution_count": 49,
   "metadata": {},
   "outputs": [
    {
     "ename": "AttributeError",
     "evalue": "'Map' object has no attribute 'zoom_start'",
     "output_type": "error",
     "traceback": [
      "\u001b[0;31m\u001b[0m",
      "\u001b[0;31mAttributeError\u001b[0mTraceback (most recent call last)",
      "\u001b[0;32m<ipython-input-49-9505087fb7df>\u001b[0m in \u001b[0;36m<module>\u001b[0;34m\u001b[0m\n\u001b[1;32m      1\u001b[0m \u001b[0mtimes_square_map\u001b[0m \u001b[0;34m=\u001b[0m \u001b[0mmap_from\u001b[0m\u001b[0;34m(\u001b[0m\u001b[0;34m[\u001b[0m\u001b[0;36m40.7589\u001b[0m\u001b[0;34m,\u001b[0m \u001b[0;34m-\u001b[0m\u001b[0;36m73.9851\u001b[0m\u001b[0;34m]\u001b[0m\u001b[0;34m,\u001b[0m \u001b[0;36m15\u001b[0m\u001b[0;34m)\u001b[0m\u001b[0;34m\u001b[0m\u001b[0;34m\u001b[0m\u001b[0m\n\u001b[1;32m      2\u001b[0m \u001b[0mtimes_square_map\u001b[0m \u001b[0;32mand\u001b[0m \u001b[0mtimes_square_map\u001b[0m\u001b[0;34m.\u001b[0m\u001b[0mlocation\u001b[0m \u001b[0;31m# [40.7589, -73.9851]\u001b[0m\u001b[0;34m\u001b[0m\u001b[0;34m\u001b[0m\u001b[0m\n\u001b[0;32m----> 3\u001b[0;31m \u001b[0mtimes_square_map\u001b[0m \u001b[0;32mand\u001b[0m \u001b[0mtimes_square_map\u001b[0m\u001b[0;34m.\u001b[0m\u001b[0mzoom_start\u001b[0m \u001b[0;31m# 15\u001b[0m\u001b[0;34m\u001b[0m\u001b[0;34m\u001b[0m\u001b[0m\n\u001b[0m",
      "\u001b[0;31mAttributeError\u001b[0m: 'Map' object has no attribute 'zoom_start'"
     ]
    }
   ],
   "source": [
    "times_square_map = map_from([40.7589, -73.9851], 15)\n",
    "times_square_map and times_square_map.location # [40.7589, -73.9851]\n",
    "times_square_map and times_square_map.zoom_start # 15"
   ]
  },
  {
   "cell_type": "code",
   "execution_count": 50,
   "metadata": {
    "scrolled": true
   },
   "outputs": [
    {
     "data": {
      "text/html": [
       "<div style=\"width:100%;\"><div style=\"position:relative;width:100%;height:0;padding-bottom:60%;\"><iframe src=\"data:text/html;charset=utf-8;base64,PCFET0NUWVBFIGh0bWw+CjxoZWFkPiAgICAKICAgIDxtZXRhIGh0dHAtZXF1aXY9ImNvbnRlbnQtdHlwZSIgY29udGVudD0idGV4dC9odG1sOyBjaGFyc2V0PVVURi04IiAvPgogICAgCiAgICAgICAgPHNjcmlwdD4KICAgICAgICAgICAgTF9OT19UT1VDSCA9IGZhbHNlOwogICAgICAgICAgICBMX0RJU0FCTEVfM0QgPSBmYWxzZTsKICAgICAgICA8L3NjcmlwdD4KICAgIAogICAgPHNjcmlwdCBzcmM9Imh0dHBzOi8vY2RuLmpzZGVsaXZyLm5ldC9ucG0vbGVhZmxldEAxLjUuMS9kaXN0L2xlYWZsZXQuanMiPjwvc2NyaXB0PgogICAgPHNjcmlwdCBzcmM9Imh0dHBzOi8vY29kZS5qcXVlcnkuY29tL2pxdWVyeS0xLjEyLjQubWluLmpzIj48L3NjcmlwdD4KICAgIDxzY3JpcHQgc3JjPSJodHRwczovL21heGNkbi5ib290c3RyYXBjZG4uY29tL2Jvb3RzdHJhcC8zLjIuMC9qcy9ib290c3RyYXAubWluLmpzIj48L3NjcmlwdD4KICAgIDxzY3JpcHQgc3JjPSJodHRwczovL2NkbmpzLmNsb3VkZmxhcmUuY29tL2FqYXgvbGlicy9MZWFmbGV0LmF3ZXNvbWUtbWFya2Vycy8yLjAuMi9sZWFmbGV0LmF3ZXNvbWUtbWFya2Vycy5qcyI+PC9zY3JpcHQ+CiAgICA8bGluayByZWw9InN0eWxlc2hlZXQiIGhyZWY9Imh0dHBzOi8vY2RuLmpzZGVsaXZyLm5ldC9ucG0vbGVhZmxldEAxLjUuMS9kaXN0L2xlYWZsZXQuY3NzIi8+CiAgICA8bGluayByZWw9InN0eWxlc2hlZXQiIGhyZWY9Imh0dHBzOi8vbWF4Y2RuLmJvb3RzdHJhcGNkbi5jb20vYm9vdHN0cmFwLzMuMi4wL2Nzcy9ib290c3RyYXAubWluLmNzcyIvPgogICAgPGxpbmsgcmVsPSJzdHlsZXNoZWV0IiBocmVmPSJodHRwczovL21heGNkbi5ib290c3RyYXBjZG4uY29tL2Jvb3RzdHJhcC8zLjIuMC9jc3MvYm9vdHN0cmFwLXRoZW1lLm1pbi5jc3MiLz4KICAgIDxsaW5rIHJlbD0ic3R5bGVzaGVldCIgaHJlZj0iaHR0cHM6Ly9tYXhjZG4uYm9vdHN0cmFwY2RuLmNvbS9mb250LWF3ZXNvbWUvNC42LjMvY3NzL2ZvbnQtYXdlc29tZS5taW4uY3NzIi8+CiAgICA8bGluayByZWw9InN0eWxlc2hlZXQiIGhyZWY9Imh0dHBzOi8vY2RuanMuY2xvdWRmbGFyZS5jb20vYWpheC9saWJzL0xlYWZsZXQuYXdlc29tZS1tYXJrZXJzLzIuMC4yL2xlYWZsZXQuYXdlc29tZS1tYXJrZXJzLmNzcyIvPgogICAgPGxpbmsgcmVsPSJzdHlsZXNoZWV0IiBocmVmPSJodHRwczovL3Jhd2Nkbi5naXRoYWNrLmNvbS9weXRob24tdmlzdWFsaXphdGlvbi9mb2xpdW0vbWFzdGVyL2ZvbGl1bS90ZW1wbGF0ZXMvbGVhZmxldC5hd2Vzb21lLnJvdGF0ZS5jc3MiLz4KICAgIDxzdHlsZT5odG1sLCBib2R5IHt3aWR0aDogMTAwJTtoZWlnaHQ6IDEwMCU7bWFyZ2luOiAwO3BhZGRpbmc6IDA7fTwvc3R5bGU+CiAgICA8c3R5bGU+I21hcCB7cG9zaXRpb246YWJzb2x1dGU7dG9wOjA7Ym90dG9tOjA7cmlnaHQ6MDtsZWZ0OjA7fTwvc3R5bGU+CiAgICAKICAgICAgICAgICAgPG1ldGEgbmFtZT0idmlld3BvcnQiIGNvbnRlbnQ9IndpZHRoPWRldmljZS13aWR0aCwKICAgICAgICAgICAgICAgIGluaXRpYWwtc2NhbGU9MS4wLCBtYXhpbXVtLXNjYWxlPTEuMCwgdXNlci1zY2FsYWJsZT1ubyIgLz4KICAgICAgICAgICAgPHN0eWxlPgogICAgICAgICAgICAgICAgI21hcF9jN2JlYmZkZWRlMzU0YzUwYjBjOTMzMjQ2MjM4ODc2ZiB7CiAgICAgICAgICAgICAgICAgICAgcG9zaXRpb246IHJlbGF0aXZlOwogICAgICAgICAgICAgICAgICAgIHdpZHRoOiAxMDAuMCU7CiAgICAgICAgICAgICAgICAgICAgaGVpZ2h0OiAxMDAuMCU7CiAgICAgICAgICAgICAgICAgICAgbGVmdDogMC4wJTsKICAgICAgICAgICAgICAgICAgICB0b3A6IDAuMCU7CiAgICAgICAgICAgICAgICB9CiAgICAgICAgICAgIDwvc3R5bGU+CiAgICAgICAgCjwvaGVhZD4KPGJvZHk+ICAgIAogICAgCiAgICAgICAgICAgIDxkaXYgY2xhc3M9ImZvbGl1bS1tYXAiIGlkPSJtYXBfYzdiZWJmZGVkZTM1NGM1MGIwYzkzMzI0NjIzODg3NmYiID48L2Rpdj4KICAgICAgICAKPC9ib2R5Pgo8c2NyaXB0PiAgICAKICAgIAogICAgICAgICAgICB2YXIgbWFwX2M3YmViZmRlZGUzNTRjNTBiMGM5MzMyNDYyMzg4NzZmID0gTC5tYXAoCiAgICAgICAgICAgICAgICAibWFwX2M3YmViZmRlZGUzNTRjNTBiMGM5MzMyNDYyMzg4NzZmIiwKICAgICAgICAgICAgICAgIHsKICAgICAgICAgICAgICAgICAgICBjZW50ZXI6IFs0MC43NTg5LCAtNzMuOTg1MV0sCiAgICAgICAgICAgICAgICAgICAgY3JzOiBMLkNSUy5FUFNHMzg1NywKICAgICAgICAgICAgICAgICAgICB6b29tOiAxNSwKICAgICAgICAgICAgICAgICAgICB6b29tQ29udHJvbDogdHJ1ZSwKICAgICAgICAgICAgICAgICAgICBwcmVmZXJDYW52YXM6IGZhbHNlLAogICAgICAgICAgICAgICAgfQogICAgICAgICAgICApOwoKICAgICAgICAgICAgCgogICAgICAgIAogICAgCiAgICAgICAgICAgIHZhciB0aWxlX2xheWVyXzZkMDM4NWM0OTdkYjQyMDU4NWIwNjZmNjhmNmY2NDUwID0gTC50aWxlTGF5ZXIoCiAgICAgICAgICAgICAgICAiaHR0cHM6Ly97c30udGlsZS5vcGVuc3RyZWV0bWFwLm9yZy97en0ve3h9L3t5fS5wbmciLAogICAgICAgICAgICAgICAgeyJhdHRyaWJ1dGlvbiI6ICJEYXRhIGJ5IFx1MDAyNmNvcHk7IFx1MDAzY2EgaHJlZj1cImh0dHA6Ly9vcGVuc3RyZWV0bWFwLm9yZ1wiXHUwMDNlT3BlblN0cmVldE1hcFx1MDAzYy9hXHUwMDNlLCB1bmRlciBcdTAwM2NhIGhyZWY9XCJodHRwOi8vd3d3Lm9wZW5zdHJlZXRtYXAub3JnL2NvcHlyaWdodFwiXHUwMDNlT0RiTFx1MDAzYy9hXHUwMDNlLiIsICJkZXRlY3RSZXRpbmEiOiBmYWxzZSwgIm1heE5hdGl2ZVpvb20iOiAxOCwgIm1heFpvb20iOiAxOCwgIm1pblpvb20iOiAwLCAibm9XcmFwIjogZmFsc2UsICJvcGFjaXR5IjogMSwgInN1YmRvbWFpbnMiOiAiYWJjIiwgInRtcyI6IGZhbHNlfQogICAgICAgICAgICApLmFkZFRvKG1hcF9jN2JlYmZkZWRlMzU0YzUwYjBjOTMzMjQ2MjM4ODc2Zik7CiAgICAgICAgCiAgICAKICAgICAgICAgICAgdmFyIGNpcmNsZV9tYXJrZXJfODllNzI2Zjg5YmFhNDVjYThhYTBlYzYyMzgyMzM4MzkgPSBMLmNpcmNsZU1hcmtlcigKICAgICAgICAgICAgICAgIFs0MC43NTg5LCAtNzMuOTg1MV0sCiAgICAgICAgICAgICAgICB7ImJ1YmJsaW5nTW91c2VFdmVudHMiOiB0cnVlLCAiY29sb3IiOiAiIzMzODhmZiIsICJkYXNoQXJyYXkiOiBudWxsLCAiZGFzaE9mZnNldCI6IG51bGwsICJmaWxsIjogZmFsc2UsICJmaWxsQ29sb3IiOiAiIzMzODhmZiIsICJmaWxsT3BhY2l0eSI6IDAuMiwgImZpbGxSdWxlIjogImV2ZW5vZGQiLCAibGluZUNhcCI6ICJyb3VuZCIsICJsaW5lSm9pbiI6ICJyb3VuZCIsICJvcGFjaXR5IjogMS4wLCAicmFkaXVzIjogNiwgInN0cm9rZSI6IHRydWUsICJ3ZWlnaHQiOiAzfQogICAgICAgICAgICApLmFkZFRvKG1hcF9jN2JlYmZkZWRlMzU0YzUwYjBjOTMzMjQ2MjM4ODc2Zik7CiAgICAgICAgCjwvc2NyaXB0Pg==\" style=\"position:absolute;width:100%;height:100%;left:0;top:0;border:none !important;\" allowfullscreen webkitallowfullscreen mozallowfullscreen></iframe></div></div>"
      ],
      "text/plain": [
       "<folium.folium.Map at 0x7fb9e47e0828>"
      ]
     },
     "execution_count": 50,
     "metadata": {},
     "output_type": "execute_result"
    }
   ],
   "source": [
    "times_square_marker and times_square_marker.add_to(times_square_map)\n",
    "times_square_map"
   ]
  },
  {
   "cell_type": "markdown",
   "metadata": {},
   "source": [
    "Now that we have a marker and a map, now let's write a function that adds a lot of markers to a map.  This function should add each marker in the list to the map object then return the updated map object."
   ]
  },
  {
   "cell_type": "code",
   "execution_count": 51,
   "metadata": {},
   "outputs": [],
   "source": [
    "manhattan_map = map_from([40.7589, -73.9851], 13)"
   ]
  },
  {
   "cell_type": "code",
   "execution_count": 52,
   "metadata": {},
   "outputs": [],
   "source": [
    "def add_markers(markers, map_obj):   \n",
    "    list(map(lambda marker: marker.add_to(map_obj), markers))\n",
    "    "
   ]
  },
  {
   "cell_type": "code",
   "execution_count": 53,
   "metadata": {
    "scrolled": false
   },
   "outputs": [],
   "source": [
    "map_with_markers = add_markers(trip_markers, manhattan_map)"
   ]
  },
  {
   "cell_type": "code",
   "execution_count": 54,
   "metadata": {},
   "outputs": [
    {
     "data": {
      "text/plain": [
       "[<folium.vector_layers.CircleMarker at 0x7fb9e47e0d68>,\n",
       " <folium.vector_layers.CircleMarker at 0x7fb9e47e0a20>,\n",
       " <folium.vector_layers.CircleMarker at 0x7fb9e470c198>,\n",
       " <folium.vector_layers.CircleMarker at 0x7fb9e470c320>,\n",
       " <folium.vector_layers.CircleMarker at 0x7fb9e470c1d0>,\n",
       " <folium.vector_layers.CircleMarker at 0x7fb9e470c2b0>,\n",
       " <folium.vector_layers.CircleMarker at 0x7fb9e470c4a8>,\n",
       " <folium.vector_layers.CircleMarker at 0x7fb9e470c3c8>,\n",
       " <folium.vector_layers.CircleMarker at 0x7fb9e470c358>,\n",
       " <folium.vector_layers.CircleMarker at 0x7fb9e470c400>,\n",
       " <folium.vector_layers.CircleMarker at 0x7fb9e470c390>,\n",
       " <folium.vector_layers.CircleMarker at 0x7fb9e470c438>,\n",
       " <folium.vector_layers.CircleMarker at 0x7fb9e470c4e0>,\n",
       " <folium.vector_layers.CircleMarker at 0x7fb9e470c518>,\n",
       " <folium.vector_layers.CircleMarker at 0x7fb9e470c550>,\n",
       " <folium.vector_layers.CircleMarker at 0x7fb9e47e0a90>,\n",
       " <folium.vector_layers.CircleMarker at 0x7fb9e470c588>,\n",
       " <folium.vector_layers.CircleMarker at 0x7fb9e470c630>,\n",
       " <folium.vector_layers.CircleMarker at 0x7fb9e470c668>,\n",
       " <folium.vector_layers.CircleMarker at 0x7fb9e470c6a0>,\n",
       " <folium.vector_layers.CircleMarker at 0x7fb9e470c710>,\n",
       " <folium.vector_layers.CircleMarker at 0x7fb9e470c748>,\n",
       " <folium.vector_layers.CircleMarker at 0x7fb9e470c5c0>,\n",
       " <folium.vector_layers.CircleMarker at 0x7fb9e47e0c50>,\n",
       " <folium.vector_layers.CircleMarker at 0x7fb9e47e06d8>,\n",
       " <folium.vector_layers.CircleMarker at 0x7fb9e470c470>,\n",
       " <folium.vector_layers.CircleMarker at 0x7fb9e470c780>,\n",
       " <folium.vector_layers.CircleMarker at 0x7fb9e470c7b8>,\n",
       " <folium.vector_layers.CircleMarker at 0x7fb9e470c7f0>,\n",
       " <folium.vector_layers.CircleMarker at 0x7fb9e470c828>,\n",
       " <folium.vector_layers.CircleMarker at 0x7fb9e470c860>,\n",
       " <folium.vector_layers.CircleMarker at 0x7fb9e470c6d8>,\n",
       " <folium.vector_layers.CircleMarker at 0x7fb9e470c898>,\n",
       " <folium.vector_layers.CircleMarker at 0x7fb9e470c8d0>,\n",
       " <folium.vector_layers.CircleMarker at 0x7fb9e470c908>,\n",
       " <folium.vector_layers.CircleMarker at 0x7fb9e470c940>,\n",
       " <folium.vector_layers.CircleMarker at 0x7fb9e470c978>,\n",
       " <folium.vector_layers.CircleMarker at 0x7fb9e470c9e8>,\n",
       " <folium.vector_layers.CircleMarker at 0x7fb9e470ca20>,\n",
       " <folium.vector_layers.CircleMarker at 0x7fb9e470ca58>,\n",
       " <folium.vector_layers.CircleMarker at 0x7fb9e470ca90>,\n",
       " <folium.vector_layers.CircleMarker at 0x7fb9e470cac8>,\n",
       " <folium.vector_layers.CircleMarker at 0x7fb9e470cb00>,\n",
       " <folium.vector_layers.CircleMarker at 0x7fb9e470cb38>,\n",
       " <folium.vector_layers.CircleMarker at 0x7fb9e470cb70>,\n",
       " <folium.vector_layers.CircleMarker at 0x7fb9e470cba8>,\n",
       " <folium.vector_layers.CircleMarker at 0x7fb9e470cbe0>,\n",
       " <folium.vector_layers.CircleMarker at 0x7fb9e470cc18>,\n",
       " <folium.vector_layers.CircleMarker at 0x7fb9e470cc50>,\n",
       " <folium.vector_layers.CircleMarker at 0x7fb9e470cc88>,\n",
       " <folium.vector_layers.CircleMarker at 0x7fb9e470ccc0>,\n",
       " <folium.vector_layers.CircleMarker at 0x7fb9e470ccf8>,\n",
       " <folium.vector_layers.CircleMarker at 0x7fb9e470cd30>,\n",
       " <folium.vector_layers.CircleMarker at 0x7fb9e470cd68>,\n",
       " <folium.vector_layers.CircleMarker at 0x7fb9e470cda0>,\n",
       " <folium.vector_layers.CircleMarker at 0x7fb9e470cdd8>,\n",
       " <folium.vector_layers.CircleMarker at 0x7fb9e470ce10>,\n",
       " <folium.vector_layers.CircleMarker at 0x7fb9e470ce48>,\n",
       " <folium.vector_layers.CircleMarker at 0x7fb9e470ce80>,\n",
       " <folium.vector_layers.CircleMarker at 0x7fb9e470ceb8>,\n",
       " <folium.vector_layers.CircleMarker at 0x7fb9e470cef0>,\n",
       " <folium.vector_layers.CircleMarker at 0x7fb9e470cf28>,\n",
       " <folium.vector_layers.CircleMarker at 0x7fb9e470cf60>,\n",
       " <folium.vector_layers.CircleMarker at 0x7fb9e470cf98>,\n",
       " <folium.vector_layers.CircleMarker at 0x7fb9e470cfd0>,\n",
       " <folium.vector_layers.CircleMarker at 0x7fb9e470c278>,\n",
       " <folium.vector_layers.CircleMarker at 0x7fb9e470c208>,\n",
       " <folium.vector_layers.CircleMarker at 0x7fb9e47d2080>,\n",
       " <folium.vector_layers.CircleMarker at 0x7fb9e47d2470>,\n",
       " <folium.vector_layers.CircleMarker at 0x7fb9e47d2be0>,\n",
       " <folium.vector_layers.CircleMarker at 0x7fb9e4e6a9b0>,\n",
       " <folium.vector_layers.CircleMarker at 0x7fba089049e8>,\n",
       " <folium.vector_layers.CircleMarker at 0x7fb9e47d2828>,\n",
       " <folium.vector_layers.CircleMarker at 0x7fba10514208>,\n",
       " <folium.vector_layers.CircleMarker at 0x7fba105142b0>,\n",
       " <folium.vector_layers.CircleMarker at 0x7fb9e46c8dd8>,\n",
       " <folium.vector_layers.CircleMarker at 0x7fb9e46c8080>,\n",
       " <folium.vector_layers.CircleMarker at 0x7fb9e46c80b8>,\n",
       " <folium.vector_layers.CircleMarker at 0x7fb9e46c80f0>,\n",
       " <folium.vector_layers.CircleMarker at 0x7fb9e46c8128>,\n",
       " <folium.vector_layers.CircleMarker at 0x7fb9e46c8160>,\n",
       " <folium.vector_layers.CircleMarker at 0x7fb9e46c8198>,\n",
       " <folium.vector_layers.CircleMarker at 0x7fb9e46c81d0>,\n",
       " <folium.vector_layers.CircleMarker at 0x7fb9e46c8208>,\n",
       " <folium.vector_layers.CircleMarker at 0x7fb9e46c8240>,\n",
       " <folium.vector_layers.CircleMarker at 0x7fb9e46c8278>,\n",
       " <folium.vector_layers.CircleMarker at 0x7fb9e46c82b0>,\n",
       " <folium.vector_layers.CircleMarker at 0x7fb9e46c82e8>,\n",
       " <folium.vector_layers.CircleMarker at 0x7fb9e46c8320>,\n",
       " <folium.vector_layers.CircleMarker at 0x7fb9e46c8358>,\n",
       " <folium.vector_layers.CircleMarker at 0x7fb9e46c8390>,\n",
       " <folium.vector_layers.CircleMarker at 0x7fb9e46c83c8>,\n",
       " <folium.vector_layers.CircleMarker at 0x7fb9e46c8400>,\n",
       " <folium.vector_layers.CircleMarker at 0x7fb9e46c8438>,\n",
       " <folium.vector_layers.CircleMarker at 0x7fb9e46c8470>,\n",
       " <folium.vector_layers.CircleMarker at 0x7fb9e46c84a8>,\n",
       " <folium.vector_layers.CircleMarker at 0x7fb9e46c84e0>,\n",
       " <folium.vector_layers.CircleMarker at 0x7fb9e46c8518>,\n",
       " <folium.vector_layers.CircleMarker at 0x7fb9e46c8550>,\n",
       " <folium.vector_layers.CircleMarker at 0x7fb9e46c8588>,\n",
       " <folium.vector_layers.CircleMarker at 0x7fb9e46c85c0>,\n",
       " <folium.vector_layers.CircleMarker at 0x7fb9e46c85f8>,\n",
       " <folium.vector_layers.CircleMarker at 0x7fb9e46c8630>,\n",
       " <folium.vector_layers.CircleMarker at 0x7fb9e46c8668>,\n",
       " <folium.vector_layers.CircleMarker at 0x7fb9e46c86a0>,\n",
       " <folium.vector_layers.CircleMarker at 0x7fb9e46c86d8>,\n",
       " <folium.vector_layers.CircleMarker at 0x7fb9e46c8710>,\n",
       " <folium.vector_layers.CircleMarker at 0x7fb9e46c8748>,\n",
       " <folium.vector_layers.CircleMarker at 0x7fb9e46c8780>,\n",
       " <folium.vector_layers.CircleMarker at 0x7fb9e46c87b8>,\n",
       " <folium.vector_layers.CircleMarker at 0x7fb9e46c87f0>,\n",
       " <folium.vector_layers.CircleMarker at 0x7fb9e46c8828>,\n",
       " <folium.vector_layers.CircleMarker at 0x7fb9e46c8860>,\n",
       " <folium.vector_layers.CircleMarker at 0x7fb9e46c8898>,\n",
       " <folium.vector_layers.CircleMarker at 0x7fb9e46c88d0>,\n",
       " <folium.vector_layers.CircleMarker at 0x7fb9e46c8908>,\n",
       " <folium.vector_layers.CircleMarker at 0x7fb9e46c8940>,\n",
       " <folium.vector_layers.CircleMarker at 0x7fb9e46c8978>,\n",
       " <folium.vector_layers.CircleMarker at 0x7fb9e46c89b0>,\n",
       " <folium.vector_layers.CircleMarker at 0x7fb9e46c89e8>,\n",
       " <folium.vector_layers.CircleMarker at 0x7fb9e46c8a20>,\n",
       " <folium.vector_layers.CircleMarker at 0x7fb9e46c8a58>,\n",
       " <folium.vector_layers.CircleMarker at 0x7fb9e46c8a90>,\n",
       " <folium.vector_layers.CircleMarker at 0x7fb9e46c8ac8>,\n",
       " <folium.vector_layers.CircleMarker at 0x7fb9e46c8b00>,\n",
       " <folium.vector_layers.CircleMarker at 0x7fb9e46c8b38>,\n",
       " <folium.vector_layers.CircleMarker at 0x7fb9e46c8b70>,\n",
       " <folium.vector_layers.CircleMarker at 0x7fb9e46c8ba8>,\n",
       " <folium.vector_layers.CircleMarker at 0x7fb9e46c8be0>,\n",
       " <folium.vector_layers.CircleMarker at 0x7fb9e46c8c18>,\n",
       " <folium.vector_layers.CircleMarker at 0x7fb9e46c8c50>,\n",
       " <folium.vector_layers.CircleMarker at 0x7fb9e46c8c88>,\n",
       " <folium.vector_layers.CircleMarker at 0x7fb9e46c8cc0>,\n",
       " <folium.vector_layers.CircleMarker at 0x7fb9e46c8048>,\n",
       " <folium.vector_layers.CircleMarker at 0x7fb9e46c8da0>,\n",
       " <folium.vector_layers.CircleMarker at 0x7fb9e46c8d30>,\n",
       " <folium.vector_layers.CircleMarker at 0x7fb9e4609048>,\n",
       " <folium.vector_layers.CircleMarker at 0x7fb9e4609c88>,\n",
       " <folium.vector_layers.CircleMarker at 0x7fb9e4609cc0>,\n",
       " <folium.vector_layers.CircleMarker at 0x7fb9e4609cf8>,\n",
       " <folium.vector_layers.CircleMarker at 0x7fb9e4609d30>,\n",
       " <folium.vector_layers.CircleMarker at 0x7fb9e4609d68>,\n",
       " <folium.vector_layers.CircleMarker at 0x7fb9e4609da0>,\n",
       " <folium.vector_layers.CircleMarker at 0x7fb9e4609dd8>,\n",
       " <folium.vector_layers.CircleMarker at 0x7fb9e4609e10>,\n",
       " <folium.vector_layers.CircleMarker at 0x7fb9e4609e48>,\n",
       " <folium.vector_layers.CircleMarker at 0x7fb9e4609e80>,\n",
       " <folium.vector_layers.CircleMarker at 0x7fb9e4609eb8>,\n",
       " <folium.vector_layers.CircleMarker at 0x7fb9e4609ef0>,\n",
       " <folium.vector_layers.CircleMarker at 0x7fb9e4609f28>,\n",
       " <folium.vector_layers.CircleMarker at 0x7fb9e4609f60>,\n",
       " <folium.vector_layers.CircleMarker at 0x7fb9e4609f98>,\n",
       " <folium.vector_layers.CircleMarker at 0x7fb9e4609fd0>,\n",
       " <folium.vector_layers.CircleMarker at 0x7fb9e4609c50>,\n",
       " <folium.vector_layers.CircleMarker at 0x7fb9e4721080>,\n",
       " <folium.vector_layers.CircleMarker at 0x7fb9e47210b8>,\n",
       " <folium.vector_layers.CircleMarker at 0x7fb9e47210f0>,\n",
       " <folium.vector_layers.CircleMarker at 0x7fb9e4721128>,\n",
       " <folium.vector_layers.CircleMarker at 0x7fb9e4721160>,\n",
       " <folium.vector_layers.CircleMarker at 0x7fb9e4721198>,\n",
       " <folium.vector_layers.CircleMarker at 0x7fb9e47211d0>,\n",
       " <folium.vector_layers.CircleMarker at 0x7fb9e4721208>,\n",
       " <folium.vector_layers.CircleMarker at 0x7fb9e4721240>,\n",
       " <folium.vector_layers.CircleMarker at 0x7fb9e4721278>,\n",
       " <folium.vector_layers.CircleMarker at 0x7fb9e47212b0>,\n",
       " <folium.vector_layers.CircleMarker at 0x7fb9e47212e8>,\n",
       " <folium.vector_layers.CircleMarker at 0x7fb9e4721320>,\n",
       " <folium.vector_layers.CircleMarker at 0x7fb9e4721358>,\n",
       " <folium.vector_layers.CircleMarker at 0x7fb9e4721390>,\n",
       " <folium.vector_layers.CircleMarker at 0x7fb9e47213c8>,\n",
       " <folium.vector_layers.CircleMarker at 0x7fb9e4721400>,\n",
       " <folium.vector_layers.CircleMarker at 0x7fb9e4721438>,\n",
       " <folium.vector_layers.CircleMarker at 0x7fb9e4721470>,\n",
       " <folium.vector_layers.CircleMarker at 0x7fb9e47214a8>,\n",
       " <folium.vector_layers.CircleMarker at 0x7fb9e47214e0>,\n",
       " <folium.vector_layers.CircleMarker at 0x7fb9e4721518>,\n",
       " <folium.vector_layers.CircleMarker at 0x7fb9e4721550>,\n",
       " <folium.vector_layers.CircleMarker at 0x7fb9e4721588>,\n",
       " <folium.vector_layers.CircleMarker at 0x7fb9e47215c0>,\n",
       " <folium.vector_layers.CircleMarker at 0x7fb9e47215f8>,\n",
       " <folium.vector_layers.CircleMarker at 0x7fb9e4721630>,\n",
       " <folium.vector_layers.CircleMarker at 0x7fb9e4721668>,\n",
       " <folium.vector_layers.CircleMarker at 0x7fb9e47216a0>,\n",
       " <folium.vector_layers.CircleMarker at 0x7fb9e47216d8>,\n",
       " <folium.vector_layers.CircleMarker at 0x7fb9e4721710>,\n",
       " <folium.vector_layers.CircleMarker at 0x7fb9e4721748>,\n",
       " <folium.vector_layers.CircleMarker at 0x7fb9e4721780>,\n",
       " <folium.vector_layers.CircleMarker at 0x7fb9e47217b8>,\n",
       " <folium.vector_layers.CircleMarker at 0x7fb9e47217f0>,\n",
       " <folium.vector_layers.CircleMarker at 0x7fb9e4721828>,\n",
       " <folium.vector_layers.CircleMarker at 0x7fb9e4721860>,\n",
       " <folium.vector_layers.CircleMarker at 0x7fb9e4721898>,\n",
       " <folium.vector_layers.CircleMarker at 0x7fb9e47218d0>,\n",
       " <folium.vector_layers.CircleMarker at 0x7fb9e4721908>,\n",
       " <folium.vector_layers.CircleMarker at 0x7fb9e4721940>,\n",
       " <folium.vector_layers.CircleMarker at 0x7fb9e4721978>,\n",
       " <folium.vector_layers.CircleMarker at 0x7fb9e47219b0>,\n",
       " <folium.vector_layers.CircleMarker at 0x7fb9e47219e8>,\n",
       " <folium.vector_layers.CircleMarker at 0x7fb9e4721a20>,\n",
       " <folium.vector_layers.CircleMarker at 0x7fb9e4721a58>,\n",
       " <folium.vector_layers.CircleMarker at 0x7fb9e4721a90>,\n",
       " <folium.vector_layers.CircleMarker at 0x7fb9e4721ac8>,\n",
       " <folium.vector_layers.CircleMarker at 0x7fb9e4721b00>,\n",
       " <folium.vector_layers.CircleMarker at 0x7fb9e4721b38>,\n",
       " <folium.vector_layers.CircleMarker at 0x7fb9e4721b70>,\n",
       " <folium.vector_layers.CircleMarker at 0x7fb9e4721ba8>,\n",
       " <folium.vector_layers.CircleMarker at 0x7fb9e4721be0>,\n",
       " <folium.vector_layers.CircleMarker at 0x7fb9e4721c18>,\n",
       " <folium.vector_layers.CircleMarker at 0x7fb9e4721c50>,\n",
       " <folium.vector_layers.CircleMarker at 0x7fb9e4721c88>,\n",
       " <folium.vector_layers.CircleMarker at 0x7fb9e4721cc0>,\n",
       " <folium.vector_layers.CircleMarker at 0x7fb9e4721cf8>,\n",
       " <folium.vector_layers.CircleMarker at 0x7fb9e4721d30>,\n",
       " <folium.vector_layers.CircleMarker at 0x7fb9e4721d68>,\n",
       " <folium.vector_layers.CircleMarker at 0x7fb9e4721da0>,\n",
       " <folium.vector_layers.CircleMarker at 0x7fb9e4721dd8>,\n",
       " <folium.vector_layers.CircleMarker at 0x7fb9e4721e10>,\n",
       " <folium.vector_layers.CircleMarker at 0x7fb9e4721e48>,\n",
       " <folium.vector_layers.CircleMarker at 0x7fb9e4721e80>,\n",
       " <folium.vector_layers.CircleMarker at 0x7fb9e4721eb8>,\n",
       " <folium.vector_layers.CircleMarker at 0x7fb9e4721ef0>,\n",
       " <folium.vector_layers.CircleMarker at 0x7fb9e4721f28>,\n",
       " <folium.vector_layers.CircleMarker at 0x7fb9e4721f60>,\n",
       " <folium.vector_layers.CircleMarker at 0x7fb9e4721f98>,\n",
       " <folium.vector_layers.CircleMarker at 0x7fb9e4721fd0>,\n",
       " <folium.vector_layers.CircleMarker at 0x7fb9e4721048>,\n",
       " <folium.vector_layers.CircleMarker at 0x7fb9e472e080>,\n",
       " <folium.vector_layers.CircleMarker at 0x7fb9e472e0b8>,\n",
       " <folium.vector_layers.CircleMarker at 0x7fb9e472e0f0>,\n",
       " <folium.vector_layers.CircleMarker at 0x7fb9e472e128>,\n",
       " <folium.vector_layers.CircleMarker at 0x7fb9e472e160>,\n",
       " <folium.vector_layers.CircleMarker at 0x7fb9e472e198>,\n",
       " <folium.vector_layers.CircleMarker at 0x7fb9e472e1d0>,\n",
       " <folium.vector_layers.CircleMarker at 0x7fb9e472e208>,\n",
       " <folium.vector_layers.CircleMarker at 0x7fb9e472e240>,\n",
       " <folium.vector_layers.CircleMarker at 0x7fb9e472e278>,\n",
       " <folium.vector_layers.CircleMarker at 0x7fb9e472e2b0>,\n",
       " <folium.vector_layers.CircleMarker at 0x7fb9e472e2e8>,\n",
       " <folium.vector_layers.CircleMarker at 0x7fb9e472e320>,\n",
       " <folium.vector_layers.CircleMarker at 0x7fb9e472e358>,\n",
       " <folium.vector_layers.CircleMarker at 0x7fb9e472e390>,\n",
       " <folium.vector_layers.CircleMarker at 0x7fb9e472e3c8>,\n",
       " <folium.vector_layers.CircleMarker at 0x7fb9e472e400>,\n",
       " <folium.vector_layers.CircleMarker at 0x7fb9e472e438>,\n",
       " <folium.vector_layers.CircleMarker at 0x7fb9e472e470>,\n",
       " <folium.vector_layers.CircleMarker at 0x7fb9e472e4a8>,\n",
       " <folium.vector_layers.CircleMarker at 0x7fb9e472e4e0>,\n",
       " <folium.vector_layers.CircleMarker at 0x7fb9e472e518>,\n",
       " <folium.vector_layers.CircleMarker at 0x7fb9e472e550>,\n",
       " <folium.vector_layers.CircleMarker at 0x7fb9e472e588>,\n",
       " <folium.vector_layers.CircleMarker at 0x7fb9e472e5c0>,\n",
       " <folium.vector_layers.CircleMarker at 0x7fb9e472e5f8>,\n",
       " <folium.vector_layers.CircleMarker at 0x7fb9e472e630>,\n",
       " <folium.vector_layers.CircleMarker at 0x7fb9e472e668>,\n",
       " <folium.vector_layers.CircleMarker at 0x7fb9e472e6a0>,\n",
       " <folium.vector_layers.CircleMarker at 0x7fb9e472e6d8>,\n",
       " <folium.vector_layers.CircleMarker at 0x7fb9e472e710>,\n",
       " <folium.vector_layers.CircleMarker at 0x7fb9e472e748>,\n",
       " <folium.vector_layers.CircleMarker at 0x7fb9e472e780>,\n",
       " <folium.vector_layers.CircleMarker at 0x7fb9e472e7b8>,\n",
       " <folium.vector_layers.CircleMarker at 0x7fb9e472e7f0>,\n",
       " <folium.vector_layers.CircleMarker at 0x7fb9e472e828>,\n",
       " <folium.vector_layers.CircleMarker at 0x7fb9e472e860>,\n",
       " <folium.vector_layers.CircleMarker at 0x7fb9e472e898>,\n",
       " <folium.vector_layers.CircleMarker at 0x7fb9e472e8d0>,\n",
       " <folium.vector_layers.CircleMarker at 0x7fb9e472e908>,\n",
       " <folium.vector_layers.CircleMarker at 0x7fb9e472e940>,\n",
       " <folium.vector_layers.CircleMarker at 0x7fb9e472e978>,\n",
       " <folium.vector_layers.CircleMarker at 0x7fb9e472e9b0>,\n",
       " <folium.vector_layers.CircleMarker at 0x7fb9e472e9e8>,\n",
       " <folium.vector_layers.CircleMarker at 0x7fb9e472ea20>,\n",
       " <folium.vector_layers.CircleMarker at 0x7fb9e472ea58>,\n",
       " <folium.vector_layers.CircleMarker at 0x7fb9e472ea90>,\n",
       " <folium.vector_layers.CircleMarker at 0x7fb9e472eac8>,\n",
       " <folium.vector_layers.CircleMarker at 0x7fb9e472eb00>,\n",
       " <folium.vector_layers.CircleMarker at 0x7fb9e472eb38>,\n",
       " <folium.vector_layers.CircleMarker at 0x7fb9e472eb70>,\n",
       " <folium.vector_layers.CircleMarker at 0x7fb9e472eba8>,\n",
       " <folium.vector_layers.CircleMarker at 0x7fb9e472ebe0>,\n",
       " <folium.vector_layers.CircleMarker at 0x7fb9e472ec18>,\n",
       " <folium.vector_layers.CircleMarker at 0x7fb9e472ec50>,\n",
       " <folium.vector_layers.CircleMarker at 0x7fb9e472ec88>,\n",
       " <folium.vector_layers.CircleMarker at 0x7fb9e472ecc0>,\n",
       " <folium.vector_layers.CircleMarker at 0x7fb9e472ecf8>,\n",
       " <folium.vector_layers.CircleMarker at 0x7fb9e472ed30>,\n",
       " <folium.vector_layers.CircleMarker at 0x7fb9e472ed68>,\n",
       " <folium.vector_layers.CircleMarker at 0x7fb9e472eda0>,\n",
       " <folium.vector_layers.CircleMarker at 0x7fb9e472edd8>,\n",
       " <folium.vector_layers.CircleMarker at 0x7fb9e472ee10>,\n",
       " <folium.vector_layers.CircleMarker at 0x7fb9e472ee48>,\n",
       " <folium.vector_layers.CircleMarker at 0x7fb9e472ee80>,\n",
       " <folium.vector_layers.CircleMarker at 0x7fb9e472eeb8>,\n",
       " <folium.vector_layers.CircleMarker at 0x7fb9e472eef0>,\n",
       " <folium.vector_layers.CircleMarker at 0x7fb9e472ef28>,\n",
       " <folium.vector_layers.CircleMarker at 0x7fb9e472ef60>,\n",
       " <folium.vector_layers.CircleMarker at 0x7fb9e472ef98>,\n",
       " <folium.vector_layers.CircleMarker at 0x7fb9e472efd0>,\n",
       " <folium.vector_layers.CircleMarker at 0x7fb9e472e048>,\n",
       " <folium.vector_layers.CircleMarker at 0x7fb9e473c048>,\n",
       " <folium.vector_layers.CircleMarker at 0x7fb9e473c0b8>,\n",
       " <folium.vector_layers.CircleMarker at 0x7fb9e473c0f0>,\n",
       " <folium.vector_layers.CircleMarker at 0x7fb9e473c128>,\n",
       " <folium.vector_layers.CircleMarker at 0x7fb9e473c160>,\n",
       " <folium.vector_layers.CircleMarker at 0x7fb9e473c198>,\n",
       " <folium.vector_layers.CircleMarker at 0x7fb9e473c1d0>,\n",
       " <folium.vector_layers.CircleMarker at 0x7fb9e473c208>,\n",
       " <folium.vector_layers.CircleMarker at 0x7fb9e473c240>,\n",
       " <folium.vector_layers.CircleMarker at 0x7fb9e473c278>,\n",
       " <folium.vector_layers.CircleMarker at 0x7fb9e473c2b0>,\n",
       " <folium.vector_layers.CircleMarker at 0x7fb9e473c2e8>,\n",
       " <folium.vector_layers.CircleMarker at 0x7fb9e473c320>,\n",
       " <folium.vector_layers.CircleMarker at 0x7fb9e473c358>,\n",
       " <folium.vector_layers.CircleMarker at 0x7fb9e473c390>,\n",
       " <folium.vector_layers.CircleMarker at 0x7fb9e473c3c8>,\n",
       " <folium.vector_layers.CircleMarker at 0x7fb9e473c400>,\n",
       " <folium.vector_layers.CircleMarker at 0x7fb9e473c438>,\n",
       " <folium.vector_layers.CircleMarker at 0x7fb9e473c470>,\n",
       " <folium.vector_layers.CircleMarker at 0x7fb9e473c4a8>,\n",
       " <folium.vector_layers.CircleMarker at 0x7fb9e473c4e0>,\n",
       " <folium.vector_layers.CircleMarker at 0x7fb9e473c518>,\n",
       " <folium.vector_layers.CircleMarker at 0x7fb9e473c550>,\n",
       " <folium.vector_layers.CircleMarker at 0x7fb9e473c588>,\n",
       " <folium.vector_layers.CircleMarker at 0x7fb9e473c5c0>,\n",
       " <folium.vector_layers.CircleMarker at 0x7fb9e473c5f8>,\n",
       " <folium.vector_layers.CircleMarker at 0x7fb9e473c630>,\n",
       " <folium.vector_layers.CircleMarker at 0x7fb9e473c668>,\n",
       " <folium.vector_layers.CircleMarker at 0x7fb9e473c6a0>,\n",
       " <folium.vector_layers.CircleMarker at 0x7fb9e473c6d8>,\n",
       " <folium.vector_layers.CircleMarker at 0x7fb9e473c710>,\n",
       " <folium.vector_layers.CircleMarker at 0x7fb9e473c748>,\n",
       " <folium.vector_layers.CircleMarker at 0x7fb9e473c780>,\n",
       " <folium.vector_layers.CircleMarker at 0x7fb9e473c7b8>,\n",
       " <folium.vector_layers.CircleMarker at 0x7fb9e473c7f0>,\n",
       " <folium.vector_layers.CircleMarker at 0x7fb9e473c828>,\n",
       " <folium.vector_layers.CircleMarker at 0x7fb9e473c860>,\n",
       " <folium.vector_layers.CircleMarker at 0x7fb9e473c898>,\n",
       " <folium.vector_layers.CircleMarker at 0x7fb9e473c8d0>,\n",
       " <folium.vector_layers.CircleMarker at 0x7fb9e473c908>,\n",
       " <folium.vector_layers.CircleMarker at 0x7fb9e473c940>,\n",
       " <folium.vector_layers.CircleMarker at 0x7fb9e473c978>,\n",
       " <folium.vector_layers.CircleMarker at 0x7fb9e473c9b0>,\n",
       " <folium.vector_layers.CircleMarker at 0x7fb9e473c9e8>,\n",
       " <folium.vector_layers.CircleMarker at 0x7fb9e473ca20>,\n",
       " <folium.vector_layers.CircleMarker at 0x7fb9e473ca58>,\n",
       " <folium.vector_layers.CircleMarker at 0x7fb9e473ca90>,\n",
       " <folium.vector_layers.CircleMarker at 0x7fb9e473cac8>,\n",
       " <folium.vector_layers.CircleMarker at 0x7fb9e473cb00>,\n",
       " <folium.vector_layers.CircleMarker at 0x7fb9e473cb38>,\n",
       " <folium.vector_layers.CircleMarker at 0x7fb9e473cb70>,\n",
       " <folium.vector_layers.CircleMarker at 0x7fb9e473cba8>,\n",
       " <folium.vector_layers.CircleMarker at 0x7fb9e473cbe0>,\n",
       " <folium.vector_layers.CircleMarker at 0x7fb9e473cc18>,\n",
       " <folium.vector_layers.CircleMarker at 0x7fb9e473cc50>,\n",
       " <folium.vector_layers.CircleMarker at 0x7fb9e473cc88>,\n",
       " <folium.vector_layers.CircleMarker at 0x7fb9e473ccc0>,\n",
       " <folium.vector_layers.CircleMarker at 0x7fb9e473ccf8>,\n",
       " <folium.vector_layers.CircleMarker at 0x7fb9e473cd30>,\n",
       " <folium.vector_layers.CircleMarker at 0x7fb9e473cd68>,\n",
       " <folium.vector_layers.CircleMarker at 0x7fb9e473cda0>,\n",
       " <folium.vector_layers.CircleMarker at 0x7fb9e473cdd8>,\n",
       " <folium.vector_layers.CircleMarker at 0x7fb9e473ce10>,\n",
       " <folium.vector_layers.CircleMarker at 0x7fb9e473ce48>,\n",
       " <folium.vector_layers.CircleMarker at 0x7fb9e473ce80>,\n",
       " <folium.vector_layers.CircleMarker at 0x7fb9e473ceb8>,\n",
       " <folium.vector_layers.CircleMarker at 0x7fb9e473cef0>,\n",
       " <folium.vector_layers.CircleMarker at 0x7fb9e473cf28>,\n",
       " <folium.vector_layers.CircleMarker at 0x7fb9e473cf60>,\n",
       " <folium.vector_layers.CircleMarker at 0x7fb9e473cf98>,\n",
       " <folium.vector_layers.CircleMarker at 0x7fb9e473cfd0>,\n",
       " <folium.vector_layers.CircleMarker at 0x7fb9e473c080>,\n",
       " <folium.vector_layers.CircleMarker at 0x7fb9e474b080>,\n",
       " <folium.vector_layers.CircleMarker at 0x7fb9e474b0b8>,\n",
       " <folium.vector_layers.CircleMarker at 0x7fb9e474b0f0>,\n",
       " <folium.vector_layers.CircleMarker at 0x7fb9e474b128>,\n",
       " <folium.vector_layers.CircleMarker at 0x7fb9e474b160>,\n",
       " <folium.vector_layers.CircleMarker at 0x7fb9e474b198>,\n",
       " <folium.vector_layers.CircleMarker at 0x7fb9e474b1d0>,\n",
       " <folium.vector_layers.CircleMarker at 0x7fb9e474b208>,\n",
       " <folium.vector_layers.CircleMarker at 0x7fb9e474b240>,\n",
       " <folium.vector_layers.CircleMarker at 0x7fb9e474b278>,\n",
       " <folium.vector_layers.CircleMarker at 0x7fb9e474b2b0>,\n",
       " <folium.vector_layers.CircleMarker at 0x7fb9e474b2e8>,\n",
       " <folium.vector_layers.CircleMarker at 0x7fb9e474b320>,\n",
       " <folium.vector_layers.CircleMarker at 0x7fb9e474b358>,\n",
       " <folium.vector_layers.CircleMarker at 0x7fb9e474b390>,\n",
       " <folium.vector_layers.CircleMarker at 0x7fb9e474b3c8>,\n",
       " <folium.vector_layers.CircleMarker at 0x7fb9e474b400>,\n",
       " <folium.vector_layers.CircleMarker at 0x7fb9e474b438>,\n",
       " <folium.vector_layers.CircleMarker at 0x7fb9e474b470>,\n",
       " <folium.vector_layers.CircleMarker at 0x7fb9e474b4a8>,\n",
       " <folium.vector_layers.CircleMarker at 0x7fb9e474b4e0>,\n",
       " <folium.vector_layers.CircleMarker at 0x7fb9e474b518>,\n",
       " <folium.vector_layers.CircleMarker at 0x7fb9e474b550>,\n",
       " <folium.vector_layers.CircleMarker at 0x7fb9e474b588>,\n",
       " <folium.vector_layers.CircleMarker at 0x7fb9e474b5c0>,\n",
       " <folium.vector_layers.CircleMarker at 0x7fb9e474b5f8>,\n",
       " <folium.vector_layers.CircleMarker at 0x7fb9e474b630>,\n",
       " <folium.vector_layers.CircleMarker at 0x7fb9e474b668>,\n",
       " <folium.vector_layers.CircleMarker at 0x7fb9e474b6a0>,\n",
       " <folium.vector_layers.CircleMarker at 0x7fb9e474b6d8>,\n",
       " <folium.vector_layers.CircleMarker at 0x7fb9e474b710>,\n",
       " <folium.vector_layers.CircleMarker at 0x7fb9e474b748>,\n",
       " <folium.vector_layers.CircleMarker at 0x7fb9e474b780>,\n",
       " <folium.vector_layers.CircleMarker at 0x7fb9e474b7b8>,\n",
       " <folium.vector_layers.CircleMarker at 0x7fb9e474b7f0>,\n",
       " <folium.vector_layers.CircleMarker at 0x7fb9e474b828>,\n",
       " <folium.vector_layers.CircleMarker at 0x7fb9e474b860>,\n",
       " <folium.vector_layers.CircleMarker at 0x7fb9e474b898>,\n",
       " <folium.vector_layers.CircleMarker at 0x7fb9e474b8d0>,\n",
       " <folium.vector_layers.CircleMarker at 0x7fb9e474b908>,\n",
       " <folium.vector_layers.CircleMarker at 0x7fb9e474b940>,\n",
       " <folium.vector_layers.CircleMarker at 0x7fb9e474b978>,\n",
       " <folium.vector_layers.CircleMarker at 0x7fb9e474b9b0>,\n",
       " <folium.vector_layers.CircleMarker at 0x7fb9e474b9e8>,\n",
       " <folium.vector_layers.CircleMarker at 0x7fb9e474ba20>,\n",
       " <folium.vector_layers.CircleMarker at 0x7fb9e474ba58>,\n",
       " <folium.vector_layers.CircleMarker at 0x7fb9e474ba90>,\n",
       " <folium.vector_layers.CircleMarker at 0x7fb9e474bac8>,\n",
       " <folium.vector_layers.CircleMarker at 0x7fb9e474bb00>,\n",
       " <folium.vector_layers.CircleMarker at 0x7fb9e474bb38>,\n",
       " <folium.vector_layers.CircleMarker at 0x7fb9e474bb70>,\n",
       " <folium.vector_layers.CircleMarker at 0x7fb9e474bba8>,\n",
       " <folium.vector_layers.CircleMarker at 0x7fb9e474bbe0>,\n",
       " <folium.vector_layers.CircleMarker at 0x7fb9e474bc18>,\n",
       " <folium.vector_layers.CircleMarker at 0x7fb9e474bc50>,\n",
       " <folium.vector_layers.CircleMarker at 0x7fb9e474bc88>,\n",
       " <folium.vector_layers.CircleMarker at 0x7fb9e474bcc0>,\n",
       " <folium.vector_layers.CircleMarker at 0x7fb9e474bcf8>,\n",
       " <folium.vector_layers.CircleMarker at 0x7fb9e474bd30>,\n",
       " <folium.vector_layers.CircleMarker at 0x7fb9e474bd68>,\n",
       " <folium.vector_layers.CircleMarker at 0x7fb9e474bda0>,\n",
       " <folium.vector_layers.CircleMarker at 0x7fb9e474bdd8>,\n",
       " <folium.vector_layers.CircleMarker at 0x7fb9e474be10>,\n",
       " <folium.vector_layers.CircleMarker at 0x7fb9e474be48>,\n",
       " <folium.vector_layers.CircleMarker at 0x7fb9e474be80>,\n",
       " <folium.vector_layers.CircleMarker at 0x7fb9e474beb8>,\n",
       " <folium.vector_layers.CircleMarker at 0x7fb9e474bef0>,\n",
       " <folium.vector_layers.CircleMarker at 0x7fb9e474bf28>,\n",
       " <folium.vector_layers.CircleMarker at 0x7fb9e474bf60>,\n",
       " <folium.vector_layers.CircleMarker at 0x7fb9e474bf98>,\n",
       " <folium.vector_layers.CircleMarker at 0x7fb9e474bfd0>,\n",
       " <folium.vector_layers.CircleMarker at 0x7fb9e474b048>,\n",
       " <folium.vector_layers.CircleMarker at 0x7fb9e4699080>,\n",
       " <folium.vector_layers.CircleMarker at 0x7fb9e46990b8>,\n",
       " <folium.vector_layers.CircleMarker at 0x7fb9e46990f0>,\n",
       " <folium.vector_layers.CircleMarker at 0x7fb9e4699128>,\n",
       " <folium.vector_layers.CircleMarker at 0x7fb9e4699160>,\n",
       " <folium.vector_layers.CircleMarker at 0x7fb9e4699198>,\n",
       " <folium.vector_layers.CircleMarker at 0x7fb9e46991d0>,\n",
       " <folium.vector_layers.CircleMarker at 0x7fb9e4699208>,\n",
       " <folium.vector_layers.CircleMarker at 0x7fb9e4699240>,\n",
       " <folium.vector_layers.CircleMarker at 0x7fb9e4699278>,\n",
       " <folium.vector_layers.CircleMarker at 0x7fb9e46992b0>,\n",
       " <folium.vector_layers.CircleMarker at 0x7fb9e46992e8>,\n",
       " <folium.vector_layers.CircleMarker at 0x7fb9e4699320>,\n",
       " <folium.vector_layers.CircleMarker at 0x7fb9e4699358>,\n",
       " <folium.vector_layers.CircleMarker at 0x7fb9e4699390>,\n",
       " <folium.vector_layers.CircleMarker at 0x7fb9e46993c8>,\n",
       " <folium.vector_layers.CircleMarker at 0x7fb9e4699400>,\n",
       " <folium.vector_layers.CircleMarker at 0x7fb9e4699438>,\n",
       " <folium.vector_layers.CircleMarker at 0x7fb9e4699470>,\n",
       " <folium.vector_layers.CircleMarker at 0x7fb9e46994a8>,\n",
       " <folium.vector_layers.CircleMarker at 0x7fb9e46994e0>,\n",
       " <folium.vector_layers.CircleMarker at 0x7fb9e4699518>,\n",
       " <folium.vector_layers.CircleMarker at 0x7fb9e4699550>,\n",
       " <folium.vector_layers.CircleMarker at 0x7fb9e4699588>,\n",
       " <folium.vector_layers.CircleMarker at 0x7fb9e46995c0>,\n",
       " <folium.vector_layers.CircleMarker at 0x7fb9e46995f8>,\n",
       " <folium.vector_layers.CircleMarker at 0x7fb9e4699630>,\n",
       " <folium.vector_layers.CircleMarker at 0x7fb9e4699668>,\n",
       " <folium.vector_layers.CircleMarker at 0x7fb9e46996a0>,\n",
       " <folium.vector_layers.CircleMarker at 0x7fb9e46996d8>,\n",
       " <folium.vector_layers.CircleMarker at 0x7fb9e4699710>,\n",
       " <folium.vector_layers.CircleMarker at 0x7fb9e4699748>,\n",
       " <folium.vector_layers.CircleMarker at 0x7fb9e4699780>,\n",
       " <folium.vector_layers.CircleMarker at 0x7fb9e46997b8>,\n",
       " <folium.vector_layers.CircleMarker at 0x7fb9e46997f0>,\n",
       " <folium.vector_layers.CircleMarker at 0x7fb9e4699828>,\n",
       " <folium.vector_layers.CircleMarker at 0x7fb9e4699860>,\n",
       " <folium.vector_layers.CircleMarker at 0x7fb9e4699898>,\n",
       " <folium.vector_layers.CircleMarker at 0x7fb9e46998d0>,\n",
       " <folium.vector_layers.CircleMarker at 0x7fb9e4699908>,\n",
       " <folium.vector_layers.CircleMarker at 0x7fb9e4699940>,\n",
       " <folium.vector_layers.CircleMarker at 0x7fb9e4699978>,\n",
       " <folium.vector_layers.CircleMarker at 0x7fb9e46999b0>,\n",
       " <folium.vector_layers.CircleMarker at 0x7fb9e46999e8>,\n",
       " <folium.vector_layers.CircleMarker at 0x7fb9e4699a20>,\n",
       " <folium.vector_layers.CircleMarker at 0x7fb9e4699a58>,\n",
       " <folium.vector_layers.CircleMarker at 0x7fb9e4699a90>,\n",
       " <folium.vector_layers.CircleMarker at 0x7fb9e4699ac8>,\n",
       " <folium.vector_layers.CircleMarker at 0x7fb9e4699b00>,\n",
       " <folium.vector_layers.CircleMarker at 0x7fb9e4699b38>,\n",
       " <folium.vector_layers.CircleMarker at 0x7fb9e4699b70>,\n",
       " <folium.vector_layers.CircleMarker at 0x7fb9e4699ba8>,\n",
       " <folium.vector_layers.CircleMarker at 0x7fb9e4699be0>,\n",
       " <folium.vector_layers.CircleMarker at 0x7fb9e4699c18>,\n",
       " <folium.vector_layers.CircleMarker at 0x7fb9e4699c50>,\n",
       " <folium.vector_layers.CircleMarker at 0x7fb9e4699c88>,\n",
       " <folium.vector_layers.CircleMarker at 0x7fb9e4699cc0>,\n",
       " <folium.vector_layers.CircleMarker at 0x7fb9e4699cf8>,\n",
       " <folium.vector_layers.CircleMarker at 0x7fb9e4699d30>,\n",
       " <folium.vector_layers.CircleMarker at 0x7fb9e4699d68>,\n",
       " <folium.vector_layers.CircleMarker at 0x7fb9e4699da0>,\n",
       " <folium.vector_layers.CircleMarker at 0x7fb9e4699dd8>,\n",
       " <folium.vector_layers.CircleMarker at 0x7fb9e4699e10>,\n",
       " <folium.vector_layers.CircleMarker at 0x7fb9e4699e48>,\n",
       " <folium.vector_layers.CircleMarker at 0x7fb9e4699e80>,\n",
       " <folium.vector_layers.CircleMarker at 0x7fb9e4699eb8>,\n",
       " <folium.vector_layers.CircleMarker at 0x7fb9e4699ef0>,\n",
       " <folium.vector_layers.CircleMarker at 0x7fb9e4699f28>,\n",
       " <folium.vector_layers.CircleMarker at 0x7fb9e4699f60>,\n",
       " <folium.vector_layers.CircleMarker at 0x7fb9e4699f98>,\n",
       " <folium.vector_layers.CircleMarker at 0x7fb9e4699fd0>,\n",
       " <folium.vector_layers.CircleMarker at 0x7fb9e4699048>,\n",
       " <folium.vector_layers.CircleMarker at 0x7fb9e46a8080>,\n",
       " <folium.vector_layers.CircleMarker at 0x7fb9e46a80b8>,\n",
       " <folium.vector_layers.CircleMarker at 0x7fb9e46a80f0>,\n",
       " <folium.vector_layers.CircleMarker at 0x7fb9e46a8128>,\n",
       " <folium.vector_layers.CircleMarker at 0x7fb9e46a8160>,\n",
       " <folium.vector_layers.CircleMarker at 0x7fb9e46a8198>,\n",
       " <folium.vector_layers.CircleMarker at 0x7fb9e46a81d0>,\n",
       " <folium.vector_layers.CircleMarker at 0x7fb9e46a8208>,\n",
       " <folium.vector_layers.CircleMarker at 0x7fb9e46a8240>,\n",
       " <folium.vector_layers.CircleMarker at 0x7fb9e46a8278>,\n",
       " <folium.vector_layers.CircleMarker at 0x7fb9e46a82b0>,\n",
       " <folium.vector_layers.CircleMarker at 0x7fb9e46a82e8>,\n",
       " <folium.vector_layers.CircleMarker at 0x7fb9e46a8320>,\n",
       " <folium.vector_layers.CircleMarker at 0x7fb9e46a8358>,\n",
       " <folium.vector_layers.CircleMarker at 0x7fb9e46a8390>,\n",
       " <folium.vector_layers.CircleMarker at 0x7fb9e46a83c8>,\n",
       " <folium.vector_layers.CircleMarker at 0x7fb9e46a8400>,\n",
       " <folium.vector_layers.CircleMarker at 0x7fb9e46a8438>,\n",
       " <folium.vector_layers.CircleMarker at 0x7fb9e46a8470>,\n",
       " <folium.vector_layers.CircleMarker at 0x7fb9e46a84a8>,\n",
       " <folium.vector_layers.CircleMarker at 0x7fb9e46a84e0>,\n",
       " <folium.vector_layers.CircleMarker at 0x7fb9e46a8518>,\n",
       " <folium.vector_layers.CircleMarker at 0x7fb9e46a8550>,\n",
       " <folium.vector_layers.CircleMarker at 0x7fb9e46a8588>,\n",
       " <folium.vector_layers.CircleMarker at 0x7fb9e46a85c0>,\n",
       " <folium.vector_layers.CircleMarker at 0x7fb9e46a85f8>,\n",
       " <folium.vector_layers.CircleMarker at 0x7fb9e46a8630>,\n",
       " <folium.vector_layers.CircleMarker at 0x7fb9e46a8668>,\n",
       " <folium.vector_layers.CircleMarker at 0x7fb9e46a86a0>,\n",
       " <folium.vector_layers.CircleMarker at 0x7fb9e46a86d8>,\n",
       " <folium.vector_layers.CircleMarker at 0x7fb9e46a8710>,\n",
       " <folium.vector_layers.CircleMarker at 0x7fb9e46a8748>,\n",
       " <folium.vector_layers.CircleMarker at 0x7fb9e46a8780>,\n",
       " <folium.vector_layers.CircleMarker at 0x7fb9e46a87b8>,\n",
       " <folium.vector_layers.CircleMarker at 0x7fb9e46a87f0>,\n",
       " <folium.vector_layers.CircleMarker at 0x7fb9e46a8828>,\n",
       " <folium.vector_layers.CircleMarker at 0x7fb9e46a8860>,\n",
       " <folium.vector_layers.CircleMarker at 0x7fb9e46a8898>,\n",
       " <folium.vector_layers.CircleMarker at 0x7fb9e46a88d0>,\n",
       " <folium.vector_layers.CircleMarker at 0x7fb9e46a8908>,\n",
       " <folium.vector_layers.CircleMarker at 0x7fb9e46a8940>,\n",
       " <folium.vector_layers.CircleMarker at 0x7fb9e46a8978>,\n",
       " <folium.vector_layers.CircleMarker at 0x7fb9e46a89b0>,\n",
       " <folium.vector_layers.CircleMarker at 0x7fb9e46a89e8>,\n",
       " <folium.vector_layers.CircleMarker at 0x7fb9e46a8a20>,\n",
       " <folium.vector_layers.CircleMarker at 0x7fb9e46a8a58>,\n",
       " <folium.vector_layers.CircleMarker at 0x7fb9e46a8a90>,\n",
       " <folium.vector_layers.CircleMarker at 0x7fb9e46a8ac8>,\n",
       " <folium.vector_layers.CircleMarker at 0x7fb9e46a8b00>,\n",
       " <folium.vector_layers.CircleMarker at 0x7fb9e46a8b38>,\n",
       " <folium.vector_layers.CircleMarker at 0x7fb9e46a8b70>,\n",
       " <folium.vector_layers.CircleMarker at 0x7fb9e46a8ba8>,\n",
       " <folium.vector_layers.CircleMarker at 0x7fb9e46a8be0>,\n",
       " <folium.vector_layers.CircleMarker at 0x7fb9e46a8c18>,\n",
       " <folium.vector_layers.CircleMarker at 0x7fb9e46a8c50>,\n",
       " <folium.vector_layers.CircleMarker at 0x7fb9e46a8c88>,\n",
       " <folium.vector_layers.CircleMarker at 0x7fb9e46a8cc0>,\n",
       " <folium.vector_layers.CircleMarker at 0x7fb9e46a8cf8>,\n",
       " <folium.vector_layers.CircleMarker at 0x7fb9e46a8d30>,\n",
       " <folium.vector_layers.CircleMarker at 0x7fb9e46a8d68>,\n",
       " <folium.vector_layers.CircleMarker at 0x7fb9e46a8da0>,\n",
       " <folium.vector_layers.CircleMarker at 0x7fb9e46a8dd8>,\n",
       " <folium.vector_layers.CircleMarker at 0x7fb9e46a8e10>,\n",
       " <folium.vector_layers.CircleMarker at 0x7fb9e46a8e48>,\n",
       " <folium.vector_layers.CircleMarker at 0x7fb9e46a8e80>,\n",
       " <folium.vector_layers.CircleMarker at 0x7fb9e46a8eb8>,\n",
       " <folium.vector_layers.CircleMarker at 0x7fb9e46a8ef0>,\n",
       " <folium.vector_layers.CircleMarker at 0x7fb9e46a8f28>,\n",
       " <folium.vector_layers.CircleMarker at 0x7fb9e46a8f60>,\n",
       " <folium.vector_layers.CircleMarker at 0x7fb9e46a8f98>,\n",
       " <folium.vector_layers.CircleMarker at 0x7fb9e46a8fd0>,\n",
       " <folium.vector_layers.CircleMarker at 0x7fb9e46a8048>,\n",
       " <folium.vector_layers.CircleMarker at 0x7fb9e46b4080>,\n",
       " <folium.vector_layers.CircleMarker at 0x7fb9e46b40b8>,\n",
       " <folium.vector_layers.CircleMarker at 0x7fb9e46b40f0>,\n",
       " <folium.vector_layers.CircleMarker at 0x7fb9e46b4128>,\n",
       " <folium.vector_layers.CircleMarker at 0x7fb9e46b4160>,\n",
       " <folium.vector_layers.CircleMarker at 0x7fb9e46b4198>,\n",
       " <folium.vector_layers.CircleMarker at 0x7fb9e46b41d0>,\n",
       " <folium.vector_layers.CircleMarker at 0x7fb9e46b4208>,\n",
       " <folium.vector_layers.CircleMarker at 0x7fb9e46b4240>,\n",
       " <folium.vector_layers.CircleMarker at 0x7fb9e46b4278>,\n",
       " <folium.vector_layers.CircleMarker at 0x7fb9e46b42b0>,\n",
       " <folium.vector_layers.CircleMarker at 0x7fb9e46b42e8>,\n",
       " <folium.vector_layers.CircleMarker at 0x7fb9e46b4320>,\n",
       " <folium.vector_layers.CircleMarker at 0x7fb9e46b4358>,\n",
       " <folium.vector_layers.CircleMarker at 0x7fb9e46b4390>,\n",
       " <folium.vector_layers.CircleMarker at 0x7fb9e46b43c8>,\n",
       " <folium.vector_layers.CircleMarker at 0x7fb9e46b4400>,\n",
       " <folium.vector_layers.CircleMarker at 0x7fb9e46b4438>,\n",
       " <folium.vector_layers.CircleMarker at 0x7fb9e46b4470>,\n",
       " <folium.vector_layers.CircleMarker at 0x7fb9e46b44a8>,\n",
       " <folium.vector_layers.CircleMarker at 0x7fb9e46b44e0>,\n",
       " <folium.vector_layers.CircleMarker at 0x7fb9e46b4518>,\n",
       " <folium.vector_layers.CircleMarker at 0x7fb9e46b4550>,\n",
       " <folium.vector_layers.CircleMarker at 0x7fb9e46b4588>,\n",
       " <folium.vector_layers.CircleMarker at 0x7fb9e46b45c0>,\n",
       " <folium.vector_layers.CircleMarker at 0x7fb9e46b45f8>,\n",
       " <folium.vector_layers.CircleMarker at 0x7fb9e46b4630>,\n",
       " <folium.vector_layers.CircleMarker at 0x7fb9e46b4668>,\n",
       " <folium.vector_layers.CircleMarker at 0x7fb9e46b46a0>,\n",
       " <folium.vector_layers.CircleMarker at 0x7fb9e46b46d8>,\n",
       " <folium.vector_layers.CircleMarker at 0x7fb9e46b4710>,\n",
       " <folium.vector_layers.CircleMarker at 0x7fb9e46b4748>,\n",
       " <folium.vector_layers.CircleMarker at 0x7fb9e46b4780>,\n",
       " <folium.vector_layers.CircleMarker at 0x7fb9e46b47b8>,\n",
       " <folium.vector_layers.CircleMarker at 0x7fb9e46b47f0>,\n",
       " <folium.vector_layers.CircleMarker at 0x7fb9e46b4828>,\n",
       " <folium.vector_layers.CircleMarker at 0x7fb9e46b4860>,\n",
       " <folium.vector_layers.CircleMarker at 0x7fb9e46b4898>,\n",
       " <folium.vector_layers.CircleMarker at 0x7fb9e46b48d0>,\n",
       " <folium.vector_layers.CircleMarker at 0x7fb9e46b4908>,\n",
       " <folium.vector_layers.CircleMarker at 0x7fb9e46b4940>,\n",
       " <folium.vector_layers.CircleMarker at 0x7fb9e46b4978>,\n",
       " <folium.vector_layers.CircleMarker at 0x7fb9e46b49b0>,\n",
       " <folium.vector_layers.CircleMarker at 0x7fb9e46b49e8>,\n",
       " <folium.vector_layers.CircleMarker at 0x7fb9e46b4a20>,\n",
       " <folium.vector_layers.CircleMarker at 0x7fb9e46b4a58>,\n",
       " <folium.vector_layers.CircleMarker at 0x7fb9e46b4a90>,\n",
       " <folium.vector_layers.CircleMarker at 0x7fb9e46b4ac8>,\n",
       " <folium.vector_layers.CircleMarker at 0x7fb9e46b4b00>,\n",
       " <folium.vector_layers.CircleMarker at 0x7fb9e46b4b38>,\n",
       " <folium.vector_layers.CircleMarker at 0x7fb9e46b4b70>,\n",
       " <folium.vector_layers.CircleMarker at 0x7fb9e46b4ba8>,\n",
       " <folium.vector_layers.CircleMarker at 0x7fb9e46b4be0>,\n",
       " <folium.vector_layers.CircleMarker at 0x7fb9e46b4c18>,\n",
       " <folium.vector_layers.CircleMarker at 0x7fb9e46b4c50>,\n",
       " <folium.vector_layers.CircleMarker at 0x7fb9e46b4c88>,\n",
       " <folium.vector_layers.CircleMarker at 0x7fb9e46b4cc0>,\n",
       " <folium.vector_layers.CircleMarker at 0x7fb9e46b4cf8>,\n",
       " <folium.vector_layers.CircleMarker at 0x7fb9e46b4d30>,\n",
       " <folium.vector_layers.CircleMarker at 0x7fb9e46b4d68>,\n",
       " <folium.vector_layers.CircleMarker at 0x7fb9e46b4da0>,\n",
       " <folium.vector_layers.CircleMarker at 0x7fb9e46b4dd8>,\n",
       " <folium.vector_layers.CircleMarker at 0x7fb9e46b4e10>,\n",
       " <folium.vector_layers.CircleMarker at 0x7fb9e46b4e48>,\n",
       " <folium.vector_layers.CircleMarker at 0x7fb9e46b4e80>,\n",
       " <folium.vector_layers.CircleMarker at 0x7fb9e46b4eb8>,\n",
       " <folium.vector_layers.CircleMarker at 0x7fb9e46b4ef0>,\n",
       " <folium.vector_layers.CircleMarker at 0x7fb9e46b4f28>,\n",
       " <folium.vector_layers.CircleMarker at 0x7fb9e46b4f60>,\n",
       " <folium.vector_layers.CircleMarker at 0x7fb9e46b4f98>,\n",
       " <folium.vector_layers.CircleMarker at 0x7fb9e46b4fd0>,\n",
       " <folium.vector_layers.CircleMarker at 0x7fb9e46b4048>,\n",
       " <folium.vector_layers.CircleMarker at 0x7fb9e4593080>,\n",
       " <folium.vector_layers.CircleMarker at 0x7fb9e45930b8>,\n",
       " <folium.vector_layers.CircleMarker at 0x7fb9e45930f0>,\n",
       " <folium.vector_layers.CircleMarker at 0x7fb9e4593128>,\n",
       " <folium.vector_layers.CircleMarker at 0x7fb9e4593160>,\n",
       " <folium.vector_layers.CircleMarker at 0x7fb9e4593198>,\n",
       " <folium.vector_layers.CircleMarker at 0x7fb9e45931d0>,\n",
       " <folium.vector_layers.CircleMarker at 0x7fb9e4593208>,\n",
       " <folium.vector_layers.CircleMarker at 0x7fb9e4593240>,\n",
       " <folium.vector_layers.CircleMarker at 0x7fb9e4593278>,\n",
       " <folium.vector_layers.CircleMarker at 0x7fb9e45932b0>,\n",
       " <folium.vector_layers.CircleMarker at 0x7fb9e45932e8>,\n",
       " <folium.vector_layers.CircleMarker at 0x7fb9e4593320>,\n",
       " <folium.vector_layers.CircleMarker at 0x7fb9e4593358>,\n",
       " <folium.vector_layers.CircleMarker at 0x7fb9e4593390>,\n",
       " <folium.vector_layers.CircleMarker at 0x7fb9e45933c8>,\n",
       " <folium.vector_layers.CircleMarker at 0x7fb9e4593400>,\n",
       " <folium.vector_layers.CircleMarker at 0x7fb9e4593438>,\n",
       " <folium.vector_layers.CircleMarker at 0x7fb9e4593470>,\n",
       " <folium.vector_layers.CircleMarker at 0x7fb9e45934a8>,\n",
       " <folium.vector_layers.CircleMarker at 0x7fb9e45934e0>,\n",
       " <folium.vector_layers.CircleMarker at 0x7fb9e4593518>,\n",
       " <folium.vector_layers.CircleMarker at 0x7fb9e4593550>,\n",
       " <folium.vector_layers.CircleMarker at 0x7fb9e4593588>,\n",
       " <folium.vector_layers.CircleMarker at 0x7fb9e45935c0>,\n",
       " <folium.vector_layers.CircleMarker at 0x7fb9e45935f8>,\n",
       " <folium.vector_layers.CircleMarker at 0x7fb9e4593630>,\n",
       " <folium.vector_layers.CircleMarker at 0x7fb9e4593668>,\n",
       " <folium.vector_layers.CircleMarker at 0x7fb9e45936a0>,\n",
       " <folium.vector_layers.CircleMarker at 0x7fb9e45936d8>,\n",
       " <folium.vector_layers.CircleMarker at 0x7fb9e4593710>,\n",
       " <folium.vector_layers.CircleMarker at 0x7fb9e4593748>,\n",
       " <folium.vector_layers.CircleMarker at 0x7fb9e4593780>,\n",
       " <folium.vector_layers.CircleMarker at 0x7fb9e45937b8>,\n",
       " <folium.vector_layers.CircleMarker at 0x7fb9e45937f0>,\n",
       " <folium.vector_layers.CircleMarker at 0x7fb9e4593828>,\n",
       " <folium.vector_layers.CircleMarker at 0x7fb9e4593860>,\n",
       " <folium.vector_layers.CircleMarker at 0x7fb9e4593898>,\n",
       " <folium.vector_layers.CircleMarker at 0x7fb9e45938d0>,\n",
       " <folium.vector_layers.CircleMarker at 0x7fb9e4593908>,\n",
       " <folium.vector_layers.CircleMarker at 0x7fb9e4593940>,\n",
       " <folium.vector_layers.CircleMarker at 0x7fb9e4593978>,\n",
       " <folium.vector_layers.CircleMarker at 0x7fb9e45939b0>,\n",
       " <folium.vector_layers.CircleMarker at 0x7fb9e45939e8>,\n",
       " <folium.vector_layers.CircleMarker at 0x7fb9e4593a20>,\n",
       " <folium.vector_layers.CircleMarker at 0x7fb9e4593a58>,\n",
       " <folium.vector_layers.CircleMarker at 0x7fb9e4593a90>,\n",
       " <folium.vector_layers.CircleMarker at 0x7fb9e4593ac8>,\n",
       " <folium.vector_layers.CircleMarker at 0x7fb9e4593b00>,\n",
       " <folium.vector_layers.CircleMarker at 0x7fb9e4593b38>,\n",
       " <folium.vector_layers.CircleMarker at 0x7fb9e4593b70>,\n",
       " <folium.vector_layers.CircleMarker at 0x7fb9e4593ba8>,\n",
       " <folium.vector_layers.CircleMarker at 0x7fb9e4593be0>,\n",
       " <folium.vector_layers.CircleMarker at 0x7fb9e4593c18>,\n",
       " <folium.vector_layers.CircleMarker at 0x7fb9e4593c50>,\n",
       " <folium.vector_layers.CircleMarker at 0x7fb9e4593c88>,\n",
       " <folium.vector_layers.CircleMarker at 0x7fb9e4593cc0>,\n",
       " <folium.vector_layers.CircleMarker at 0x7fb9e4593cf8>,\n",
       " <folium.vector_layers.CircleMarker at 0x7fb9e4593d30>,\n",
       " <folium.vector_layers.CircleMarker at 0x7fb9e4593d68>,\n",
       " <folium.vector_layers.CircleMarker at 0x7fb9e4593da0>,\n",
       " <folium.vector_layers.CircleMarker at 0x7fb9e4593dd8>,\n",
       " <folium.vector_layers.CircleMarker at 0x7fb9e4593e10>,\n",
       " <folium.vector_layers.CircleMarker at 0x7fb9e4593e48>,\n",
       " <folium.vector_layers.CircleMarker at 0x7fb9e4593e80>,\n",
       " <folium.vector_layers.CircleMarker at 0x7fb9e4593eb8>,\n",
       " <folium.vector_layers.CircleMarker at 0x7fb9e4593ef0>,\n",
       " <folium.vector_layers.CircleMarker at 0x7fb9e4593f28>,\n",
       " <folium.vector_layers.CircleMarker at 0x7fb9e4593f60>,\n",
       " <folium.vector_layers.CircleMarker at 0x7fb9e4593f98>,\n",
       " <folium.vector_layers.CircleMarker at 0x7fb9e4593fd0>,\n",
       " <folium.vector_layers.CircleMarker at 0x7fb9e4593048>,\n",
       " <folium.vector_layers.CircleMarker at 0x7fb9e459f080>,\n",
       " <folium.vector_layers.CircleMarker at 0x7fb9e459f0b8>,\n",
       " <folium.vector_layers.CircleMarker at 0x7fb9e459f0f0>,\n",
       " <folium.vector_layers.CircleMarker at 0x7fb9e459f128>,\n",
       " <folium.vector_layers.CircleMarker at 0x7fb9e459f160>,\n",
       " <folium.vector_layers.CircleMarker at 0x7fb9e459f198>,\n",
       " <folium.vector_layers.CircleMarker at 0x7fb9e459f1d0>,\n",
       " <folium.vector_layers.CircleMarker at 0x7fb9e459f208>,\n",
       " <folium.vector_layers.CircleMarker at 0x7fb9e459f240>,\n",
       " <folium.vector_layers.CircleMarker at 0x7fb9e459f278>,\n",
       " <folium.vector_layers.CircleMarker at 0x7fb9e459f2b0>,\n",
       " <folium.vector_layers.CircleMarker at 0x7fb9e459f2e8>,\n",
       " <folium.vector_layers.CircleMarker at 0x7fb9e459f320>,\n",
       " <folium.vector_layers.CircleMarker at 0x7fb9e459f358>,\n",
       " <folium.vector_layers.CircleMarker at 0x7fb9e459f390>,\n",
       " <folium.vector_layers.CircleMarker at 0x7fb9e459f3c8>,\n",
       " <folium.vector_layers.CircleMarker at 0x7fb9e459f400>,\n",
       " <folium.vector_layers.CircleMarker at 0x7fb9e459f438>,\n",
       " <folium.vector_layers.CircleMarker at 0x7fb9e459f470>,\n",
       " <folium.vector_layers.CircleMarker at 0x7fb9e459f4a8>,\n",
       " <folium.vector_layers.CircleMarker at 0x7fb9e459f4e0>,\n",
       " <folium.vector_layers.CircleMarker at 0x7fb9e459f518>,\n",
       " <folium.vector_layers.CircleMarker at 0x7fb9e459f550>,\n",
       " <folium.vector_layers.CircleMarker at 0x7fb9e459f588>,\n",
       " <folium.vector_layers.CircleMarker at 0x7fb9e459f5c0>,\n",
       " <folium.vector_layers.CircleMarker at 0x7fb9e459f5f8>,\n",
       " <folium.vector_layers.CircleMarker at 0x7fb9e459f630>,\n",
       " <folium.vector_layers.CircleMarker at 0x7fb9e459f668>,\n",
       " <folium.vector_layers.CircleMarker at 0x7fb9e459f6a0>,\n",
       " <folium.vector_layers.CircleMarker at 0x7fb9e459f6d8>,\n",
       " <folium.vector_layers.CircleMarker at 0x7fb9e459f710>,\n",
       " <folium.vector_layers.CircleMarker at 0x7fb9e459f748>,\n",
       " <folium.vector_layers.CircleMarker at 0x7fb9e459f780>,\n",
       " <folium.vector_layers.CircleMarker at 0x7fb9e459f7b8>,\n",
       " <folium.vector_layers.CircleMarker at 0x7fb9e459f7f0>,\n",
       " <folium.vector_layers.CircleMarker at 0x7fb9e459f828>,\n",
       " <folium.vector_layers.CircleMarker at 0x7fb9e459f860>,\n",
       " <folium.vector_layers.CircleMarker at 0x7fb9e459f898>,\n",
       " <folium.vector_layers.CircleMarker at 0x7fb9e459f8d0>,\n",
       " <folium.vector_layers.CircleMarker at 0x7fb9e459f908>,\n",
       " <folium.vector_layers.CircleMarker at 0x7fb9e459f940>,\n",
       " <folium.vector_layers.CircleMarker at 0x7fb9e459f978>,\n",
       " <folium.vector_layers.CircleMarker at 0x7fb9e459f9b0>,\n",
       " <folium.vector_layers.CircleMarker at 0x7fb9e459f9e8>,\n",
       " <folium.vector_layers.CircleMarker at 0x7fb9e459fa20>,\n",
       " <folium.vector_layers.CircleMarker at 0x7fb9e459fa58>,\n",
       " <folium.vector_layers.CircleMarker at 0x7fb9e459fa90>,\n",
       " <folium.vector_layers.CircleMarker at 0x7fb9e459fac8>,\n",
       " <folium.vector_layers.CircleMarker at 0x7fb9e459fb00>,\n",
       " <folium.vector_layers.CircleMarker at 0x7fb9e459fb38>,\n",
       " <folium.vector_layers.CircleMarker at 0x7fb9e459fb70>,\n",
       " <folium.vector_layers.CircleMarker at 0x7fb9e459fba8>,\n",
       " <folium.vector_layers.CircleMarker at 0x7fb9e459fbe0>,\n",
       " <folium.vector_layers.CircleMarker at 0x7fb9e459fc18>,\n",
       " <folium.vector_layers.CircleMarker at 0x7fb9e459fc50>,\n",
       " <folium.vector_layers.CircleMarker at 0x7fb9e459fc88>,\n",
       " <folium.vector_layers.CircleMarker at 0x7fb9e459fcc0>,\n",
       " <folium.vector_layers.CircleMarker at 0x7fb9e459fcf8>,\n",
       " <folium.vector_layers.CircleMarker at 0x7fb9e459fd30>,\n",
       " <folium.vector_layers.CircleMarker at 0x7fb9e459fd68>,\n",
       " <folium.vector_layers.CircleMarker at 0x7fb9e459fda0>,\n",
       " <folium.vector_layers.CircleMarker at 0x7fb9e459fdd8>,\n",
       " <folium.vector_layers.CircleMarker at 0x7fb9e459fe10>,\n",
       " <folium.vector_layers.CircleMarker at 0x7fb9e459fe48>,\n",
       " <folium.vector_layers.CircleMarker at 0x7fb9e459fe80>,\n",
       " <folium.vector_layers.CircleMarker at 0x7fb9e459feb8>,\n",
       " <folium.vector_layers.CircleMarker at 0x7fb9e459fef0>,\n",
       " <folium.vector_layers.CircleMarker at 0x7fb9e459ff28>,\n",
       " <folium.vector_layers.CircleMarker at 0x7fb9e459ff60>,\n",
       " <folium.vector_layers.CircleMarker at 0x7fb9e459ff98>,\n",
       " <folium.vector_layers.CircleMarker at 0x7fb9e459ffd0>,\n",
       " <folium.vector_layers.CircleMarker at 0x7fb9e459f048>,\n",
       " <folium.vector_layers.CircleMarker at 0x7fb9e45ae080>,\n",
       " <folium.vector_layers.CircleMarker at 0x7fb9e45ae0b8>,\n",
       " <folium.vector_layers.CircleMarker at 0x7fb9e45ae0f0>,\n",
       " <folium.vector_layers.CircleMarker at 0x7fb9e45ae128>,\n",
       " <folium.vector_layers.CircleMarker at 0x7fb9e45ae160>,\n",
       " <folium.vector_layers.CircleMarker at 0x7fb9e45ae198>,\n",
       " <folium.vector_layers.CircleMarker at 0x7fb9e45ae1d0>,\n",
       " <folium.vector_layers.CircleMarker at 0x7fb9e45ae208>,\n",
       " <folium.vector_layers.CircleMarker at 0x7fb9e45ae240>,\n",
       " <folium.vector_layers.CircleMarker at 0x7fb9e45ae278>,\n",
       " <folium.vector_layers.CircleMarker at 0x7fb9e45ae2b0>,\n",
       " <folium.vector_layers.CircleMarker at 0x7fb9e45ae2e8>,\n",
       " <folium.vector_layers.CircleMarker at 0x7fb9e45ae320>,\n",
       " <folium.vector_layers.CircleMarker at 0x7fb9e45ae358>,\n",
       " <folium.vector_layers.CircleMarker at 0x7fb9e45ae390>,\n",
       " <folium.vector_layers.CircleMarker at 0x7fb9e45ae3c8>,\n",
       " <folium.vector_layers.CircleMarker at 0x7fb9e45ae400>,\n",
       " <folium.vector_layers.CircleMarker at 0x7fb9e45ae438>,\n",
       " <folium.vector_layers.CircleMarker at 0x7fb9e45ae470>,\n",
       " <folium.vector_layers.CircleMarker at 0x7fb9e45ae4a8>,\n",
       " <folium.vector_layers.CircleMarker at 0x7fb9e45ae4e0>,\n",
       " <folium.vector_layers.CircleMarker at 0x7fb9e45ae518>,\n",
       " <folium.vector_layers.CircleMarker at 0x7fb9e45ae550>,\n",
       " <folium.vector_layers.CircleMarker at 0x7fb9e45ae588>,\n",
       " <folium.vector_layers.CircleMarker at 0x7fb9e45ae5c0>,\n",
       " <folium.vector_layers.CircleMarker at 0x7fb9e45ae5f8>,\n",
       " <folium.vector_layers.CircleMarker at 0x7fb9e45ae630>,\n",
       " <folium.vector_layers.CircleMarker at 0x7fb9e45ae668>,\n",
       " <folium.vector_layers.CircleMarker at 0x7fb9e45ae6a0>,\n",
       " <folium.vector_layers.CircleMarker at 0x7fb9e45ae6d8>,\n",
       " <folium.vector_layers.CircleMarker at 0x7fb9e45ae710>,\n",
       " <folium.vector_layers.CircleMarker at 0x7fb9e45ae748>,\n",
       " <folium.vector_layers.CircleMarker at 0x7fb9e45ae780>,\n",
       " <folium.vector_layers.CircleMarker at 0x7fb9e45ae7b8>,\n",
       " <folium.vector_layers.CircleMarker at 0x7fb9e45ae7f0>,\n",
       " <folium.vector_layers.CircleMarker at 0x7fb9e45ae828>,\n",
       " <folium.vector_layers.CircleMarker at 0x7fb9e45ae860>,\n",
       " <folium.vector_layers.CircleMarker at 0x7fb9e45ae898>,\n",
       " <folium.vector_layers.CircleMarker at 0x7fb9e45ae8d0>,\n",
       " <folium.vector_layers.CircleMarker at 0x7fb9e45ae908>,\n",
       " <folium.vector_layers.CircleMarker at 0x7fb9e45ae940>,\n",
       " <folium.vector_layers.CircleMarker at 0x7fb9e45ae978>,\n",
       " <folium.vector_layers.CircleMarker at 0x7fb9e45ae9b0>,\n",
       " <folium.vector_layers.CircleMarker at 0x7fb9e45ae9e8>,\n",
       " <folium.vector_layers.CircleMarker at 0x7fb9e45aea20>,\n",
       " <folium.vector_layers.CircleMarker at 0x7fb9e45aea58>,\n",
       " <folium.vector_layers.CircleMarker at 0x7fb9e45aea90>,\n",
       " <folium.vector_layers.CircleMarker at 0x7fb9e45aeac8>,\n",
       " <folium.vector_layers.CircleMarker at 0x7fb9e45aeb00>,\n",
       " <folium.vector_layers.CircleMarker at 0x7fb9e45aeb38>,\n",
       " <folium.vector_layers.CircleMarker at 0x7fb9e45aeb70>,\n",
       " <folium.vector_layers.CircleMarker at 0x7fb9e45aeba8>,\n",
       " <folium.vector_layers.CircleMarker at 0x7fb9e45aebe0>,\n",
       " <folium.vector_layers.CircleMarker at 0x7fb9e45aec18>,\n",
       " <folium.vector_layers.CircleMarker at 0x7fb9e45aec50>,\n",
       " <folium.vector_layers.CircleMarker at 0x7fb9e45aec88>,\n",
       " <folium.vector_layers.CircleMarker at 0x7fb9e45aecc0>,\n",
       " <folium.vector_layers.CircleMarker at 0x7fb9e45aecf8>,\n",
       " <folium.vector_layers.CircleMarker at 0x7fb9e45aed30>,\n",
       " <folium.vector_layers.CircleMarker at 0x7fb9e45aed68>,\n",
       " <folium.vector_layers.CircleMarker at 0x7fb9e45aeda0>,\n",
       " <folium.vector_layers.CircleMarker at 0x7fb9e45aedd8>,\n",
       " <folium.vector_layers.CircleMarker at 0x7fb9e45aee10>,\n",
       " <folium.vector_layers.CircleMarker at 0x7fb9e45aee48>,\n",
       " <folium.vector_layers.CircleMarker at 0x7fb9e45aee80>,\n",
       " <folium.vector_layers.CircleMarker at 0x7fb9e45aeeb8>,\n",
       " <folium.vector_layers.CircleMarker at 0x7fb9e45aeef0>,\n",
       " <folium.vector_layers.CircleMarker at 0x7fb9e45aef28>,\n",
       " <folium.vector_layers.CircleMarker at 0x7fb9e45aef60>,\n",
       " <folium.vector_layers.CircleMarker at 0x7fb9e45aef98>,\n",
       " <folium.vector_layers.CircleMarker at 0x7fb9e45aefd0>,\n",
       " <folium.vector_layers.CircleMarker at 0x7fb9e45ae048>,\n",
       " <folium.vector_layers.CircleMarker at 0x7fb9e45ba080>,\n",
       " <folium.vector_layers.CircleMarker at 0x7fb9e45ba0b8>,\n",
       " <folium.vector_layers.CircleMarker at 0x7fb9e45ba0f0>,\n",
       " <folium.vector_layers.CircleMarker at 0x7fb9e45ba128>,\n",
       " <folium.vector_layers.CircleMarker at 0x7fb9e45ba160>,\n",
       " <folium.vector_layers.CircleMarker at 0x7fb9e45ba198>,\n",
       " <folium.vector_layers.CircleMarker at 0x7fb9e45ba1d0>,\n",
       " <folium.vector_layers.CircleMarker at 0x7fb9e45ba208>,\n",
       " <folium.vector_layers.CircleMarker at 0x7fb9e45ba240>,\n",
       " <folium.vector_layers.CircleMarker at 0x7fb9e45ba278>,\n",
       " <folium.vector_layers.CircleMarker at 0x7fb9e45ba2b0>,\n",
       " <folium.vector_layers.CircleMarker at 0x7fb9e45ba2e8>,\n",
       " <folium.vector_layers.CircleMarker at 0x7fb9e45ba320>,\n",
       " <folium.vector_layers.CircleMarker at 0x7fb9e45ba358>,\n",
       " <folium.vector_layers.CircleMarker at 0x7fb9e45ba390>,\n",
       " <folium.vector_layers.CircleMarker at 0x7fb9e45ba3c8>,\n",
       " <folium.vector_layers.CircleMarker at 0x7fb9e45ba400>,\n",
       " <folium.vector_layers.CircleMarker at 0x7fb9e45ba438>,\n",
       " <folium.vector_layers.CircleMarker at 0x7fb9e45ba470>,\n",
       " <folium.vector_layers.CircleMarker at 0x7fb9e45ba4a8>,\n",
       " <folium.vector_layers.CircleMarker at 0x7fb9e45ba4e0>,\n",
       " <folium.vector_layers.CircleMarker at 0x7fb9e45ba518>,\n",
       " <folium.vector_layers.CircleMarker at 0x7fb9e45ba550>,\n",
       " <folium.vector_layers.CircleMarker at 0x7fb9e45ba588>,\n",
       " <folium.vector_layers.CircleMarker at 0x7fb9e45ba5c0>,\n",
       " <folium.vector_layers.CircleMarker at 0x7fb9e45ba5f8>,\n",
       " <folium.vector_layers.CircleMarker at 0x7fb9e45ba630>,\n",
       " <folium.vector_layers.CircleMarker at 0x7fb9e45ba668>,\n",
       " <folium.vector_layers.CircleMarker at 0x7fb9e45ba6a0>,\n",
       " <folium.vector_layers.CircleMarker at 0x7fb9e45ba6d8>,\n",
       " <folium.vector_layers.CircleMarker at 0x7fb9e45ba710>,\n",
       " <folium.vector_layers.CircleMarker at 0x7fb9e45ba748>,\n",
       " <folium.vector_layers.CircleMarker at 0x7fb9e45ba780>,\n",
       " <folium.vector_layers.CircleMarker at 0x7fb9e45ba7b8>,\n",
       " <folium.vector_layers.CircleMarker at 0x7fb9e45ba7f0>,\n",
       " <folium.vector_layers.CircleMarker at 0x7fb9e45ba828>,\n",
       " <folium.vector_layers.CircleMarker at 0x7fb9e45ba860>,\n",
       " <folium.vector_layers.CircleMarker at 0x7fb9e45ba898>,\n",
       " <folium.vector_layers.CircleMarker at 0x7fb9e45ba8d0>,\n",
       " <folium.vector_layers.CircleMarker at 0x7fb9e45ba908>,\n",
       " <folium.vector_layers.CircleMarker at 0x7fb9e45ba940>,\n",
       " <folium.vector_layers.CircleMarker at 0x7fb9e45ba978>,\n",
       " <folium.vector_layers.CircleMarker at 0x7fb9e45ba9b0>,\n",
       " <folium.vector_layers.CircleMarker at 0x7fb9e45ba9e8>,\n",
       " <folium.vector_layers.CircleMarker at 0x7fb9e45baa20>,\n",
       " <folium.vector_layers.CircleMarker at 0x7fb9e45baa58>,\n",
       " <folium.vector_layers.CircleMarker at 0x7fb9e45baa90>,\n",
       " <folium.vector_layers.CircleMarker at 0x7fb9e45baac8>,\n",
       " <folium.vector_layers.CircleMarker at 0x7fb9e45bab00>,\n",
       " <folium.vector_layers.CircleMarker at 0x7fb9e45bab38>,\n",
       " <folium.vector_layers.CircleMarker at 0x7fb9e45bab70>,\n",
       " <folium.vector_layers.CircleMarker at 0x7fb9e45baba8>,\n",
       " <folium.vector_layers.CircleMarker at 0x7fb9e45babe0>,\n",
       " <folium.vector_layers.CircleMarker at 0x7fb9e45bac18>,\n",
       " <folium.vector_layers.CircleMarker at 0x7fb9e45bac50>,\n",
       " <folium.vector_layers.CircleMarker at 0x7fb9e45bac88>,\n",
       " <folium.vector_layers.CircleMarker at 0x7fb9e45bacc0>,\n",
       " <folium.vector_layers.CircleMarker at 0x7fb9e45bacf8>,\n",
       " <folium.vector_layers.CircleMarker at 0x7fb9e45bad30>,\n",
       " <folium.vector_layers.CircleMarker at 0x7fb9e45bad68>,\n",
       " <folium.vector_layers.CircleMarker at 0x7fb9e45bada0>,\n",
       " <folium.vector_layers.CircleMarker at 0x7fb9e45badd8>,\n",
       " <folium.vector_layers.CircleMarker at 0x7fb9e45bae10>,\n",
       " <folium.vector_layers.CircleMarker at 0x7fb9e45bae48>,\n",
       " <folium.vector_layers.CircleMarker at 0x7fb9e45bae80>,\n",
       " <folium.vector_layers.CircleMarker at 0x7fb9e45baeb8>,\n",
       " <folium.vector_layers.CircleMarker at 0x7fb9e45baef0>,\n",
       " <folium.vector_layers.CircleMarker at 0x7fb9e45baf28>,\n",
       " <folium.vector_layers.CircleMarker at 0x7fb9e45baf60>,\n",
       " <folium.vector_layers.CircleMarker at 0x7fb9e45baf98>,\n",
       " <folium.vector_layers.CircleMarker at 0x7fb9e45bafd0>,\n",
       " <folium.vector_layers.CircleMarker at 0x7fb9e45ba048>,\n",
       " <folium.vector_layers.CircleMarker at 0x7fb9e45c9080>,\n",
       " <folium.vector_layers.CircleMarker at 0x7fb9e45c90b8>,\n",
       " <folium.vector_layers.CircleMarker at 0x7fb9e45c90f0>,\n",
       " <folium.vector_layers.CircleMarker at 0x7fb9e45c9128>,\n",
       " <folium.vector_layers.CircleMarker at 0x7fb9e45c9160>,\n",
       " <folium.vector_layers.CircleMarker at 0x7fb9e45c9198>,\n",
       " <folium.vector_layers.CircleMarker at 0x7fb9e45c91d0>,\n",
       " <folium.vector_layers.CircleMarker at 0x7fb9e45c9208>,\n",
       " <folium.vector_layers.CircleMarker at 0x7fb9e45c9240>,\n",
       " <folium.vector_layers.CircleMarker at 0x7fb9e45c9278>,\n",
       " <folium.vector_layers.CircleMarker at 0x7fb9e45c92b0>,\n",
       " <folium.vector_layers.CircleMarker at 0x7fb9e45c92e8>,\n",
       " <folium.vector_layers.CircleMarker at 0x7fb9e45c9320>,\n",
       " <folium.vector_layers.CircleMarker at 0x7fb9e45c9358>,\n",
       " <folium.vector_layers.CircleMarker at 0x7fb9e45c9390>,\n",
       " <folium.vector_layers.CircleMarker at 0x7fb9e45c93c8>,\n",
       " <folium.vector_layers.CircleMarker at 0x7fb9e45c9400>,\n",
       " <folium.vector_layers.CircleMarker at 0x7fb9e45c9438>,\n",
       " <folium.vector_layers.CircleMarker at 0x7fb9e45c9470>,\n",
       " <folium.vector_layers.CircleMarker at 0x7fb9e45c94a8>,\n",
       " <folium.vector_layers.CircleMarker at 0x7fb9e45c94e0>,\n",
       " <folium.vector_layers.CircleMarker at 0x7fb9e45c9518>,\n",
       " <folium.vector_layers.CircleMarker at 0x7fb9e45c9550>,\n",
       " <folium.vector_layers.CircleMarker at 0x7fb9e45c9588>,\n",
       " <folium.vector_layers.CircleMarker at 0x7fb9e45c95c0>,\n",
       " <folium.vector_layers.CircleMarker at 0x7fb9e45c95f8>,\n",
       " <folium.vector_layers.CircleMarker at 0x7fb9e45c9630>,\n",
       " <folium.vector_layers.CircleMarker at 0x7fb9e45c9668>,\n",
       " <folium.vector_layers.CircleMarker at 0x7fb9e45c96a0>,\n",
       " <folium.vector_layers.CircleMarker at 0x7fb9e45c96d8>,\n",
       " <folium.vector_layers.CircleMarker at 0x7fb9e45c9710>,\n",
       " <folium.vector_layers.CircleMarker at 0x7fb9e45c9748>,\n",
       " <folium.vector_layers.CircleMarker at 0x7fb9e45c9780>,\n",
       " <folium.vector_layers.CircleMarker at 0x7fb9e45c97b8>,\n",
       " <folium.vector_layers.CircleMarker at 0x7fb9e45c97f0>,\n",
       " <folium.vector_layers.CircleMarker at 0x7fb9e45c9828>,\n",
       " <folium.vector_layers.CircleMarker at 0x7fb9e45c9860>,\n",
       " <folium.vector_layers.CircleMarker at 0x7fb9e45c9898>,\n",
       " <folium.vector_layers.CircleMarker at 0x7fb9e45c98d0>,\n",
       " <folium.vector_layers.CircleMarker at 0x7fb9e45c9908>,\n",
       " <folium.vector_layers.CircleMarker at 0x7fb9e45c9940>,\n",
       " <folium.vector_layers.CircleMarker at 0x7fb9e45c9978>,\n",
       " <folium.vector_layers.CircleMarker at 0x7fb9e45c99b0>,\n",
       " <folium.vector_layers.CircleMarker at 0x7fb9e45c99e8>,\n",
       " <folium.vector_layers.CircleMarker at 0x7fb9e45c9a20>,\n",
       " <folium.vector_layers.CircleMarker at 0x7fb9e45c9a58>,\n",
       " <folium.vector_layers.CircleMarker at 0x7fb9e45c9a90>,\n",
       " <folium.vector_layers.CircleMarker at 0x7fb9e45c9ac8>,\n",
       " <folium.vector_layers.CircleMarker at 0x7fb9e45c9b00>,\n",
       " <folium.vector_layers.CircleMarker at 0x7fb9e45c9b38>,\n",
       " <folium.vector_layers.CircleMarker at 0x7fb9e45c9b70>,\n",
       " <folium.vector_layers.CircleMarker at 0x7fb9e45c9ba8>,\n",
       " <folium.vector_layers.CircleMarker at 0x7fb9e45c9be0>,\n",
       " <folium.vector_layers.CircleMarker at 0x7fb9e45c9c18>]"
      ]
     },
     "execution_count": 54,
     "metadata": {},
     "output_type": "execute_result"
    }
   ],
   "source": [
    "map_with_markers"
   ]
  },
  {
   "cell_type": "markdown",
   "metadata": {},
   "source": [
    "### Using Nearest Neighbors"
   ]
  },
  {
   "cell_type": "markdown",
   "metadata": {},
   "source": [
    "Ok, let's write a function that given a latitude and longitude will predict the distance for us.  We'll do this by first finding the nearest trips given a latitude and longitude. "
   ]
  },
  {
   "cell_type": "markdown",
   "metadata": {},
   "source": [
    "Here we once again apply the nearest neighbors formula. As a first step, write a function named `distance_location` that calculates the distance in pickup location between two trips."
   ]
  },
  {
   "cell_type": "code",
   "execution_count": null,
   "metadata": {},
   "outputs": [],
   "source": [
    "import math\n",
    "\n",
    "def distance_location(selected_trip, neighbor_trip):\n",
    "    pass"
   ]
  },
  {
   "cell_type": "code",
   "execution_count": null,
   "metadata": {},
   "outputs": [],
   "source": [
    "first_trip = {'pickup_latitude': 40.64499, 'pickup_longitude': -73.78115, 'trip_distance': 18.38}\n",
    "second_trip = {'pickup_latitude': 40.766931, 'pickup_longitude': -73.982098, 'trip_distance': 1.3}\n",
    "distance_first_and_second = distance_location(first_trip, second_trip)\n",
    "\n",
    "distance_first_and_second and round(distance_first_and_second, 3) # 0.235"
   ]
  },
  {
   "cell_type": "markdown",
   "metadata": {},
   "source": [
    "Ok, next write a function called `distance_between_neighbors` that adds a new key-value pair, called `distance_from_selected`, that calculates the distance of the `neighbor_trip` from the `selected_trip`."
   ]
  },
  {
   "cell_type": "code",
   "execution_count": null,
   "metadata": {},
   "outputs": [],
   "source": [
    "def distance_between_neighbors(selected_trip, neighbor_trip):\n",
    "    pass"
   ]
  },
  {
   "cell_type": "code",
   "execution_count": null,
   "metadata": {},
   "outputs": [],
   "source": [
    "distance_between_neighbors(first_trip, second_trip)\n",
    "\n",
    "# {'distance_from_selected': 0.23505256047318146,\n",
    "#  'pickup_latitude': 40.766931,\n",
    "#  'pickup_longitude': -73.982098,\n",
    "#  'trip_distance': 1.3}"
   ]
  },
  {
   "cell_type": "markdown",
   "metadata": {},
   "source": [
    "Ok, now our `neighbor_trip` has another attribute called `distance_from_selected`, that indicates the distance from the `neighbor_trip`'s pickup location from the `selected_trip`."
   ]
  },
  {
   "cell_type": "markdown",
   "metadata": {},
   "source": [
    "> ** Understand the data:** Our dictionary now has a few attributes, two of which say distance.  Let's make sure we understand the difference. \n",
    "> * **`distance_from_selected`:** This is our calculation of the distance of the neighbor's pickup location from the selected trip.\n",
    "> * **`trip_distance`:** This is the attribute we were provided initially.  It tells us the length of the neighbor's taxi trip from pickup to drop-off.  "
   ]
  },
  {
   "cell_type": "markdown",
   "metadata": {},
   "source": [
    "Next, write a function called `distance_all` that provided a list of neighbors, returns each of those neighbors with their respective `distance_from_selected` numbers."
   ]
  },
  {
   "cell_type": "code",
   "execution_count": null,
   "metadata": {},
   "outputs": [],
   "source": [
    "def distance_all(selected_individual, neighbors):\n",
    "    pass"
   ]
  },
  {
   "cell_type": "code",
   "execution_count": null,
   "metadata": {},
   "outputs": [],
   "source": [
    "cleaned_trips and distance_all(first_trip, cleaned_trips[0:4])"
   ]
  },
  {
   "cell_type": "markdown",
   "metadata": {},
   "source": [
    "Now write the nearest neighbors formula to calculate the distance of the `selected_trip` from all of the `cleaned_trips` in our dataset.  If no number is provided, it should return the top 3 neighbors."
   ]
  },
  {
   "cell_type": "code",
   "execution_count": null,
   "metadata": {},
   "outputs": [],
   "source": [
    "def nearest_neighbors(selected_trip, trips, number = 3):\n",
    "    pass"
   ]
  },
  {
   "cell_type": "code",
   "execution_count": null,
   "metadata": {},
   "outputs": [],
   "source": [
    "new_trip = {'pickup_latitude': 40.64499,\n",
    "'pickup_longitude': -73.78115,\n",
    "'trip_distance': 18.38}\n",
    "\n",
    "nearest_three_neighbors = nearest_neighbors(new_trip, cleaned_trips or [], number = 3)\n",
    "nearest_three_neighbors\n",
    "# [{'distance_from_selected': 0.0004569288784918792,\n",
    "#   'pickup_latitude': 40.64483,\n",
    "#   'pickup_longitude': -73.781578,\n",
    "#   'trip_distance': 7.78},\n",
    "#  {'distance_from_selected': 0.0011292165425673159,\n",
    "#   'pickup_latitude': 40.644657,\n",
    "#   'pickup_longitude': -73.782229,\n",
    "#   'trip_distance': 12.7},\n",
    "#  {'distance_from_selected': 0.0042359798158141185,\n",
    "#   'pickup_latitude': 40.648509,\n",
    "#   'pickup_longitude': -73.783508,\n",
    "#   'trip_distance': 17.3}]"
   ]
  },
  {
   "cell_type": "markdown",
   "metadata": {},
   "source": [
    "Ok great! Now that we can provide a new trip location, and find the distances of the three nearest trips, we can take  calculate an estimate of the trip distance for that new trip location.  \n",
    "\n",
    "We do so simply by calculating the average of it's nearest neighbors."
   ]
  },
  {
   "cell_type": "code",
   "execution_count": null,
   "metadata": {},
   "outputs": [],
   "source": [
    "import statistics\n",
    "def mean_distance(neighbors):\n",
    "    nearest_distances = list(map(lambda neighbor: neighbor['trip_distance'], neighbors))\n",
    "    return round(statistics.mean(nearest_distances), 3)\n",
    "\n",
    "nearest_three_neighbors = nearest_neighbors(new_trip, cleaned_trips or [], number = 3)\n",
    "distance_estimate_of_selected_trip = mean_distance(nearest_three_neighbors) # 12.593\n",
    "distance_estimate_of_selected_trip"
   ]
  },
  {
   "cell_type": "markdown",
   "metadata": {},
   "source": [
    "### Choosing the correct number of neighbors"
   ]
  },
  {
   "cell_type": "markdown",
   "metadata": {},
   "source": [
    "Now, as we know from the last lesson, one tricky element is to determine how many neighbors to choose, our $k$ value,  before calculating the average.  We want to choose our value of $k$ such that it properly matches actual data, and so that it applies to new data.  There are fancy formulas to ensure that we **train** our algorithm so that our formula is optimized for all data, but here let's see different $k$ values manually.  This is the gist of choosing our $k$ value:\n",
    "\n",
    "* If we choose a $k$ value too low, our formula will be too heavily influenced by a single neighbor, whereas if our $k$ value is too high, we will be choosing so many neighbors that our nearest neighbors formula will not be adjust enough according to locations.\n",
    "\n",
    "Ok, let's experiment with this."
   ]
  },
  {
   "cell_type": "markdown",
   "metadata": {},
   "source": [
    "First, let's choose a midtown location, to see what the trip distance would be.  A Google search reveals the coordinates of 51st and 7th avenue to be the following."
   ]
  },
  {
   "cell_type": "code",
   "execution_count": null,
   "metadata": {},
   "outputs": [],
   "source": [
    "midtown_trip = dict(pickup_latitude=40.761710, pickup_longitude=-73.982760)"
   ]
  },
  {
   "cell_type": "code",
   "execution_count": null,
   "metadata": {},
   "outputs": [],
   "source": [
    "seven_closest = nearest_neighbors(midtown_trip, cleaned_trips, number = 7)\n",
    "seven_closest\n",
    "# [{'trip_distance': 0.58,\n",
    "#   'pickup_latitude': 40.761372,\n",
    "#   'pickup_longitude': -73.982602,\n",
    "#   'distance_from_selected': 0.00037310588309379025},\n",
    "#  {'trip_distance': 0.8,\n",
    "#   'pickup_latitude': 40.762444,\n",
    "#   'pickup_longitude': -73.98244,\n",
    "#   'distance_from_selected': 0.00080072217404248},\n",
    "#  {'trip_distance': 1.4,\n",
    "#   'pickup_latitude': 40.762767,\n",
    "#   'pickup_longitude': -73.982293,\n",
    "#   'distance_from_selected': 0.0011555682584735844},\n",
    "#  {'trip_distance': 8.3,\n",
    "#   'pickup_latitude': 40.762868,\n",
    "#   'pickup_longitude': -73.983233,\n",
    "#   'distance_from_selected': 0.0012508768924205918},\n",
    "#  {'trip_distance': 1.26,\n",
    "#   'pickup_latitude': 40.760057,\n",
    "#   'pickup_longitude': -73.983502,\n",
    "#   'distance_from_selected': 0.0018118976240381972},\n",
    "#  {'trip_distance': 0.0,\n",
    "#   'pickup_latitude': 40.760644,\n",
    "#   'pickup_longitude': -73.984531,\n",
    "#   'distance_from_selected': 0.002067074502774709},\n",
    "#  {'trip_distance': 1.72,\n",
    "#   'pickup_latitude': 40.762107,\n",
    "#   'pickup_longitude': -73.98479,\n",
    "#   'distance_from_selected': 0.0020684557041472677}]"
   ]
  },
  {
   "cell_type": "markdown",
   "metadata": {},
   "source": [
    "Looking at the `distance_from_selected` it appears that our our trips are still fairly close to our selected trip.  Notice that most of the data is within a distance of .002 away, so going to the top 7 nearest neighbors didn't seem to give us neighbors too far from each other, which is a good sign.\n",
    "\n",
    "Still, it's hard to know what distance in latitude and longitude really look like, so let's map the data. "
   ]
  },
  {
   "cell_type": "code",
   "execution_count": null,
   "metadata": {},
   "outputs": [],
   "source": [
    "midtown_location = location(midtown_trip) # [40.76171, -73.98276]\n",
    "midtown_map = map_from(midtown_location, 16)\n",
    "closest_markers = markers_from_trips(seven_closest)\n",
    "\n",
    "add_markers(closest_markers, midtown_map)"
   ]
  },
  {
   "cell_type": "markdown",
   "metadata": {},
   "source": [
    "Ok.  These locations stay fairly close to our estimated location of 51st street and 7th Avenue.  So they could be a good estimate of a trip distance."
   ]
  },
  {
   "cell_type": "code",
   "execution_count": null,
   "metadata": {},
   "outputs": [],
   "source": [
    "mean_distance(seven_closest) # 2.009"
   ]
  },
  {
   "cell_type": "markdown",
   "metadata": {},
   "source": [
    "Ok, now let's try a different location"
   ]
  },
  {
   "cell_type": "code",
   "execution_count": null,
   "metadata": {},
   "outputs": [],
   "source": [
    "charging_bull_closest = nearest_neighbors({'pickup_latitude': 40.7049, 'pickup_longitude': -74.0137}, cleaned_trips, number = 12)"
   ]
  },
  {
   "cell_type": "code",
   "execution_count": null,
   "metadata": {
    "scrolled": true
   },
   "outputs": [],
   "source": [
    "mean_distance(charging_bull_closest) # 3.145"
   ]
  },
  {
   "cell_type": "markdown",
   "metadata": {},
   "source": [
    "Ok, so there appears to be a significant difference between choosing a location near Times Square versus choosing a location at Wall Street."
   ]
  },
  {
   "cell_type": "markdown",
   "metadata": {},
   "source": [
    "### Summary"
   ]
  },
  {
   "cell_type": "markdown",
   "metadata": {},
   "source": [
    "In this lab, we used the nearest neighbors function to predict the length of a taxi ride.  To do so, we selected a location, then found a number of taxi rides closest to that location, and finally took the average trip lengths of the nearest taxi rides to find an estimate of the new ride's trip length.  You can see that even with just a little bit of math and programming we can begin to make meaningful predictions with data."
   ]
  }
 ],
 "metadata": {
  "kernelspec": {
   "display_name": "Python 3",
   "language": "python",
   "name": "python3"
  },
  "language_info": {
   "codemirror_mode": {
    "name": "ipython",
    "version": 3
   },
   "file_extension": ".py",
   "mimetype": "text/x-python",
   "name": "python",
   "nbconvert_exporter": "python",
   "pygments_lexer": "ipython3",
   "version": "3.6.9"
  }
 },
 "nbformat": 4,
 "nbformat_minor": 2
}
